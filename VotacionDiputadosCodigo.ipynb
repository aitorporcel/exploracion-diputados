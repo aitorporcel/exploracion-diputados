{
  "nbformat": 4,
  "nbformat_minor": 0,
  "metadata": {
    "colab": {
      "name": "VotacionDiputadosCodigo.ipynb",
      "provenance": [],
      "collapsed_sections": []
    },
    "kernelspec": {
      "name": "python3",
      "display_name": "Python 3"
    },
    "language_info": {
      "name": "python"
    },
    "widgets": {
      "application/vnd.jupyter.widget-state+json": {
        "58a0c9e49d8340db90391efd1124cc2d": {
          "model_module": "@jupyter-widgets/controls",
          "model_name": "IntProgressModel",
          "model_module_version": "1.5.0",
          "state": {
            "_view_name": "ProgressView",
            "style": "IPY_MODEL_d7864aed032d40fc8feae77b780974f0",
            "_dom_classes": [],
            "description": "Processing: ",
            "_model_name": "IntProgressModel",
            "bar_style": "",
            "max": 3,
            "_view_module": "@jupyter-widgets/controls",
            "_model_module_version": "1.5.0",
            "value": 3,
            "_view_count": null,
            "_view_module_version": "1.5.0",
            "orientation": "horizontal",
            "min": 0,
            "description_tooltip": null,
            "_model_module": "@jupyter-widgets/controls",
            "layout": "IPY_MODEL_960c92e641b6418fa6ad9f4fcf88d140"
          }
        },
        "d7864aed032d40fc8feae77b780974f0": {
          "model_module": "@jupyter-widgets/controls",
          "model_name": "ProgressStyleModel",
          "model_module_version": "1.5.0",
          "state": {
            "_view_name": "StyleView",
            "_model_name": "ProgressStyleModel",
            "description_width": "",
            "_view_module": "@jupyter-widgets/base",
            "_model_module_version": "1.5.0",
            "_view_count": null,
            "_view_module_version": "1.2.0",
            "bar_color": null,
            "_model_module": "@jupyter-widgets/controls"
          }
        },
        "960c92e641b6418fa6ad9f4fcf88d140": {
          "model_module": "@jupyter-widgets/base",
          "model_name": "LayoutModel",
          "model_module_version": "1.2.0",
          "state": {
            "_view_name": "LayoutView",
            "grid_template_rows": null,
            "right": null,
            "justify_content": null,
            "_view_module": "@jupyter-widgets/base",
            "overflow": null,
            "_model_module_version": "1.2.0",
            "_view_count": null,
            "flex_flow": null,
            "width": null,
            "min_width": null,
            "border": null,
            "align_items": null,
            "bottom": null,
            "_model_module": "@jupyter-widgets/base",
            "top": null,
            "grid_column": null,
            "overflow_y": null,
            "overflow_x": null,
            "grid_auto_flow": null,
            "grid_area": null,
            "grid_template_columns": null,
            "flex": null,
            "_model_name": "LayoutModel",
            "justify_items": null,
            "grid_row": null,
            "max_height": null,
            "align_content": null,
            "visibility": null,
            "align_self": null,
            "height": null,
            "min_height": null,
            "padding": null,
            "grid_auto_rows": null,
            "grid_gap": null,
            "max_width": null,
            "order": null,
            "_view_module_version": "1.2.0",
            "grid_template_areas": null,
            "object_position": null,
            "object_fit": null,
            "grid_auto_columns": null,
            "margin": null,
            "display": null,
            "left": null
          }
        },
        "609b83d619df4e44978c97816c628c03": {
          "model_module": "@jupyter-widgets/controls",
          "model_name": "TextModel",
          "model_module_version": "1.5.0",
          "state": {
            "_view_name": "TextView",
            "style": "IPY_MODEL_b2f500f596564ec8ab095eac3897db57",
            "_dom_classes": [],
            "description": "",
            "_model_name": "TextModel",
            "placeholder": "​",
            "_view_module": "@jupyter-widgets/controls",
            "_model_module_version": "1.5.0",
            "value": "Following data types have been inferred automatically, if they are correct press enter to continue or type 'quit' otherwise.",
            "_view_count": null,
            "disabled": false,
            "_view_module_version": "1.5.0",
            "continuous_update": true,
            "description_tooltip": null,
            "_model_module": "@jupyter-widgets/controls",
            "layout": "IPY_MODEL_d6fa491061f747bbab17cfc5817f5cf0"
          }
        },
        "b2f500f596564ec8ab095eac3897db57": {
          "model_module": "@jupyter-widgets/controls",
          "model_name": "DescriptionStyleModel",
          "model_module_version": "1.5.0",
          "state": {
            "_view_name": "StyleView",
            "_model_name": "DescriptionStyleModel",
            "description_width": "",
            "_view_module": "@jupyter-widgets/base",
            "_model_module_version": "1.5.0",
            "_view_count": null,
            "_view_module_version": "1.2.0",
            "_model_module": "@jupyter-widgets/controls"
          }
        },
        "d6fa491061f747bbab17cfc5817f5cf0": {
          "model_module": "@jupyter-widgets/base",
          "model_name": "LayoutModel",
          "model_module_version": "1.2.0",
          "state": {
            "_view_name": "LayoutView",
            "grid_template_rows": null,
            "right": null,
            "justify_content": null,
            "_view_module": "@jupyter-widgets/base",
            "overflow": null,
            "_model_module_version": "1.2.0",
            "_view_count": null,
            "flex_flow": null,
            "width": "100%",
            "min_width": null,
            "border": null,
            "align_items": null,
            "bottom": null,
            "_model_module": "@jupyter-widgets/base",
            "top": null,
            "grid_column": null,
            "overflow_y": null,
            "overflow_x": null,
            "grid_auto_flow": null,
            "grid_area": null,
            "grid_template_columns": null,
            "flex": null,
            "_model_name": "LayoutModel",
            "justify_items": null,
            "grid_row": null,
            "max_height": null,
            "align_content": null,
            "visibility": null,
            "align_self": null,
            "height": null,
            "min_height": null,
            "padding": null,
            "grid_auto_rows": null,
            "grid_gap": null,
            "max_width": null,
            "order": null,
            "_view_module_version": "1.2.0",
            "grid_template_areas": null,
            "object_position": null,
            "object_fit": null,
            "grid_auto_columns": null,
            "margin": null,
            "display": null,
            "left": null
          }
        },
        "99931da2c86f40a9a9f4a2f827dfc51d": {
          "model_module": "@jupyter-widgets/controls",
          "model_name": "IntProgressModel",
          "model_module_version": "1.5.0",
          "state": {
            "_view_name": "ProgressView",
            "style": "IPY_MODEL_e8ec34d36cb8439c8da591b7c429763f",
            "_dom_classes": [],
            "description": "Processing: ",
            "_model_name": "IntProgressModel",
            "bar_style": "",
            "max": 5,
            "_view_module": "@jupyter-widgets/controls",
            "_model_module_version": "1.5.0",
            "value": 5,
            "_view_count": null,
            "_view_module_version": "1.5.0",
            "orientation": "horizontal",
            "min": 0,
            "description_tooltip": null,
            "_model_module": "@jupyter-widgets/controls",
            "layout": "IPY_MODEL_247e65df14a54fbcaab9949c4dcb3d10"
          }
        },
        "e8ec34d36cb8439c8da591b7c429763f": {
          "model_module": "@jupyter-widgets/controls",
          "model_name": "ProgressStyleModel",
          "model_module_version": "1.5.0",
          "state": {
            "_view_name": "StyleView",
            "_model_name": "ProgressStyleModel",
            "description_width": "",
            "_view_module": "@jupyter-widgets/base",
            "_model_module_version": "1.5.0",
            "_view_count": null,
            "_view_module_version": "1.2.0",
            "bar_color": null,
            "_model_module": "@jupyter-widgets/controls"
          }
        },
        "247e65df14a54fbcaab9949c4dcb3d10": {
          "model_module": "@jupyter-widgets/base",
          "model_name": "LayoutModel",
          "model_module_version": "1.2.0",
          "state": {
            "_view_name": "LayoutView",
            "grid_template_rows": null,
            "right": null,
            "justify_content": null,
            "_view_module": "@jupyter-widgets/base",
            "overflow": null,
            "_model_module_version": "1.2.0",
            "_view_count": null,
            "flex_flow": null,
            "width": null,
            "min_width": null,
            "border": null,
            "align_items": null,
            "bottom": null,
            "_model_module": "@jupyter-widgets/base",
            "top": null,
            "grid_column": null,
            "overflow_y": null,
            "overflow_x": null,
            "grid_auto_flow": null,
            "grid_area": null,
            "grid_template_columns": null,
            "flex": null,
            "_model_name": "LayoutModel",
            "justify_items": null,
            "grid_row": null,
            "max_height": null,
            "align_content": null,
            "visibility": null,
            "align_self": null,
            "height": null,
            "min_height": null,
            "padding": null,
            "grid_auto_rows": null,
            "grid_gap": null,
            "max_width": null,
            "order": null,
            "_view_module_version": "1.2.0",
            "grid_template_areas": null,
            "object_position": null,
            "object_fit": null,
            "grid_auto_columns": null,
            "margin": null,
            "display": null,
            "left": null
          }
        }
      }
    }
  },
  "cells": [
    {
      "cell_type": "markdown",
      "metadata": {
        "id": "qk2sHgAdqEHs"
      },
      "source": [
        "# Análisis de votaciones de los diputados argentinos usando aprendizaje no supervisado con Pycaret"
      ]
    },
    {
      "cell_type": "markdown",
      "metadata": {
        "id": "SDWronfLsW-n"
      },
      "source": [
        "## Introducción"
      ]
    },
    {
      "cell_type": "markdown",
      "metadata": {
        "id": "HoaK0RYyaCHV"
      },
      "source": [
        "Ayer estaba leyendo sobre cómo 12 diputados radicales crearon un nuevo bloque, separándose de Cambiemos (https://www.ambito.com/politica/ucr/ruptura-la-una-docena-diputados-formara-su-propio-bloque-diputados-n5330249). Si bien esto no es nada nuevo en la política argentina (y seguramente tampoco en la mayoría de los países), hizo que vuelva a mi mente una pregunta ¿es posible clasificar a los diputados por su comportamiento en las votaciones independientemente del partido político por el que se presentan?\n",
        "\n",
        "En machine learning es posible realizar una primera clasificación según el tipo de aprendizaje:\n",
        "1. Aprendizaje supervisado\n",
        "2. Aprendizaje no supervisado \n",
        "3. Aprendizaje reforzado\n",
        "\n",
        "Simplificando, podemos decir que en el aprendizaje supervisado el modelo aprende a realizar un mapeo entre variables de entrada y un \"target\". Es decir que ya tenemos identificados los resultados y queremos intentar que el modelo aprenda a predecirlos.\n",
        "\n",
        "En cambio en el aprendizaje no supervisado no contamos con \"labels\" sino que dejamos que el modelo utilice las diferentes variables para extraer relaciones en los datos.\n",
        "\n",
        "Finalmente en el aprendizaje reforzado tenemos un \"agente\" que opera en un determinado entorno y que debe aprender a operar en él utilizando feedback.\n",
        "\n",
        "Este problema de diputados podría plantearse como un problema supervisado si, por ejemplo, intentásemos que el modelo prediga el partido al que pertenece en base a sus votaciones.\n",
        "\n",
        "Pero como en este caso lo que queremos ver es cómo se ubican los diputados según sus votos independientemente del partido al que representan, pareciese ser más conveniente utilizar aprendizaje no supervisado (y esto es lo que vamos a hacer).\n"
      ]
    },
    {
      "cell_type": "markdown",
      "metadata": {
        "id": "bA0YKiceenXC"
      },
      "source": [
        "Ya tenemos una idea de qué queremos hacer, ahora nos faltan los datos. Después de un googleo rápido encontré que la \"Honorable Cámara de Diputados de la Nación\" tiene una página de datos abiertos y que podemos explorar las votaciones nominales de los periodos 129 a 137: https://datos.hcdn.gob.ar/dataset/votaciones_nominales. Como una primera aproximación vamos a trabajar con los datos del periodo 137. Como queremos hacer un prototipo rápido, vamos a utilizar Pycaret para realizar el modelo.\n"
      ]
    },
    {
      "cell_type": "markdown",
      "metadata": {
        "id": "N0EtQPC2sbJu"
      },
      "source": [
        "Pycaret es una librería de Python open source, que permite tanto preparar los datos como armar un modelo en cuestión de minutos, con muy pocas líneas de código. Es una librería muy interesante para experimentar e iterar rápidamente, para tener una primera idea de qué podría funcionar y en qué concentrarse para mejorar los resultados."
      ]
    },
    {
      "cell_type": "markdown",
      "metadata": {
        "id": "Pa-KxDUWfcJb"
      },
      "source": [
        "Y con esto terminamos la introducción y nos \"ponemos manos a la obra\". En el siguiente enlace pueden encontrar el notebook con el codigo:  https://github.com/aitorporcel/exploracion-diputados"
      ]
    },
    {
      "cell_type": "markdown",
      "metadata": {
        "id": "7cX7tsCwMFKr"
      },
      "source": [
        "## Instalando pycaret"
      ]
    },
    {
      "cell_type": "markdown",
      "metadata": {
        "id": "0W25iMDifpzs"
      },
      "source": [
        "El primer paso es instalar pycaret. En este caso estoy realizando la exploración en google colab, pero si lo están corriendo localmente es recomendable que generen un nuevo entorno virtual antes de instalar las librerías."
      ]
    },
    {
      "cell_type": "code",
      "metadata": {
        "id": "HvlJAjY9L_mw",
        "colab": {
          "base_uri": "https://localhost:8080/"
        },
        "outputId": "e40c09a6-4358-41e2-a6e8-f310997c742c"
      },
      "source": [
        "!pip install pycaret"
      ],
      "execution_count": 1,
      "outputs": [
        {
          "output_type": "stream",
          "name": "stdout",
          "text": [
            "Collecting pycaret\n",
            "  Downloading pycaret-2.3.5-py3-none-any.whl (288 kB)\n",
            "\u001b[K     |████████████████████████████████| 288 kB 15.0 MB/s \n",
            "\u001b[?25hCollecting scikit-learn==0.23.2\n",
            "  Downloading scikit_learn-0.23.2-cp37-cp37m-manylinux1_x86_64.whl (6.8 MB)\n",
            "\u001b[K     |████████████████████████████████| 6.8 MB 68.1 MB/s \n",
            "\u001b[?25hRequirement already satisfied: numpy==1.19.5 in /usr/local/lib/python3.7/dist-packages (from pycaret) (1.19.5)\n",
            "Requirement already satisfied: spacy<2.4.0 in /usr/local/lib/python3.7/dist-packages (from pycaret) (2.2.4)\n",
            "Collecting mlflow\n",
            "  Downloading mlflow-1.22.0-py3-none-any.whl (15.5 MB)\n",
            "\u001b[K     |████████████████████████████████| 15.5 MB 58.0 MB/s \n",
            "\u001b[?25hRequirement already satisfied: plotly>=4.4.1 in /usr/local/lib/python3.7/dist-packages (from pycaret) (4.4.1)\n",
            "Requirement already satisfied: yellowbrick>=1.0.1 in /usr/local/lib/python3.7/dist-packages (from pycaret) (1.3.post1)\n",
            "Collecting imbalanced-learn==0.7.0\n",
            "  Downloading imbalanced_learn-0.7.0-py3-none-any.whl (167 kB)\n",
            "\u001b[K     |████████████████████████████████| 167 kB 71.8 MB/s \n",
            "\u001b[?25hRequirement already satisfied: ipywidgets in /usr/local/lib/python3.7/dist-packages (from pycaret) (7.6.5)\n",
            "Requirement already satisfied: pandas in /usr/local/lib/python3.7/dist-packages (from pycaret) (1.1.5)\n",
            "Requirement already satisfied: cufflinks>=0.17.0 in /usr/local/lib/python3.7/dist-packages (from pycaret) (0.17.3)\n",
            "Collecting mlxtend>=0.17.0\n",
            "  Downloading mlxtend-0.19.0-py2.py3-none-any.whl (1.3 MB)\n",
            "\u001b[K     |████████████████████████████████| 1.3 MB 72.6 MB/s \n",
            "\u001b[?25hCollecting pandas-profiling>=2.8.0\n",
            "  Downloading pandas_profiling-3.1.0-py2.py3-none-any.whl (261 kB)\n",
            "\u001b[K     |████████████████████████████████| 261 kB 68.6 MB/s \n",
            "\u001b[?25hCollecting pyLDAvis\n",
            "  Downloading pyLDAvis-3.3.1.tar.gz (1.7 MB)\n",
            "\u001b[K     |████████████████████████████████| 1.7 MB 74.0 MB/s \n",
            "\u001b[?25h  Installing build dependencies ... \u001b[?25l\u001b[?25hdone\n",
            "  Getting requirements to build wheel ... \u001b[?25l\u001b[?25hdone\n",
            "  Installing backend dependencies ... \u001b[?25l\u001b[?25hdone\n",
            "    Preparing wheel metadata ... \u001b[?25l\u001b[?25hdone\n",
            "Collecting umap-learn\n",
            "  Downloading umap-learn-0.5.2.tar.gz (86 kB)\n",
            "\u001b[K     |████████████████████████████████| 86 kB 4.9 MB/s \n",
            "\u001b[?25hCollecting Boruta\n",
            "  Downloading Boruta-0.3-py3-none-any.whl (56 kB)\n",
            "\u001b[K     |████████████████████████████████| 56 kB 3.7 MB/s \n",
            "\u001b[?25hCollecting pyod\n",
            "  Downloading pyod-0.9.5.tar.gz (113 kB)\n",
            "\u001b[K     |████████████████████████████████| 113 kB 86.7 MB/s \n",
            "\u001b[?25hRequirement already satisfied: joblib in /usr/local/lib/python3.7/dist-packages (from pycaret) (1.1.0)\n",
            "Requirement already satisfied: nltk in /usr/local/lib/python3.7/dist-packages (from pycaret) (3.2.5)\n",
            "Requirement already satisfied: gensim<4.0.0 in /usr/local/lib/python3.7/dist-packages (from pycaret) (3.6.0)\n",
            "Requirement already satisfied: textblob in /usr/local/lib/python3.7/dist-packages (from pycaret) (0.15.3)\n",
            "Requirement already satisfied: IPython in /usr/local/lib/python3.7/dist-packages (from pycaret) (5.5.0)\n",
            "Collecting scikit-plot\n",
            "  Downloading scikit_plot-0.3.7-py3-none-any.whl (33 kB)\n",
            "Requirement already satisfied: matplotlib in /usr/local/lib/python3.7/dist-packages (from pycaret) (3.2.2)\n",
            "Collecting kmodes>=0.10.1\n",
            "  Downloading kmodes-0.11.1-py2.py3-none-any.whl (19 kB)\n",
            "Collecting lightgbm>=2.3.1\n",
            "  Downloading lightgbm-3.3.1-py3-none-manylinux1_x86_64.whl (2.0 MB)\n",
            "\u001b[K     |████████████████████████████████| 2.0 MB 65.2 MB/s \n",
            "\u001b[?25hRequirement already satisfied: seaborn in /usr/local/lib/python3.7/dist-packages (from pycaret) (0.11.2)\n",
            "Requirement already satisfied: scipy<=1.5.4 in /usr/local/lib/python3.7/dist-packages (from pycaret) (1.4.1)\n",
            "Requirement already satisfied: wordcloud in /usr/local/lib/python3.7/dist-packages (from pycaret) (1.5.0)\n",
            "Requirement already satisfied: threadpoolctl>=2.0.0 in /usr/local/lib/python3.7/dist-packages (from scikit-learn==0.23.2->pycaret) (3.0.0)\n",
            "Requirement already satisfied: setuptools>=34.4.1 in /usr/local/lib/python3.7/dist-packages (from cufflinks>=0.17.0->pycaret) (57.4.0)\n",
            "Requirement already satisfied: six>=1.9.0 in /usr/local/lib/python3.7/dist-packages (from cufflinks>=0.17.0->pycaret) (1.15.0)\n",
            "Requirement already satisfied: colorlover>=0.2.1 in /usr/local/lib/python3.7/dist-packages (from cufflinks>=0.17.0->pycaret) (0.3.0)\n",
            "Requirement already satisfied: smart-open>=1.2.1 in /usr/local/lib/python3.7/dist-packages (from gensim<4.0.0->pycaret) (5.2.1)\n",
            "Requirement already satisfied: pygments in /usr/local/lib/python3.7/dist-packages (from IPython->pycaret) (2.6.1)\n",
            "Requirement already satisfied: traitlets>=4.2 in /usr/local/lib/python3.7/dist-packages (from IPython->pycaret) (5.1.1)\n",
            "Requirement already satisfied: simplegeneric>0.8 in /usr/local/lib/python3.7/dist-packages (from IPython->pycaret) (0.8.1)\n",
            "Requirement already satisfied: prompt-toolkit<2.0.0,>=1.0.4 in /usr/local/lib/python3.7/dist-packages (from IPython->pycaret) (1.0.18)\n",
            "Requirement already satisfied: pexpect in /usr/local/lib/python3.7/dist-packages (from IPython->pycaret) (4.8.0)\n",
            "Requirement already satisfied: decorator in /usr/local/lib/python3.7/dist-packages (from IPython->pycaret) (4.4.2)\n",
            "Requirement already satisfied: pickleshare in /usr/local/lib/python3.7/dist-packages (from IPython->pycaret) (0.7.5)\n",
            "Requirement already satisfied: widgetsnbextension~=3.5.0 in /usr/local/lib/python3.7/dist-packages (from ipywidgets->pycaret) (3.5.2)\n",
            "Requirement already satisfied: jupyterlab-widgets>=1.0.0 in /usr/local/lib/python3.7/dist-packages (from ipywidgets->pycaret) (1.0.2)\n",
            "Requirement already satisfied: ipython-genutils~=0.2.0 in /usr/local/lib/python3.7/dist-packages (from ipywidgets->pycaret) (0.2.0)\n",
            "Requirement already satisfied: nbformat>=4.2.0 in /usr/local/lib/python3.7/dist-packages (from ipywidgets->pycaret) (5.1.3)\n",
            "Requirement already satisfied: ipykernel>=4.5.1 in /usr/local/lib/python3.7/dist-packages (from ipywidgets->pycaret) (4.10.1)\n",
            "Requirement already satisfied: jupyter-client in /usr/local/lib/python3.7/dist-packages (from ipykernel>=4.5.1->ipywidgets->pycaret) (5.3.5)\n",
            "Requirement already satisfied: tornado>=4.0 in /usr/local/lib/python3.7/dist-packages (from ipykernel>=4.5.1->ipywidgets->pycaret) (5.1.1)\n",
            "Requirement already satisfied: wheel in /usr/local/lib/python3.7/dist-packages (from lightgbm>=2.3.1->pycaret) (0.37.0)\n",
            "Requirement already satisfied: pyparsing!=2.0.4,!=2.1.2,!=2.1.6,>=2.0.1 in /usr/local/lib/python3.7/dist-packages (from matplotlib->pycaret) (3.0.6)\n",
            "Requirement already satisfied: kiwisolver>=1.0.1 in /usr/local/lib/python3.7/dist-packages (from matplotlib->pycaret) (1.3.2)\n",
            "Requirement already satisfied: python-dateutil>=2.1 in /usr/local/lib/python3.7/dist-packages (from matplotlib->pycaret) (2.8.2)\n",
            "Requirement already satisfied: cycler>=0.10 in /usr/local/lib/python3.7/dist-packages (from matplotlib->pycaret) (0.11.0)\n",
            "Requirement already satisfied: jupyter-core in /usr/local/lib/python3.7/dist-packages (from nbformat>=4.2.0->ipywidgets->pycaret) (4.9.1)\n",
            "Requirement already satisfied: jsonschema!=2.5.0,>=2.4 in /usr/local/lib/python3.7/dist-packages (from nbformat>=4.2.0->ipywidgets->pycaret) (2.6.0)\n",
            "Requirement already satisfied: pytz>=2017.2 in /usr/local/lib/python3.7/dist-packages (from pandas->pycaret) (2018.9)\n",
            "Collecting tangled-up-in-unicode==0.1.0\n",
            "  Downloading tangled_up_in_unicode-0.1.0-py3-none-any.whl (3.1 MB)\n",
            "\u001b[K     |████████████████████████████████| 3.1 MB 62.7 MB/s \n",
            "\u001b[?25hCollecting PyYAML>=5.0.0\n",
            "  Downloading PyYAML-6.0-cp37-cp37m-manylinux_2_5_x86_64.manylinux1_x86_64.manylinux_2_12_x86_64.manylinux2010_x86_64.whl (596 kB)\n",
            "\u001b[K     |████████████████████████████████| 596 kB 74.8 MB/s \n",
            "\u001b[?25hCollecting multimethod>=1.4\n",
            "  Downloading multimethod-1.6-py3-none-any.whl (9.4 kB)\n",
            "Requirement already satisfied: markupsafe~=2.0.1 in /usr/local/lib/python3.7/dist-packages (from pandas-profiling>=2.8.0->pycaret) (2.0.1)\n",
            "Collecting phik>=0.11.1\n",
            "  Downloading phik-0.12.0-cp37-cp37m-manylinux2010_x86_64.whl (675 kB)\n",
            "\u001b[K     |████████████████████████████████| 675 kB 68.5 MB/s \n",
            "\u001b[?25hCollecting requests>=2.24.0\n",
            "  Downloading requests-2.26.0-py2.py3-none-any.whl (62 kB)\n",
            "\u001b[K     |████████████████████████████████| 62 kB 762 kB/s \n",
            "\u001b[?25hRequirement already satisfied: jinja2>=2.11.1 in /usr/local/lib/python3.7/dist-packages (from pandas-profiling>=2.8.0->pycaret) (2.11.3)\n",
            "Requirement already satisfied: tqdm>=4.48.2 in /usr/local/lib/python3.7/dist-packages (from pandas-profiling>=2.8.0->pycaret) (4.62.3)\n",
            "Collecting joblib\n",
            "  Downloading joblib-1.0.1-py3-none-any.whl (303 kB)\n",
            "\u001b[K     |████████████████████████████████| 303 kB 84.1 MB/s \n",
            "\u001b[?25hCollecting visions[type_image_path]==0.7.4\n",
            "  Downloading visions-0.7.4-py3-none-any.whl (102 kB)\n",
            "\u001b[K     |████████████████████████████████| 102 kB 11.5 MB/s \n",
            "\u001b[?25hRequirement already satisfied: missingno>=0.4.2 in /usr/local/lib/python3.7/dist-packages (from pandas-profiling>=2.8.0->pycaret) (0.5.0)\n",
            "Collecting htmlmin>=0.1.12\n",
            "  Downloading htmlmin-0.1.12.tar.gz (19 kB)\n",
            "Collecting pydantic>=1.8.1\n",
            "  Downloading pydantic-1.8.2-cp37-cp37m-manylinux2014_x86_64.whl (10.1 MB)\n",
            "\u001b[K     |████████████████████████████████| 10.1 MB 50.2 MB/s \n",
            "\u001b[?25hRequirement already satisfied: networkx>=2.4 in /usr/local/lib/python3.7/dist-packages (from visions[type_image_path]==0.7.4->pandas-profiling>=2.8.0->pycaret) (2.6.3)\n",
            "Requirement already satisfied: attrs>=19.3.0 in /usr/local/lib/python3.7/dist-packages (from visions[type_image_path]==0.7.4->pandas-profiling>=2.8.0->pycaret) (21.2.0)\n",
            "Collecting imagehash\n",
            "  Downloading ImageHash-4.2.1.tar.gz (812 kB)\n",
            "\u001b[K     |████████████████████████████████| 812 kB 76.9 MB/s \n",
            "\u001b[?25hRequirement already satisfied: Pillow in /usr/local/lib/python3.7/dist-packages (from visions[type_image_path]==0.7.4->pandas-profiling>=2.8.0->pycaret) (7.1.2)\n",
            "Collecting scipy<=1.5.4\n",
            "  Downloading scipy-1.5.4-cp37-cp37m-manylinux1_x86_64.whl (25.9 MB)\n",
            "\u001b[K     |████████████████████████████████| 25.9 MB 1.5 MB/s \n",
            "\u001b[?25hRequirement already satisfied: retrying>=1.3.3 in /usr/local/lib/python3.7/dist-packages (from plotly>=4.4.1->pycaret) (1.3.3)\n",
            "Requirement already satisfied: wcwidth in /usr/local/lib/python3.7/dist-packages (from prompt-toolkit<2.0.0,>=1.0.4->IPython->pycaret) (0.2.5)\n",
            "Requirement already satisfied: typing-extensions>=3.7.4.3 in /usr/local/lib/python3.7/dist-packages (from pydantic>=1.8.1->pandas-profiling>=2.8.0->pycaret) (3.10.0.2)\n",
            "Requirement already satisfied: urllib3<1.27,>=1.21.1 in /usr/local/lib/python3.7/dist-packages (from requests>=2.24.0->pandas-profiling>=2.8.0->pycaret) (1.24.3)\n",
            "Requirement already satisfied: charset-normalizer~=2.0.0 in /usr/local/lib/python3.7/dist-packages (from requests>=2.24.0->pandas-profiling>=2.8.0->pycaret) (2.0.8)\n",
            "Requirement already satisfied: idna<4,>=2.5 in /usr/local/lib/python3.7/dist-packages (from requests>=2.24.0->pandas-profiling>=2.8.0->pycaret) (2.10)\n",
            "Requirement already satisfied: certifi>=2017.4.17 in /usr/local/lib/python3.7/dist-packages (from requests>=2.24.0->pandas-profiling>=2.8.0->pycaret) (2021.10.8)\n",
            "Requirement already satisfied: murmurhash<1.1.0,>=0.28.0 in /usr/local/lib/python3.7/dist-packages (from spacy<2.4.0->pycaret) (1.0.6)\n",
            "Requirement already satisfied: wasabi<1.1.0,>=0.4.0 in /usr/local/lib/python3.7/dist-packages (from spacy<2.4.0->pycaret) (0.8.2)\n",
            "Requirement already satisfied: srsly<1.1.0,>=1.0.2 in /usr/local/lib/python3.7/dist-packages (from spacy<2.4.0->pycaret) (1.0.5)\n",
            "Requirement already satisfied: thinc==7.4.0 in /usr/local/lib/python3.7/dist-packages (from spacy<2.4.0->pycaret) (7.4.0)\n",
            "Requirement already satisfied: plac<1.2.0,>=0.9.6 in /usr/local/lib/python3.7/dist-packages (from spacy<2.4.0->pycaret) (1.1.3)\n",
            "Requirement already satisfied: catalogue<1.1.0,>=0.0.7 in /usr/local/lib/python3.7/dist-packages (from spacy<2.4.0->pycaret) (1.0.0)\n",
            "Requirement already satisfied: cymem<2.1.0,>=2.0.2 in /usr/local/lib/python3.7/dist-packages (from spacy<2.4.0->pycaret) (2.0.6)\n",
            "Requirement already satisfied: blis<0.5.0,>=0.4.0 in /usr/local/lib/python3.7/dist-packages (from spacy<2.4.0->pycaret) (0.4.1)\n",
            "Requirement already satisfied: preshed<3.1.0,>=3.0.2 in /usr/local/lib/python3.7/dist-packages (from spacy<2.4.0->pycaret) (3.0.6)\n",
            "Requirement already satisfied: importlib-metadata>=0.20 in /usr/local/lib/python3.7/dist-packages (from catalogue<1.1.0,>=0.0.7->spacy<2.4.0->pycaret) (4.8.2)\n",
            "Requirement already satisfied: zipp>=0.5 in /usr/local/lib/python3.7/dist-packages (from importlib-metadata>=0.20->catalogue<1.1.0,>=0.0.7->spacy<2.4.0->pycaret) (3.6.0)\n",
            "Requirement already satisfied: notebook>=4.4.1 in /usr/local/lib/python3.7/dist-packages (from widgetsnbextension~=3.5.0->ipywidgets->pycaret) (5.3.1)\n",
            "Requirement already satisfied: nbconvert in /usr/local/lib/python3.7/dist-packages (from notebook>=4.4.1->widgetsnbextension~=3.5.0->ipywidgets->pycaret) (5.6.1)\n",
            "Requirement already satisfied: Send2Trash in /usr/local/lib/python3.7/dist-packages (from notebook>=4.4.1->widgetsnbextension~=3.5.0->ipywidgets->pycaret) (1.8.0)\n",
            "Requirement already satisfied: terminado>=0.8.1 in /usr/local/lib/python3.7/dist-packages (from notebook>=4.4.1->widgetsnbextension~=3.5.0->ipywidgets->pycaret) (0.12.1)\n",
            "Requirement already satisfied: pyzmq>=13 in /usr/local/lib/python3.7/dist-packages (from jupyter-client->ipykernel>=4.5.1->ipywidgets->pycaret) (22.3.0)\n",
            "Requirement already satisfied: ptyprocess in /usr/local/lib/python3.7/dist-packages (from terminado>=0.8.1->notebook>=4.4.1->widgetsnbextension~=3.5.0->ipywidgets->pycaret) (0.7.0)\n",
            "Requirement already satisfied: PyWavelets in /usr/local/lib/python3.7/dist-packages (from imagehash->visions[type_image_path]==0.7.4->pandas-profiling>=2.8.0->pycaret) (1.2.0)\n",
            "Requirement already satisfied: sqlparse>=0.3.1 in /usr/local/lib/python3.7/dist-packages (from mlflow->pycaret) (0.4.2)\n",
            "Collecting prometheus-flask-exporter\n",
            "  Downloading prometheus_flask_exporter-0.18.6-py3-none-any.whl (17 kB)\n",
            "Requirement already satisfied: packaging in /usr/local/lib/python3.7/dist-packages (from mlflow->pycaret) (21.3)\n",
            "Collecting gitpython>=2.1.0\n",
            "  Downloading GitPython-3.1.24-py3-none-any.whl (180 kB)\n",
            "\u001b[K     |████████████████████████████████| 180 kB 91.1 MB/s \n",
            "\u001b[?25hRequirement already satisfied: cloudpickle in /usr/local/lib/python3.7/dist-packages (from mlflow->pycaret) (1.3.0)\n",
            "Requirement already satisfied: click>=7.0 in /usr/local/lib/python3.7/dist-packages (from mlflow->pycaret) (7.1.2)\n",
            "Requirement already satisfied: Flask in /usr/local/lib/python3.7/dist-packages (from mlflow->pycaret) (1.1.4)\n",
            "Requirement already satisfied: entrypoints in /usr/local/lib/python3.7/dist-packages (from mlflow->pycaret) (0.3)\n",
            "Collecting gunicorn\n",
            "  Downloading gunicorn-20.1.0-py3-none-any.whl (79 kB)\n",
            "\u001b[K     |████████████████████████████████| 79 kB 8.6 MB/s \n",
            "\u001b[?25hCollecting databricks-cli>=0.8.7\n",
            "  Downloading databricks-cli-0.16.2.tar.gz (58 kB)\n",
            "\u001b[K     |████████████████████████████████| 58 kB 5.7 MB/s \n",
            "\u001b[?25hCollecting querystring-parser\n",
            "  Downloading querystring_parser-1.2.4-py2.py3-none-any.whl (7.9 kB)\n",
            "Requirement already satisfied: protobuf>=3.7.0 in /usr/local/lib/python3.7/dist-packages (from mlflow->pycaret) (3.17.3)\n",
            "Collecting alembic<=1.4.1\n",
            "  Downloading alembic-1.4.1.tar.gz (1.1 MB)\n",
            "\u001b[K     |████████████████████████████████| 1.1 MB 84.4 MB/s \n",
            "\u001b[?25hCollecting docker>=4.0.0\n",
            "  Downloading docker-5.0.3-py2.py3-none-any.whl (146 kB)\n",
            "\u001b[K     |████████████████████████████████| 146 kB 70.7 MB/s \n",
            "\u001b[?25hRequirement already satisfied: sqlalchemy in /usr/local/lib/python3.7/dist-packages (from mlflow->pycaret) (1.4.27)\n",
            "Collecting Mako\n",
            "  Downloading Mako-1.1.6-py2.py3-none-any.whl (75 kB)\n",
            "\u001b[K     |████████████████████████████████| 75 kB 3.5 MB/s \n",
            "\u001b[?25hCollecting python-editor>=0.3\n",
            "  Downloading python_editor-1.0.4-py3-none-any.whl (4.9 kB)\n",
            "Requirement already satisfied: tabulate>=0.7.7 in /usr/local/lib/python3.7/dist-packages (from databricks-cli>=0.8.7->mlflow->pycaret) (0.8.9)\n",
            "Collecting websocket-client>=0.32.0\n",
            "  Downloading websocket_client-1.2.3-py3-none-any.whl (53 kB)\n",
            "\u001b[K     |████████████████████████████████| 53 kB 1.7 MB/s \n",
            "\u001b[?25hCollecting gitdb<5,>=4.0.1\n",
            "  Downloading gitdb-4.0.9-py3-none-any.whl (63 kB)\n",
            "\u001b[K     |████████████████████████████████| 63 kB 1.6 MB/s \n",
            "\u001b[?25hCollecting smmap<6,>=3.0.1\n",
            "  Downloading smmap-5.0.0-py3-none-any.whl (24 kB)\n",
            "Requirement already satisfied: greenlet!=0.4.17 in /usr/local/lib/python3.7/dist-packages (from sqlalchemy->mlflow->pycaret) (1.1.2)\n",
            "Requirement already satisfied: Werkzeug<2.0,>=0.15 in /usr/local/lib/python3.7/dist-packages (from Flask->mlflow->pycaret) (1.0.1)\n",
            "Requirement already satisfied: itsdangerous<2.0,>=0.24 in /usr/local/lib/python3.7/dist-packages (from Flask->mlflow->pycaret) (1.1.0)\n",
            "Requirement already satisfied: bleach in /usr/local/lib/python3.7/dist-packages (from nbconvert->notebook>=4.4.1->widgetsnbextension~=3.5.0->ipywidgets->pycaret) (4.1.0)\n",
            "Requirement already satisfied: testpath in /usr/local/lib/python3.7/dist-packages (from nbconvert->notebook>=4.4.1->widgetsnbextension~=3.5.0->ipywidgets->pycaret) (0.5.0)\n",
            "Requirement already satisfied: mistune<2,>=0.8.1 in /usr/local/lib/python3.7/dist-packages (from nbconvert->notebook>=4.4.1->widgetsnbextension~=3.5.0->ipywidgets->pycaret) (0.8.4)\n",
            "Requirement already satisfied: defusedxml in /usr/local/lib/python3.7/dist-packages (from nbconvert->notebook>=4.4.1->widgetsnbextension~=3.5.0->ipywidgets->pycaret) (0.7.1)\n",
            "Requirement already satisfied: pandocfilters>=1.4.1 in /usr/local/lib/python3.7/dist-packages (from nbconvert->notebook>=4.4.1->widgetsnbextension~=3.5.0->ipywidgets->pycaret) (1.5.0)\n",
            "Requirement already satisfied: webencodings in /usr/local/lib/python3.7/dist-packages (from bleach->nbconvert->notebook>=4.4.1->widgetsnbextension~=3.5.0->ipywidgets->pycaret) (0.5.1)\n",
            "Requirement already satisfied: prometheus-client in /usr/local/lib/python3.7/dist-packages (from prometheus-flask-exporter->mlflow->pycaret) (0.12.0)\n",
            "Requirement already satisfied: numexpr in /usr/local/lib/python3.7/dist-packages (from pyLDAvis->pycaret) (2.7.3)\n",
            "Requirement already satisfied: future in /usr/local/lib/python3.7/dist-packages (from pyLDAvis->pycaret) (0.16.0)\n",
            "Requirement already satisfied: sklearn in /usr/local/lib/python3.7/dist-packages (from pyLDAvis->pycaret) (0.0)\n",
            "Collecting funcy\n",
            "  Downloading funcy-1.16-py2.py3-none-any.whl (32 kB)\n",
            "Collecting pandas\n",
            "  Downloading pandas-1.3.4-cp37-cp37m-manylinux_2_17_x86_64.manylinux2014_x86_64.whl (11.3 MB)\n",
            "\u001b[K     |████████████████████████████████| 11.3 MB 68.1 MB/s \n",
            "\u001b[?25hCollecting pyLDAvis\n",
            "  Downloading pyLDAvis-3.3.0.tar.gz (1.7 MB)\n",
            "\u001b[K     |████████████████████████████████| 1.7 MB 49.8 MB/s \n",
            "\u001b[?25h  Installing build dependencies ... \u001b[?25l\u001b[?25hdone\n",
            "  Getting requirements to build wheel ... \u001b[?25l\u001b[?25hdone\n",
            "  Installing backend dependencies ... \u001b[?25l\u001b[?25hdone\n",
            "    Preparing wheel metadata ... \u001b[?25l\u001b[?25hdone\n",
            "  Downloading pyLDAvis-3.2.2.tar.gz (1.7 MB)\n",
            "\u001b[K     |████████████████████████████████| 1.7 MB 59.7 MB/s \n",
            "\u001b[?25hRequirement already satisfied: numba>=0.35 in /usr/local/lib/python3.7/dist-packages (from pyod->pycaret) (0.51.2)\n",
            "Requirement already satisfied: statsmodels in /usr/local/lib/python3.7/dist-packages (from pyod->pycaret) (0.10.2)\n",
            "Requirement already satisfied: llvmlite<0.35,>=0.34.0.dev0 in /usr/local/lib/python3.7/dist-packages (from numba>=0.35->pyod->pycaret) (0.34.0)\n",
            "Requirement already satisfied: patsy>=0.4.0 in /usr/local/lib/python3.7/dist-packages (from statsmodels->pyod->pycaret) (0.5.2)\n",
            "Collecting pynndescent>=0.5\n",
            "  Downloading pynndescent-0.5.5.tar.gz (1.1 MB)\n",
            "\u001b[K     |████████████████████████████████| 1.1 MB 83.6 MB/s \n",
            "\u001b[?25hBuilding wheels for collected packages: htmlmin, imagehash, alembic, databricks-cli, pyLDAvis, pyod, umap-learn, pynndescent\n",
            "  Building wheel for htmlmin (setup.py) ... \u001b[?25l\u001b[?25hdone\n",
            "  Created wheel for htmlmin: filename=htmlmin-0.1.12-py3-none-any.whl size=27098 sha256=18075f1ad746d31a667b14577ade048c43356f83a460063176fe60b3f3b937b4\n",
            "  Stored in directory: /root/.cache/pip/wheels/70/e1/52/5b14d250ba868768823940c3229e9950d201a26d0bd3ee8655\n",
            "  Building wheel for imagehash (setup.py) ... \u001b[?25l\u001b[?25hdone\n",
            "  Created wheel for imagehash: filename=ImageHash-4.2.1-py2.py3-none-any.whl size=295207 sha256=15e1bbd71f6fd99a5c4e809778e16a15c39174fbd6fa574ff8e12a5471424c4d\n",
            "  Stored in directory: /root/.cache/pip/wheels/4c/d5/59/5e3e297533ddb09407769762985d134135064c6831e29a914e\n",
            "  Building wheel for alembic (setup.py) ... \u001b[?25l\u001b[?25hdone\n",
            "  Created wheel for alembic: filename=alembic-1.4.1-py2.py3-none-any.whl size=158172 sha256=626334b572839bb3043b94228d5b0cce06713f85f6af33af197d73b256119ac2\n",
            "  Stored in directory: /root/.cache/pip/wheels/be/5d/0a/9e13f53f4f5dfb67cd8d245bb7cdffe12f135846f491a283e3\n",
            "  Building wheel for databricks-cli (setup.py) ... \u001b[?25l\u001b[?25hdone\n",
            "  Created wheel for databricks-cli: filename=databricks_cli-0.16.2-py3-none-any.whl size=106811 sha256=6fc92f68e0fcb50b8c4d4b6973240c8e6756c3ec0e52c2325345da820ca708ee\n",
            "  Stored in directory: /root/.cache/pip/wheels/f4/5c/ed/e1ce20a53095f63b27b4964abbad03e59cf3472822addf7d29\n",
            "  Building wheel for pyLDAvis (setup.py) ... \u001b[?25l\u001b[?25hdone\n",
            "  Created wheel for pyLDAvis: filename=pyLDAvis-3.2.2-py2.py3-none-any.whl size=135618 sha256=8dafd9723225c45df214551789e68d9c6ccafec4f4d83e7fd33199dc253d577d\n",
            "  Stored in directory: /root/.cache/pip/wheels/f8/b1/9b/560ac1931796b7303f7b517b949d2d31a4fbc512aad3b9f284\n",
            "  Building wheel for pyod (setup.py) ... \u001b[?25l\u001b[?25hdone\n",
            "  Created wheel for pyod: filename=pyod-0.9.5-py3-none-any.whl size=132699 sha256=5f7324bab77f4f8ab049ecfa906e86d966866cef579a5309c6b2d850e88d08a2\n",
            "  Stored in directory: /root/.cache/pip/wheels/3d/bb/b7/62b60fb451b33b0df1ab8006697fba7a6a49709a629055cf77\n",
            "  Building wheel for umap-learn (setup.py) ... \u001b[?25l\u001b[?25hdone\n",
            "  Created wheel for umap-learn: filename=umap_learn-0.5.2-py3-none-any.whl size=82709 sha256=ce7da313938b5bb318c75251d9847a078b57579846c503f16892c5752f7e0a05\n",
            "  Stored in directory: /root/.cache/pip/wheels/84/1b/c6/aaf68a748122632967cef4dffef68224eb16798b6793257d82\n",
            "  Building wheel for pynndescent (setup.py) ... \u001b[?25l\u001b[?25hdone\n",
            "  Created wheel for pynndescent: filename=pynndescent-0.5.5-py3-none-any.whl size=52603 sha256=cd404be2f40740a76d7d6a8400d0128071c1dede6de903242f2399cd412c25eb\n",
            "  Stored in directory: /root/.cache/pip/wheels/af/e9/33/04db1436df0757c42fda8ea6796d7a8586e23c85fac355f476\n",
            "Successfully built htmlmin imagehash alembic databricks-cli pyLDAvis pyod umap-learn pynndescent\n",
            "Installing collected packages: tangled-up-in-unicode, smmap, scipy, multimethod, joblib, websocket-client, visions, scikit-learn, requests, python-editor, Mako, imagehash, gitdb, querystring-parser, PyYAML, pynndescent, pydantic, prometheus-flask-exporter, phik, htmlmin, gunicorn, gitpython, funcy, docker, databricks-cli, alembic, umap-learn, scikit-plot, pyod, pyLDAvis, pandas-profiling, mlxtend, mlflow, lightgbm, kmodes, imbalanced-learn, Boruta, pycaret\n",
            "  Attempting uninstall: scipy\n",
            "    Found existing installation: scipy 1.4.1\n",
            "    Uninstalling scipy-1.4.1:\n",
            "      Successfully uninstalled scipy-1.4.1\n",
            "  Attempting uninstall: joblib\n",
            "    Found existing installation: joblib 1.1.0\n",
            "    Uninstalling joblib-1.1.0:\n",
            "      Successfully uninstalled joblib-1.1.0\n",
            "  Attempting uninstall: scikit-learn\n",
            "    Found existing installation: scikit-learn 1.0.1\n",
            "    Uninstalling scikit-learn-1.0.1:\n",
            "      Successfully uninstalled scikit-learn-1.0.1\n",
            "  Attempting uninstall: requests\n",
            "    Found existing installation: requests 2.23.0\n",
            "    Uninstalling requests-2.23.0:\n",
            "      Successfully uninstalled requests-2.23.0\n",
            "  Attempting uninstall: PyYAML\n",
            "    Found existing installation: PyYAML 3.13\n",
            "    Uninstalling PyYAML-3.13:\n",
            "      Successfully uninstalled PyYAML-3.13\n",
            "  Attempting uninstall: pandas-profiling\n",
            "    Found existing installation: pandas-profiling 1.4.1\n",
            "    Uninstalling pandas-profiling-1.4.1:\n",
            "      Successfully uninstalled pandas-profiling-1.4.1\n",
            "  Attempting uninstall: mlxtend\n",
            "    Found existing installation: mlxtend 0.14.0\n",
            "    Uninstalling mlxtend-0.14.0:\n",
            "      Successfully uninstalled mlxtend-0.14.0\n",
            "  Attempting uninstall: lightgbm\n",
            "    Found existing installation: lightgbm 2.2.3\n",
            "    Uninstalling lightgbm-2.2.3:\n",
            "      Successfully uninstalled lightgbm-2.2.3\n",
            "  Attempting uninstall: imbalanced-learn\n",
            "    Found existing installation: imbalanced-learn 0.8.1\n",
            "    Uninstalling imbalanced-learn-0.8.1:\n",
            "      Successfully uninstalled imbalanced-learn-0.8.1\n",
            "\u001b[31mERROR: pip's dependency resolver does not currently take into account all the packages that are installed. This behaviour is the source of the following dependency conflicts.\n",
            "google-colab 1.0.0 requires requests~=2.23.0, but you have requests 2.26.0 which is incompatible.\n",
            "datascience 0.10.6 requires folium==0.2.1, but you have folium 0.8.3 which is incompatible.\n",
            "albumentations 0.1.12 requires imgaug<0.2.7,>=0.2.5, but you have imgaug 0.2.9 which is incompatible.\u001b[0m\n",
            "Successfully installed Boruta-0.3 Mako-1.1.6 PyYAML-6.0 alembic-1.4.1 databricks-cli-0.16.2 docker-5.0.3 funcy-1.16 gitdb-4.0.9 gitpython-3.1.24 gunicorn-20.1.0 htmlmin-0.1.12 imagehash-4.2.1 imbalanced-learn-0.7.0 joblib-1.0.1 kmodes-0.11.1 lightgbm-3.3.1 mlflow-1.22.0 mlxtend-0.19.0 multimethod-1.6 pandas-profiling-3.1.0 phik-0.12.0 prometheus-flask-exporter-0.18.6 pyLDAvis-3.2.2 pycaret-2.3.5 pydantic-1.8.2 pynndescent-0.5.5 pyod-0.9.5 python-editor-1.0.4 querystring-parser-1.2.4 requests-2.26.0 scikit-learn-0.23.2 scikit-plot-0.3.7 scipy-1.5.4 smmap-5.0.0 tangled-up-in-unicode-0.1.0 umap-learn-0.5.2 visions-0.7.4 websocket-client-1.2.3\n"
          ]
        }
      ]
    },
    {
      "cell_type": "markdown",
      "metadata": {
        "id": "-rlFvbv0MNW9"
      },
      "source": [
        "## Cargamos las librerias a utilizar"
      ]
    },
    {
      "cell_type": "markdown",
      "metadata": {
        "id": "0Lr7lEx8O9-y"
      },
      "source": [
        "Ahora vamos a cargar las librerías a utilizar. Para este ejemplo simple sólo vamos a necesitar cargar pandas y pycaret clustering."
      ]
    },
    {
      "cell_type": "code",
      "metadata": {
        "id": "_jHxRbEdMO_c"
      },
      "source": [
        "import pandas as pd\n",
        "from pycaret.clustering import *"
      ],
      "execution_count": 2,
      "outputs": []
    },
    {
      "cell_type": "markdown",
      "metadata": {
        "id": "_RlE9Y5dMPux"
      },
      "source": [
        "## Descargamos los datos a utilizar"
      ]
    },
    {
      "cell_type": "markdown",
      "metadata": {
        "id": "k-304w4ZPJP9"
      },
      "source": [
        "Como dijimos, vamos a trabajar inicialmente con los datos del periodo 137. Vemos que tenemos 2 conjuntos de datos: uno correspondientes a \"cabecera\" y otro con \"detalles\". Vamos a descargar los dos csv para explorarlos. Los enlaces son:\n",
        "* Datos cabecera: https://datos.hcdn.gob.ar/dataset/2e08ab84-09f4-4aac-86b3-9573ca9810db/resource/59c05ba8-ad0a-4d55-803d-20e3fe464d0b/download/actas-cabecera-137-2.0.csv\n",
        "* Datos detalle: https://datos.hcdn.gob.ar/dataset/2e08ab84-09f4-4aac-86b3-9573ca9810db/resource/f86728ed-d4b9-479e-b939-a9841fd6d8d3/download/actas-detalle-137-2.0.csv"
      ]
    },
    {
      "cell_type": "code",
      "metadata": {
        "colab": {
          "base_uri": "https://localhost:8080/"
        },
        "id": "XUSWxob_MSAp",
        "outputId": "0fba1ca7-fbfb-4199-c994-b1c390c393b0"
      },
      "source": [
        "!wget https://datos.hcdn.gob.ar/dataset/2e08ab84-09f4-4aac-86b3-9573ca9810db/resource/59c05ba8-ad0a-4d55-803d-20e3fe464d0b/download/actas-cabecera-137-2.0.csv\n",
        "!wget https://datos.hcdn.gob.ar/dataset/2e08ab84-09f4-4aac-86b3-9573ca9810db/resource/f86728ed-d4b9-479e-b939-a9841fd6d8d3/download/actas-detalle-137-2.0.csv"
      ],
      "execution_count": 3,
      "outputs": [
        {
          "output_type": "stream",
          "name": "stdout",
          "text": [
            "--2021-12-07 17:38:32--  https://datos.hcdn.gob.ar/dataset/2e08ab84-09f4-4aac-86b3-9573ca9810db/resource/59c05ba8-ad0a-4d55-803d-20e3fe464d0b/download/actas-cabecera-137-2.0.csv\n",
            "Resolving datos.hcdn.gob.ar (datos.hcdn.gob.ar)... 45.230.20.47, 2801:15:b000:2::47\n",
            "Connecting to datos.hcdn.gob.ar (datos.hcdn.gob.ar)|45.230.20.47|:443... connected.\n",
            "HTTP request sent, awaiting response... 200 OK\n",
            "Length: 20576 (20K) [text/csv]\n",
            "Saving to: ‘actas-cabecera-137-2.0.csv’\n",
            "\n",
            "actas-cabecera-137- 100%[===================>]  20.09K  92.4KB/s    in 0.2s    \n",
            "\n",
            "2021-12-07 17:38:34 (92.4 KB/s) - ‘actas-cabecera-137-2.0.csv’ saved [20576/20576]\n",
            "\n",
            "--2021-12-07 17:38:34--  https://datos.hcdn.gob.ar/dataset/2e08ab84-09f4-4aac-86b3-9573ca9810db/resource/f86728ed-d4b9-479e-b939-a9841fd6d8d3/download/actas-detalle-137-2.0.csv\n",
            "Resolving datos.hcdn.gob.ar (datos.hcdn.gob.ar)... 45.230.20.47, 2801:15:b000:2::47\n",
            "Connecting to datos.hcdn.gob.ar (datos.hcdn.gob.ar)|45.230.20.47|:443... connected.\n",
            "HTTP request sent, awaiting response... 200 OK\n",
            "Length: 1941490 (1.9M) [text/csv]\n",
            "Saving to: ‘actas-detalle-137-2.0.csv’\n",
            "\n",
            "actas-detalle-137-2 100%[===================>]   1.85M   386KB/s    in 5.4s    \n",
            "\n",
            "2021-12-07 17:38:40 (348 KB/s) - ‘actas-detalle-137-2.0.csv’ saved [1941490/1941490]\n",
            "\n"
          ]
        }
      ]
    },
    {
      "cell_type": "markdown",
      "metadata": {
        "id": "rSylnnRHMYcI"
      },
      "source": [
        "## Carga de datos y exploracion preliminar"
      ]
    },
    {
      "cell_type": "markdown",
      "metadata": {
        "id": "O7q_4M4FQRyS"
      },
      "source": [
        "Ahora cargamos los dos csv que acabamos de descargar para explorarlos rápidamente."
      ]
    },
    {
      "cell_type": "code",
      "metadata": {
        "id": "g7YKWEk8McNo"
      },
      "source": [
        "cabecera_137 = pd.read_csv(\"actas-cabecera-137-2.0.csv\")\n",
        "detalles_137 = pd.read_csv(\"actas-detalle-137-2.0.csv\")"
      ],
      "execution_count": 4,
      "outputs": []
    },
    {
      "cell_type": "markdown",
      "metadata": {
        "id": "3LFEQePLQgOe"
      },
      "source": [
        "El archivo de detalles tiene 7 columnas, indicando qué votó cada diputado en cada una de las votaciones (identificadas como acta_id), junto con algunos datos adicionales como el bloque y el distrito."
      ]
    },
    {
      "cell_type": "code",
      "metadata": {
        "colab": {
          "base_uri": "https://localhost:8080/"
        },
        "id": "WwWleUOQgvf9",
        "outputId": "16fc12d7-b7b0-47d9-c0a0-55c8bd75ce96"
      },
      "source": [
        "detalles_137.shape"
      ],
      "execution_count": 5,
      "outputs": [
        {
          "output_type": "execute_result",
          "data": {
            "text/plain": [
              "(25700, 7)"
            ]
          },
          "metadata": {},
          "execution_count": 5
        }
      ]
    },
    {
      "cell_type": "code",
      "metadata": {
        "colab": {
          "base_uri": "https://localhost:8080/",
          "height": 206
        },
        "id": "mweqi1QlMd9v",
        "outputId": "b420cb79-6cb2-457d-9df2-cf8fed59e97d"
      },
      "source": [
        "detalles_137.head()"
      ],
      "execution_count": 6,
      "outputs": [
        {
          "output_type": "execute_result",
          "data": {
            "text/html": [
              "<div>\n",
              "<style scoped>\n",
              "    .dataframe tbody tr th:only-of-type {\n",
              "        vertical-align: middle;\n",
              "    }\n",
              "\n",
              "    .dataframe tbody tr th {\n",
              "        vertical-align: top;\n",
              "    }\n",
              "\n",
              "    .dataframe thead th {\n",
              "        text-align: right;\n",
              "    }\n",
              "</style>\n",
              "<table border=\"1\" class=\"dataframe\">\n",
              "  <thead>\n",
              "    <tr style=\"text-align: right;\">\n",
              "      <th></th>\n",
              "      <th>acta_id</th>\n",
              "      <th>acta_detalle_id</th>\n",
              "      <th>diputado_nombre</th>\n",
              "      <th>persona_id</th>\n",
              "      <th>bloque</th>\n",
              "      <th>distrito_nombre</th>\n",
              "      <th>voto</th>\n",
              "    </tr>\n",
              "  </thead>\n",
              "  <tbody>\n",
              "    <tr>\n",
              "      <th>0</th>\n",
              "      <td>3864</td>\n",
              "      <td>1139025</td>\n",
              "      <td>. NO INCORPORADO Legislador 2</td>\n",
              "      <td></td>\n",
              "      <td>PRO</td>\n",
              "      <td>C.A.B.A.</td>\n",
              "      <td>AUSENTE</td>\n",
              "    </tr>\n",
              "    <tr>\n",
              "      <th>1</th>\n",
              "      <td>3864</td>\n",
              "      <td>1139026</td>\n",
              "      <td>ABDALA DE MATARAZZO Norma Amanda</td>\n",
              "      <td></td>\n",
              "      <td>Frente Cívico por Santiago</td>\n",
              "      <td>Santiago del Estero</td>\n",
              "      <td>AFIRMATIVO</td>\n",
              "    </tr>\n",
              "    <tr>\n",
              "      <th>2</th>\n",
              "      <td>3864</td>\n",
              "      <td>1139027</td>\n",
              "      <td>ACERENZA Samanta María Celeste</td>\n",
              "      <td></td>\n",
              "      <td>PRO</td>\n",
              "      <td>Buenos Aires</td>\n",
              "      <td>NEGATIVO</td>\n",
              "    </tr>\n",
              "    <tr>\n",
              "      <th>3</th>\n",
              "      <td>3864</td>\n",
              "      <td>1139028</td>\n",
              "      <td>AICEGA Juan</td>\n",
              "      <td></td>\n",
              "      <td>PRO</td>\n",
              "      <td>Buenos Aires</td>\n",
              "      <td>NEGATIVO</td>\n",
              "    </tr>\n",
              "    <tr>\n",
              "      <th>4</th>\n",
              "      <td>3864</td>\n",
              "      <td>1139029</td>\n",
              "      <td>ALLENDE Walberto Enrique</td>\n",
              "      <td></td>\n",
              "      <td>Todos Juntos por San Juan</td>\n",
              "      <td>San Juan</td>\n",
              "      <td>AFIRMATIVO</td>\n",
              "    </tr>\n",
              "  </tbody>\n",
              "</table>\n",
              "</div>"
            ],
            "text/plain": [
              "   acta_id  acta_detalle_id                   diputado_nombre persona_id  \\\n",
              "0     3864          1139025     . NO INCORPORADO Legislador 2              \n",
              "1     3864          1139026  ABDALA DE MATARAZZO Norma Amanda              \n",
              "2     3864          1139027    ACERENZA Samanta María Celeste              \n",
              "3     3864          1139028                       AICEGA Juan              \n",
              "4     3864          1139029          ALLENDE Walberto Enrique              \n",
              "\n",
              "                       bloque      distrito_nombre        voto  \n",
              "0                         PRO             C.A.B.A.     AUSENTE  \n",
              "1  Frente Cívico por Santiago  Santiago del Estero  AFIRMATIVO  \n",
              "2                         PRO         Buenos Aires    NEGATIVO  \n",
              "3                         PRO         Buenos Aires    NEGATIVO  \n",
              "4   Todos Juntos por San Juan             San Juan  AFIRMATIVO  "
            ]
          },
          "metadata": {},
          "execution_count": 6
        }
      ]
    },
    {
      "cell_type": "markdown",
      "metadata": {
        "id": "w7zwvhv0gsLS"
      },
      "source": [
        "Si bien vamos a explorar los tipos de cada columna, vamos a ver más adelante que Pycaret se encarga de eso por nosotros."
      ]
    },
    {
      "cell_type": "code",
      "metadata": {
        "colab": {
          "base_uri": "https://localhost:8080/"
        },
        "id": "kU7fZqFCM1l7",
        "outputId": "162d051d-07ae-418b-e69e-20b4481b23e9"
      },
      "source": [
        "detalles_137.info()"
      ],
      "execution_count": 7,
      "outputs": [
        {
          "output_type": "stream",
          "name": "stdout",
          "text": [
            "<class 'pandas.core.frame.DataFrame'>\n",
            "RangeIndex: 25700 entries, 0 to 25699\n",
            "Data columns (total 7 columns):\n",
            " #   Column           Non-Null Count  Dtype \n",
            "---  ------           --------------  ----- \n",
            " 0   acta_id          25700 non-null  int64 \n",
            " 1   acta_detalle_id  25700 non-null  int64 \n",
            " 2   diputado_nombre  25643 non-null  object\n",
            " 3   persona_id       25700 non-null  object\n",
            " 4   bloque           25700 non-null  object\n",
            " 5   distrito_nombre  25700 non-null  object\n",
            " 6   voto             25700 non-null  object\n",
            "dtypes: int64(2), object(5)\n",
            "memory usage: 1.4+ MB\n"
          ]
        }
      ]
    },
    {
      "cell_type": "markdown",
      "metadata": {
        "id": "KKtcuysPQplu"
      },
      "source": [
        "Acá hay algo llamativo, tenemos 376 nombres únicos de diputados pero en el congreso sólo hay 257. La respuesta a esto la vamos a encontrar cuando analicemos el dataset de cabecera."
      ]
    },
    {
      "cell_type": "code",
      "metadata": {
        "colab": {
          "base_uri": "https://localhost:8080/"
        },
        "id": "OtsqePAgM5cg",
        "outputId": "9a1f98c7-5ad1-4fcb-bb6d-dfb1e97f10f6"
      },
      "source": [
        "detalles_137.nunique()"
      ],
      "execution_count": 8,
      "outputs": [
        {
          "output_type": "execute_result",
          "data": {
            "text/plain": [
              "acta_id              100\n",
              "acta_detalle_id    25700\n",
              "diputado_nombre      376\n",
              "persona_id             1\n",
              "bloque                42\n",
              "distrito_nombre       24\n",
              "voto                   4\n",
              "dtype: int64"
            ]
          },
          "metadata": {},
          "execution_count": 8
        }
      ]
    },
    {
      "cell_type": "markdown",
      "metadata": {
        "id": "ahisQYK3REXs"
      },
      "source": [
        "Vamos a verificar duplicados que siempre es una buena práctica cuando exploramos por primera vez un dataset. Además en caso de tener duplicados recibiremos un error a la hora de pivotear la tabla usando pandas."
      ]
    },
    {
      "cell_type": "code",
      "metadata": {
        "colab": {
          "base_uri": "https://localhost:8080/"
        },
        "id": "l6Rlf3ZENBuk",
        "outputId": "454c8336-3f0f-4b4d-e8de-67711693ba12"
      },
      "source": [
        "#Verificamos duplicados -> Ok\n",
        "detalles_137.drop(\"acta_detalle_id\", axis = 1).duplicated().sum()"
      ],
      "execution_count": 9,
      "outputs": [
        {
          "output_type": "execute_result",
          "data": {
            "text/plain": [
              "0"
            ]
          },
          "metadata": {},
          "execution_count": 9
        }
      ]
    },
    {
      "cell_type": "markdown",
      "metadata": {
        "id": "LYquZ7GqRN8K"
      },
      "source": [
        "Ahora vamos a explorar un poco los datos de cabecera. Tenemos 20 columnas, pero primero nos vamos a concentrar en la columna fecha."
      ]
    },
    {
      "cell_type": "code",
      "metadata": {
        "colab": {
          "base_uri": "https://localhost:8080/"
        },
        "id": "c4KuRX10hWJ9",
        "outputId": "e1fec646-ab8d-4c93-9c11-872f6498ffc7"
      },
      "source": [
        "cabecera_137.shape"
      ],
      "execution_count": 10,
      "outputs": [
        {
          "output_type": "execute_result",
          "data": {
            "text/plain": [
              "(100, 20)"
            ]
          },
          "metadata": {},
          "execution_count": 10
        }
      ]
    },
    {
      "cell_type": "code",
      "metadata": {
        "colab": {
          "base_uri": "https://localhost:8080/",
          "height": 487
        },
        "id": "d85KHRWPMhHZ",
        "outputId": "91a6a567-080c-46eb-dcf1-1251e22dc407"
      },
      "source": [
        "cabecera_137.head()"
      ],
      "execution_count": 11,
      "outputs": [
        {
          "output_type": "execute_result",
          "data": {
            "text/html": [
              "<div>\n",
              "<style scoped>\n",
              "    .dataframe tbody tr th:only-of-type {\n",
              "        vertical-align: middle;\n",
              "    }\n",
              "\n",
              "    .dataframe tbody tr th {\n",
              "        vertical-align: top;\n",
              "    }\n",
              "\n",
              "    .dataframe thead th {\n",
              "        text-align: right;\n",
              "    }\n",
              "</style>\n",
              "<table border=\"1\" class=\"dataframe\">\n",
              "  <thead>\n",
              "    <tr style=\"text-align: right;\">\n",
              "      <th></th>\n",
              "      <th>sesion_id</th>\n",
              "      <th>acta_id</th>\n",
              "      <th>nroperiodo</th>\n",
              "      <th>tipo_periodo</th>\n",
              "      <th>reunion</th>\n",
              "      <th>sesion</th>\n",
              "      <th>tipo_sesion</th>\n",
              "      <th>numero</th>\n",
              "      <th>fecha</th>\n",
              "      <th>hora</th>\n",
              "      <th>base_mayoria</th>\n",
              "      <th>tipo_mayoria</th>\n",
              "      <th>titulo</th>\n",
              "      <th>resultado</th>\n",
              "      <th>presidente_nombre</th>\n",
              "      <th>presidente_id</th>\n",
              "      <th>votos_afirmativos</th>\n",
              "      <th>votos_negativos</th>\n",
              "      <th>abstenciones</th>\n",
              "      <th>ausentes</th>\n",
              "    </tr>\n",
              "  </thead>\n",
              "  <tbody>\n",
              "    <tr>\n",
              "      <th>0</th>\n",
              "      <td>HCDN137R01</td>\n",
              "      <td>3864</td>\n",
              "      <td>137</td>\n",
              "      <td>Ordinario</td>\n",
              "      <td>1</td>\n",
              "      <td>1</td>\n",
              "      <td>Especial</td>\n",
              "      <td>1</td>\n",
              "      <td>2019-04-04</td>\n",
              "      <td>13:27</td>\n",
              "      <td>Votos Emitidos</td>\n",
              "      <td>Dos tercios</td>\n",
              "      <td>Tratamiento - Exención de impuesto a las ganan...</td>\n",
              "      <td>NEGATIVO</td>\n",
              "      <td>MONZÓ Emilio</td>\n",
              "      <td>NaN</td>\n",
              "      <td>130</td>\n",
              "      <td>91</td>\n",
              "      <td>0</td>\n",
              "      <td>35</td>\n",
              "    </tr>\n",
              "    <tr>\n",
              "      <th>1</th>\n",
              "      <td>HCDN137R01</td>\n",
              "      <td>3865</td>\n",
              "      <td>137</td>\n",
              "      <td>Ordinario</td>\n",
              "      <td>1</td>\n",
              "      <td>1</td>\n",
              "      <td>Especial</td>\n",
              "      <td>2</td>\n",
              "      <td>2019-04-04</td>\n",
              "      <td>15:04</td>\n",
              "      <td>Votos Emitidos</td>\n",
              "      <td>Dos tercios</td>\n",
              "      <td>Tratamiento - Expedientes vinculados a tarifas</td>\n",
              "      <td>NEGATIVO</td>\n",
              "      <td>MONZÓ Emilio</td>\n",
              "      <td>NaN</td>\n",
              "      <td>120</td>\n",
              "      <td>96</td>\n",
              "      <td>0</td>\n",
              "      <td>40</td>\n",
              "    </tr>\n",
              "    <tr>\n",
              "      <th>2</th>\n",
              "      <td>HCDN137R01</td>\n",
              "      <td>3866</td>\n",
              "      <td>137</td>\n",
              "      <td>Ordinario</td>\n",
              "      <td>1</td>\n",
              "      <td>1</td>\n",
              "      <td>Especial</td>\n",
              "      <td>3</td>\n",
              "      <td>2019-04-04</td>\n",
              "      <td>17:49</td>\n",
              "      <td>Votos Emitidos</td>\n",
              "      <td>Dos tercios</td>\n",
              "      <td>Tratamiento - Expedientes sobre temas varios</td>\n",
              "      <td>NEGATIVO</td>\n",
              "      <td>MONZÓ Emilio</td>\n",
              "      <td>NaN</td>\n",
              "      <td>104</td>\n",
              "      <td>89</td>\n",
              "      <td>0</td>\n",
              "      <td>63</td>\n",
              "    </tr>\n",
              "    <tr>\n",
              "      <th>3</th>\n",
              "      <td>HCDN137R03</td>\n",
              "      <td>3867</td>\n",
              "      <td>137</td>\n",
              "      <td>Ordinario</td>\n",
              "      <td>3</td>\n",
              "      <td>3</td>\n",
              "      <td>Tablas</td>\n",
              "      <td>1</td>\n",
              "      <td>2019-04-24</td>\n",
              "      <td>17:19</td>\n",
              "      <td>Votos Emitidos</td>\n",
              "      <td>Más de la mitad</td>\n",
              "      <td>Expediente 5094-D-18 OD:590.Votación en genera...</td>\n",
              "      <td>AFIRMATIVO</td>\n",
              "      <td>MONZÓ Emilio</td>\n",
              "      <td>NaN</td>\n",
              "      <td>150</td>\n",
              "      <td>7</td>\n",
              "      <td>7</td>\n",
              "      <td>92</td>\n",
              "    </tr>\n",
              "    <tr>\n",
              "      <th>4</th>\n",
              "      <td>HCDN137R03</td>\n",
              "      <td>3868</td>\n",
              "      <td>137</td>\n",
              "      <td>Ordinario</td>\n",
              "      <td>3</td>\n",
              "      <td>3</td>\n",
              "      <td>Tablas</td>\n",
              "      <td>2</td>\n",
              "      <td>2019-04-24</td>\n",
              "      <td>17:21</td>\n",
              "      <td>Votos Emitidos</td>\n",
              "      <td>Más de la mitad</td>\n",
              "      <td>Expedientes 6516-D-18 OD 595 y 2844-D-18 OD:66...</td>\n",
              "      <td>AFIRMATIVO</td>\n",
              "      <td>MONZÓ Emilio</td>\n",
              "      <td>NaN</td>\n",
              "      <td>165</td>\n",
              "      <td>0</td>\n",
              "      <td>11</td>\n",
              "      <td>80</td>\n",
              "    </tr>\n",
              "  </tbody>\n",
              "</table>\n",
              "</div>"
            ],
            "text/plain": [
              "    sesion_id  acta_id  nroperiodo tipo_periodo  reunion  sesion tipo_sesion  \\\n",
              "0  HCDN137R01     3864         137    Ordinario        1       1    Especial   \n",
              "1  HCDN137R01     3865         137    Ordinario        1       1    Especial   \n",
              "2  HCDN137R01     3866         137    Ordinario        1       1    Especial   \n",
              "3  HCDN137R03     3867         137    Ordinario        3       3      Tablas   \n",
              "4  HCDN137R03     3868         137    Ordinario        3       3      Tablas   \n",
              "\n",
              "   numero       fecha   hora    base_mayoria     tipo_mayoria  \\\n",
              "0       1  2019-04-04  13:27  Votos Emitidos      Dos tercios   \n",
              "1       2  2019-04-04  15:04  Votos Emitidos      Dos tercios   \n",
              "2       3  2019-04-04  17:49  Votos Emitidos      Dos tercios   \n",
              "3       1  2019-04-24  17:19  Votos Emitidos  Más de la mitad   \n",
              "4       2  2019-04-24  17:21  Votos Emitidos  Más de la mitad   \n",
              "\n",
              "                                              titulo   resultado  \\\n",
              "0  Tratamiento - Exención de impuesto a las ganan...    NEGATIVO   \n",
              "1     Tratamiento - Expedientes vinculados a tarifas    NEGATIVO   \n",
              "2       Tratamiento - Expedientes sobre temas varios    NEGATIVO   \n",
              "3  Expediente 5094-D-18 OD:590.Votación en genera...  AFIRMATIVO   \n",
              "4  Expedientes 6516-D-18 OD 595 y 2844-D-18 OD:66...  AFIRMATIVO   \n",
              "\n",
              "  presidente_nombre  presidente_id  votos_afirmativos  votos_negativos  \\\n",
              "0      MONZÓ Emilio            NaN                130               91   \n",
              "1      MONZÓ Emilio            NaN                120               96   \n",
              "2      MONZÓ Emilio            NaN                104               89   \n",
              "3      MONZÓ Emilio            NaN                150                7   \n",
              "4      MONZÓ Emilio            NaN                165                0   \n",
              "\n",
              "   abstenciones  ausentes  \n",
              "0             0        35  \n",
              "1             0        40  \n",
              "2             0        63  \n",
              "3             7        92  \n",
              "4            11        80  "
            ]
          },
          "metadata": {},
          "execution_count": 11
        }
      ]
    },
    {
      "cell_type": "markdown",
      "metadata": {
        "id": "A8xfGHjgRf19"
      },
      "source": [
        "La columna fecha es del tipo object así que vamos a transformarla a datetime para poder revisarla más en detalle."
      ]
    },
    {
      "cell_type": "code",
      "metadata": {
        "colab": {
          "base_uri": "https://localhost:8080/"
        },
        "id": "Aj6FCUb3NNa5",
        "outputId": "ad8a454c-d18c-476b-bd3f-0b69d7d34a1f"
      },
      "source": [
        "cabecera_137.info()"
      ],
      "execution_count": 12,
      "outputs": [
        {
          "output_type": "stream",
          "name": "stdout",
          "text": [
            "<class 'pandas.core.frame.DataFrame'>\n",
            "RangeIndex: 100 entries, 0 to 99\n",
            "Data columns (total 20 columns):\n",
            " #   Column             Non-Null Count  Dtype  \n",
            "---  ------             --------------  -----  \n",
            " 0   sesion_id          100 non-null    object \n",
            " 1   acta_id            100 non-null    int64  \n",
            " 2   nroperiodo         100 non-null    int64  \n",
            " 3   tipo_periodo       100 non-null    object \n",
            " 4   reunion            100 non-null    int64  \n",
            " 5   sesion             100 non-null    int64  \n",
            " 6   tipo_sesion        100 non-null    object \n",
            " 7   numero             100 non-null    int64  \n",
            " 8   fecha              100 non-null    object \n",
            " 9   hora               100 non-null    object \n",
            " 10  base_mayoria       100 non-null    object \n",
            " 11  tipo_mayoria       100 non-null    object \n",
            " 12  titulo             100 non-null    object \n",
            " 13  resultado          100 non-null    object \n",
            " 14  presidente_nombre  100 non-null    object \n",
            " 15  presidente_id      0 non-null      float64\n",
            " 16  votos_afirmativos  100 non-null    int64  \n",
            " 17  votos_negativos    100 non-null    int64  \n",
            " 18  abstenciones       100 non-null    int64  \n",
            " 19  ausentes           100 non-null    int64  \n",
            "dtypes: float64(1), int64(9), object(10)\n",
            "memory usage: 15.8+ KB\n"
          ]
        }
      ]
    },
    {
      "cell_type": "code",
      "metadata": {
        "id": "1sFP0dvCMikk"
      },
      "source": [
        "cabecera_137[\"fecha\"] = pd.to_datetime(cabecera_137[\"fecha\"], infer_datetime_format=True)"
      ],
      "execution_count": 13,
      "outputs": []
    },
    {
      "cell_type": "code",
      "metadata": {
        "colab": {
          "base_uri": "https://localhost:8080/"
        },
        "id": "75rUxTrsMk88",
        "outputId": "5c4fbc0b-2aa6-4447-e90d-c392bd66efc1"
      },
      "source": [
        "cabecera_137[\"fecha\"].describe()"
      ],
      "execution_count": 14,
      "outputs": [
        {
          "output_type": "execute_result",
          "data": {
            "text/plain": [
              "count                     100\n",
              "unique                      9\n",
              "top       2019-11-20 00:00:00\n",
              "freq                       26\n",
              "first     2019-04-04 00:00:00\n",
              "last      2020-01-29 00:00:00\n",
              "Name: fecha, dtype: object"
            ]
          },
          "metadata": {},
          "execution_count": 14
        }
      ]
    },
    {
      "cell_type": "markdown",
      "metadata": {
        "id": "848lQ3ldRnCB"
      },
      "source": [
        "Podemos ver que el periodo 137 incluye votaciones entre el 04–04–2019 y el 2020–01–29, pero los nuevos diputados comienzan sus funciones el 10–12–2019. Esto hace que tengamos diputados que dejaron sus bancas y otros que asumieron (esto explica que tengamos 376 diputados en vez de 257 como esperábamos). Como simplificación sólo vamos a analizar las votaciones de los diputados antes de la asunción para ser consistentes (aunque sería conveniente en un futuro agregar los datos del periodo 136, para tener el periodo 2017–2019 completo)."
      ]
    },
    {
      "cell_type": "markdown",
      "metadata": {
        "id": "ZX8DSzIyh40p"
      },
      "source": [
        "Extraemos los números de votación que se realizaron previo al 2019-12-10 para utilizarlo luego como filtro en nuestro dataset."
      ]
    },
    {
      "cell_type": "code",
      "metadata": {
        "id": "gHTkHOtYMmXG"
      },
      "source": [
        "acta_ids = cabecera_137[\"acta_id\"][cabecera_137[\"fecha\"] <= pd.Timestamp(2019,12,9)]"
      ],
      "execution_count": 15,
      "outputs": []
    },
    {
      "cell_type": "code",
      "metadata": {
        "id": "gcpmEfGsMt93"
      },
      "source": [
        "detalles_137 = detalles_137[detalles_137[\"acta_id\"].isin(acta_ids)]"
      ],
      "execution_count": 16,
      "outputs": []
    },
    {
      "cell_type": "code",
      "metadata": {
        "colab": {
          "base_uri": "https://localhost:8080/"
        },
        "id": "wpstyvrgNiSu",
        "outputId": "fee8e986-3b96-4327-d334-841148885ac3"
      },
      "source": [
        "detalles_137.nunique()"
      ],
      "execution_count": 17,
      "outputs": [
        {
          "output_type": "execute_result",
          "data": {
            "text/plain": [
              "acta_id               69\n",
              "acta_detalle_id    17733\n",
              "diputado_nombre      259\n",
              "persona_id             1\n",
              "bloque                36\n",
              "distrito_nombre       24\n",
              "voto                   4\n",
              "dtype: int64"
            ]
          },
          "metadata": {},
          "execution_count": 17
        }
      ]
    },
    {
      "cell_type": "markdown",
      "metadata": {
        "id": "_fQgsStYR9Iu"
      },
      "source": [
        "Ahora si tenemos un número más lógico de diputados, cercano al 257 que esperábamos. Vamos a pivotear la tabla para tener las votaciones como columnas y los votos de los diputados en las filas."
      ]
    },
    {
      "cell_type": "code",
      "metadata": {
        "id": "bXGYVZ-6NmXK"
      },
      "source": [
        "df = detalles_137.pivot(index = \"diputado_nombre\", columns = \"acta_id\", values = \"voto\").reset_index()"
      ],
      "execution_count": 18,
      "outputs": []
    },
    {
      "cell_type": "code",
      "metadata": {
        "id": "Bz9U6VgNy_qH"
      },
      "source": [
        "df.columns.name = \"index\""
      ],
      "execution_count": 19,
      "outputs": []
    },
    {
      "cell_type": "code",
      "metadata": {
        "colab": {
          "base_uri": "https://localhost:8080/",
          "height": 330
        },
        "id": "KmEX5E0UN4BU",
        "outputId": "2f0d3c25-1ccd-4dee-8a4d-dbac666f788d"
      },
      "source": [
        "df.head()"
      ],
      "execution_count": 20,
      "outputs": [
        {
          "output_type": "execute_result",
          "data": {
            "text/html": [
              "<div>\n",
              "<style scoped>\n",
              "    .dataframe tbody tr th:only-of-type {\n",
              "        vertical-align: middle;\n",
              "    }\n",
              "\n",
              "    .dataframe tbody tr th {\n",
              "        vertical-align: top;\n",
              "    }\n",
              "\n",
              "    .dataframe thead th {\n",
              "        text-align: right;\n",
              "    }\n",
              "</style>\n",
              "<table border=\"1\" class=\"dataframe\">\n",
              "  <thead>\n",
              "    <tr style=\"text-align: right;\">\n",
              "      <th>index</th>\n",
              "      <th>diputado_nombre</th>\n",
              "      <th>3864</th>\n",
              "      <th>3865</th>\n",
              "      <th>3866</th>\n",
              "      <th>3867</th>\n",
              "      <th>3868</th>\n",
              "      <th>3869</th>\n",
              "      <th>3870</th>\n",
              "      <th>3871</th>\n",
              "      <th>3872</th>\n",
              "      <th>3873</th>\n",
              "      <th>3874</th>\n",
              "      <th>3875</th>\n",
              "      <th>3876</th>\n",
              "      <th>3877</th>\n",
              "      <th>3878</th>\n",
              "      <th>3879</th>\n",
              "      <th>3880</th>\n",
              "      <th>3881</th>\n",
              "      <th>3882</th>\n",
              "      <th>3883</th>\n",
              "      <th>3884</th>\n",
              "      <th>3885</th>\n",
              "      <th>3886</th>\n",
              "      <th>3887</th>\n",
              "      <th>3888</th>\n",
              "      <th>3889</th>\n",
              "      <th>3890</th>\n",
              "      <th>3891</th>\n",
              "      <th>3892</th>\n",
              "      <th>3893</th>\n",
              "      <th>3894</th>\n",
              "      <th>3895</th>\n",
              "      <th>3896</th>\n",
              "      <th>3897</th>\n",
              "      <th>3898</th>\n",
              "      <th>3899</th>\n",
              "      <th>3900</th>\n",
              "      <th>3901</th>\n",
              "      <th>3902</th>\n",
              "      <th>3903</th>\n",
              "      <th>3904</th>\n",
              "      <th>3905</th>\n",
              "      <th>3906</th>\n",
              "      <th>3907</th>\n",
              "      <th>3908</th>\n",
              "      <th>3909</th>\n",
              "      <th>3910</th>\n",
              "      <th>3911</th>\n",
              "      <th>3912</th>\n",
              "      <th>3913</th>\n",
              "      <th>3914</th>\n",
              "      <th>3915</th>\n",
              "      <th>3916</th>\n",
              "      <th>3917</th>\n",
              "      <th>3918</th>\n",
              "      <th>3919</th>\n",
              "      <th>3920</th>\n",
              "      <th>3921</th>\n",
              "      <th>3922</th>\n",
              "      <th>3923</th>\n",
              "      <th>3924</th>\n",
              "      <th>3925</th>\n",
              "      <th>3926</th>\n",
              "      <th>3927</th>\n",
              "      <th>3928</th>\n",
              "      <th>3929</th>\n",
              "      <th>3930</th>\n",
              "      <th>3931</th>\n",
              "      <th>3932</th>\n",
              "    </tr>\n",
              "  </thead>\n",
              "  <tbody>\n",
              "    <tr>\n",
              "      <th>0</th>\n",
              "      <td>NaN</td>\n",
              "      <td>NaN</td>\n",
              "      <td>NaN</td>\n",
              "      <td>NaN</td>\n",
              "      <td>NaN</td>\n",
              "      <td>NaN</td>\n",
              "      <td>NaN</td>\n",
              "      <td>NaN</td>\n",
              "      <td>NaN</td>\n",
              "      <td>NaN</td>\n",
              "      <td>NaN</td>\n",
              "      <td>NaN</td>\n",
              "      <td>NaN</td>\n",
              "      <td>NaN</td>\n",
              "      <td>NaN</td>\n",
              "      <td>NaN</td>\n",
              "      <td>NaN</td>\n",
              "      <td>NaN</td>\n",
              "      <td>NaN</td>\n",
              "      <td>NaN</td>\n",
              "      <td>NaN</td>\n",
              "      <td>NaN</td>\n",
              "      <td>NaN</td>\n",
              "      <td>NaN</td>\n",
              "      <td>NaN</td>\n",
              "      <td>NaN</td>\n",
              "      <td>NaN</td>\n",
              "      <td>NaN</td>\n",
              "      <td>NaN</td>\n",
              "      <td>NaN</td>\n",
              "      <td>NaN</td>\n",
              "      <td>NaN</td>\n",
              "      <td>NaN</td>\n",
              "      <td>NaN</td>\n",
              "      <td>NaN</td>\n",
              "      <td>NaN</td>\n",
              "      <td>NaN</td>\n",
              "      <td>NaN</td>\n",
              "      <td>NaN</td>\n",
              "      <td>NaN</td>\n",
              "      <td>NaN</td>\n",
              "      <td>NaN</td>\n",
              "      <td>NaN</td>\n",
              "      <td>NaN</td>\n",
              "      <td>AUSENTE</td>\n",
              "      <td>AUSENTE</td>\n",
              "      <td>AUSENTE</td>\n",
              "      <td>AUSENTE</td>\n",
              "      <td>AUSENTE</td>\n",
              "      <td>AUSENTE</td>\n",
              "      <td>AUSENTE</td>\n",
              "      <td>AUSENTE</td>\n",
              "      <td>AUSENTE</td>\n",
              "      <td>AUSENTE</td>\n",
              "      <td>AUSENTE</td>\n",
              "      <td>AUSENTE</td>\n",
              "      <td>AUSENTE</td>\n",
              "      <td>AUSENTE</td>\n",
              "      <td>AUSENTE</td>\n",
              "      <td>AUSENTE</td>\n",
              "      <td>AUSENTE</td>\n",
              "      <td>AUSENTE</td>\n",
              "      <td>AUSENTE</td>\n",
              "      <td>AUSENTE</td>\n",
              "      <td>AUSENTE</td>\n",
              "      <td>AUSENTE</td>\n",
              "      <td>AUSENTE</td>\n",
              "      <td>AUSENTE</td>\n",
              "      <td>AUSENTE</td>\n",
              "      <td>AUSENTE</td>\n",
              "    </tr>\n",
              "    <tr>\n",
              "      <th>1</th>\n",
              "      <td>. NO INCORPORADO Legislador 2</td>\n",
              "      <td>AUSENTE</td>\n",
              "      <td>AUSENTE</td>\n",
              "      <td>AUSENTE</td>\n",
              "      <td>AUSENTE</td>\n",
              "      <td>AUSENTE</td>\n",
              "      <td>AUSENTE</td>\n",
              "      <td>AUSENTE</td>\n",
              "      <td>AUSENTE</td>\n",
              "      <td>AUSENTE</td>\n",
              "      <td>AUSENTE</td>\n",
              "      <td>AUSENTE</td>\n",
              "      <td>AUSENTE</td>\n",
              "      <td>AUSENTE</td>\n",
              "      <td>AUSENTE</td>\n",
              "      <td>AUSENTE</td>\n",
              "      <td>AUSENTE</td>\n",
              "      <td>AUSENTE</td>\n",
              "      <td>AUSENTE</td>\n",
              "      <td>AUSENTE</td>\n",
              "      <td>AUSENTE</td>\n",
              "      <td>AUSENTE</td>\n",
              "      <td>AUSENTE</td>\n",
              "      <td>AUSENTE</td>\n",
              "      <td>AUSENTE</td>\n",
              "      <td>AUSENTE</td>\n",
              "      <td>AUSENTE</td>\n",
              "      <td>AUSENTE</td>\n",
              "      <td>AUSENTE</td>\n",
              "      <td>AUSENTE</td>\n",
              "      <td>AUSENTE</td>\n",
              "      <td>AUSENTE</td>\n",
              "      <td>AUSENTE</td>\n",
              "      <td>AUSENTE</td>\n",
              "      <td>AUSENTE</td>\n",
              "      <td>AUSENTE</td>\n",
              "      <td>AUSENTE</td>\n",
              "      <td>NaN</td>\n",
              "      <td>NaN</td>\n",
              "      <td>NaN</td>\n",
              "      <td>NaN</td>\n",
              "      <td>NaN</td>\n",
              "      <td>NaN</td>\n",
              "      <td>NaN</td>\n",
              "      <td>NaN</td>\n",
              "      <td>NaN</td>\n",
              "      <td>NaN</td>\n",
              "      <td>NaN</td>\n",
              "      <td>NaN</td>\n",
              "      <td>NaN</td>\n",
              "      <td>NaN</td>\n",
              "      <td>NaN</td>\n",
              "      <td>NaN</td>\n",
              "      <td>NaN</td>\n",
              "      <td>NaN</td>\n",
              "      <td>NaN</td>\n",
              "      <td>NaN</td>\n",
              "      <td>NaN</td>\n",
              "      <td>NaN</td>\n",
              "      <td>NaN</td>\n",
              "      <td>NaN</td>\n",
              "      <td>NaN</td>\n",
              "      <td>NaN</td>\n",
              "      <td>NaN</td>\n",
              "      <td>NaN</td>\n",
              "      <td>NaN</td>\n",
              "      <td>NaN</td>\n",
              "      <td>NaN</td>\n",
              "      <td>NaN</td>\n",
              "      <td>NaN</td>\n",
              "    </tr>\n",
              "    <tr>\n",
              "      <th>2</th>\n",
              "      <td>ABDALA DE MATARAZZO Norma Amanda</td>\n",
              "      <td>AFIRMATIVO</td>\n",
              "      <td>AFIRMATIVO</td>\n",
              "      <td>AFIRMATIVO</td>\n",
              "      <td>AFIRMATIVO</td>\n",
              "      <td>AFIRMATIVO</td>\n",
              "      <td>AFIRMATIVO</td>\n",
              "      <td>AFIRMATIVO</td>\n",
              "      <td>AFIRMATIVO</td>\n",
              "      <td>AFIRMATIVO</td>\n",
              "      <td>ABSTENCION</td>\n",
              "      <td>AFIRMATIVO</td>\n",
              "      <td>AFIRMATIVO</td>\n",
              "      <td>AFIRMATIVO</td>\n",
              "      <td>AFIRMATIVO</td>\n",
              "      <td>AFIRMATIVO</td>\n",
              "      <td>AFIRMATIVO</td>\n",
              "      <td>AFIRMATIVO</td>\n",
              "      <td>AFIRMATIVO</td>\n",
              "      <td>AFIRMATIVO</td>\n",
              "      <td>AFIRMATIVO</td>\n",
              "      <td>AFIRMATIVO</td>\n",
              "      <td>AFIRMATIVO</td>\n",
              "      <td>AFIRMATIVO</td>\n",
              "      <td>AFIRMATIVO</td>\n",
              "      <td>AFIRMATIVO</td>\n",
              "      <td>AFIRMATIVO</td>\n",
              "      <td>AFIRMATIVO</td>\n",
              "      <td>AFIRMATIVO</td>\n",
              "      <td>AFIRMATIVO</td>\n",
              "      <td>AFIRMATIVO</td>\n",
              "      <td>AFIRMATIVO</td>\n",
              "      <td>AFIRMATIVO</td>\n",
              "      <td>AFIRMATIVO</td>\n",
              "      <td>AFIRMATIVO</td>\n",
              "      <td>AFIRMATIVO</td>\n",
              "      <td>AFIRMATIVO</td>\n",
              "      <td>AFIRMATIVO</td>\n",
              "      <td>AFIRMATIVO</td>\n",
              "      <td>AFIRMATIVO</td>\n",
              "      <td>AFIRMATIVO</td>\n",
              "      <td>AFIRMATIVO</td>\n",
              "      <td>NEGATIVO</td>\n",
              "      <td>AFIRMATIVO</td>\n",
              "      <td>AFIRMATIVO</td>\n",
              "      <td>AFIRMATIVO</td>\n",
              "      <td>AUSENTE</td>\n",
              "      <td>AUSENTE</td>\n",
              "      <td>AUSENTE</td>\n",
              "      <td>AFIRMATIVO</td>\n",
              "      <td>AFIRMATIVO</td>\n",
              "      <td>AFIRMATIVO</td>\n",
              "      <td>AUSENTE</td>\n",
              "      <td>AUSENTE</td>\n",
              "      <td>AUSENTE</td>\n",
              "      <td>AUSENTE</td>\n",
              "      <td>AFIRMATIVO</td>\n",
              "      <td>AFIRMATIVO</td>\n",
              "      <td>AFIRMATIVO</td>\n",
              "      <td>AFIRMATIVO</td>\n",
              "      <td>AFIRMATIVO</td>\n",
              "      <td>AFIRMATIVO</td>\n",
              "      <td>AFIRMATIVO</td>\n",
              "      <td>AFIRMATIVO</td>\n",
              "      <td>AFIRMATIVO</td>\n",
              "      <td>AFIRMATIVO</td>\n",
              "      <td>AFIRMATIVO</td>\n",
              "      <td>AFIRMATIVO</td>\n",
              "      <td>NEGATIVO</td>\n",
              "      <td>AFIRMATIVO</td>\n",
              "    </tr>\n",
              "    <tr>\n",
              "      <th>3</th>\n",
              "      <td>ACERENZA Samanta María Celeste</td>\n",
              "      <td>NEGATIVO</td>\n",
              "      <td>NEGATIVO</td>\n",
              "      <td>NEGATIVO</td>\n",
              "      <td>AFIRMATIVO</td>\n",
              "      <td>AFIRMATIVO</td>\n",
              "      <td>ABSTENCION</td>\n",
              "      <td>AFIRMATIVO</td>\n",
              "      <td>AFIRMATIVO</td>\n",
              "      <td>AFIRMATIVO</td>\n",
              "      <td>AFIRMATIVO</td>\n",
              "      <td>AFIRMATIVO</td>\n",
              "      <td>AFIRMATIVO</td>\n",
              "      <td>AFIRMATIVO</td>\n",
              "      <td>AFIRMATIVO</td>\n",
              "      <td>AFIRMATIVO</td>\n",
              "      <td>AFIRMATIVO</td>\n",
              "      <td>AFIRMATIVO</td>\n",
              "      <td>AFIRMATIVO</td>\n",
              "      <td>AFIRMATIVO</td>\n",
              "      <td>AFIRMATIVO</td>\n",
              "      <td>AFIRMATIVO</td>\n",
              "      <td>AFIRMATIVO</td>\n",
              "      <td>AFIRMATIVO</td>\n",
              "      <td>AFIRMATIVO</td>\n",
              "      <td>AFIRMATIVO</td>\n",
              "      <td>AFIRMATIVO</td>\n",
              "      <td>AFIRMATIVO</td>\n",
              "      <td>AFIRMATIVO</td>\n",
              "      <td>AFIRMATIVO</td>\n",
              "      <td>AFIRMATIVO</td>\n",
              "      <td>AFIRMATIVO</td>\n",
              "      <td>AFIRMATIVO</td>\n",
              "      <td>AFIRMATIVO</td>\n",
              "      <td>AFIRMATIVO</td>\n",
              "      <td>AFIRMATIVO</td>\n",
              "      <td>AFIRMATIVO</td>\n",
              "      <td>AUSENTE</td>\n",
              "      <td>AFIRMATIVO</td>\n",
              "      <td>AFIRMATIVO</td>\n",
              "      <td>AFIRMATIVO</td>\n",
              "      <td>AFIRMATIVO</td>\n",
              "      <td>NEGATIVO</td>\n",
              "      <td>AFIRMATIVO</td>\n",
              "      <td>AUSENTE</td>\n",
              "      <td>AUSENTE</td>\n",
              "      <td>AUSENTE</td>\n",
              "      <td>AUSENTE</td>\n",
              "      <td>AUSENTE</td>\n",
              "      <td>AUSENTE</td>\n",
              "      <td>ABSTENCION</td>\n",
              "      <td>AFIRMATIVO</td>\n",
              "      <td>AFIRMATIVO</td>\n",
              "      <td>NEGATIVO</td>\n",
              "      <td>AFIRMATIVO</td>\n",
              "      <td>AFIRMATIVO</td>\n",
              "      <td>AFIRMATIVO</td>\n",
              "      <td>AFIRMATIVO</td>\n",
              "      <td>AFIRMATIVO</td>\n",
              "      <td>AFIRMATIVO</td>\n",
              "      <td>AFIRMATIVO</td>\n",
              "      <td>AFIRMATIVO</td>\n",
              "      <td>AFIRMATIVO</td>\n",
              "      <td>AFIRMATIVO</td>\n",
              "      <td>AFIRMATIVO</td>\n",
              "      <td>AFIRMATIVO</td>\n",
              "      <td>AFIRMATIVO</td>\n",
              "      <td>AFIRMATIVO</td>\n",
              "      <td>AFIRMATIVO</td>\n",
              "      <td>AFIRMATIVO</td>\n",
              "    </tr>\n",
              "    <tr>\n",
              "      <th>4</th>\n",
              "      <td>AICEGA Juan</td>\n",
              "      <td>NEGATIVO</td>\n",
              "      <td>NEGATIVO</td>\n",
              "      <td>NEGATIVO</td>\n",
              "      <td>AFIRMATIVO</td>\n",
              "      <td>AFIRMATIVO</td>\n",
              "      <td>NEGATIVO</td>\n",
              "      <td>AFIRMATIVO</td>\n",
              "      <td>AFIRMATIVO</td>\n",
              "      <td>NEGATIVO</td>\n",
              "      <td>AFIRMATIVO</td>\n",
              "      <td>AFIRMATIVO</td>\n",
              "      <td>AFIRMATIVO</td>\n",
              "      <td>AFIRMATIVO</td>\n",
              "      <td>AFIRMATIVO</td>\n",
              "      <td>AFIRMATIVO</td>\n",
              "      <td>AFIRMATIVO</td>\n",
              "      <td>AFIRMATIVO</td>\n",
              "      <td>AFIRMATIVO</td>\n",
              "      <td>AFIRMATIVO</td>\n",
              "      <td>AFIRMATIVO</td>\n",
              "      <td>AFIRMATIVO</td>\n",
              "      <td>AFIRMATIVO</td>\n",
              "      <td>AFIRMATIVO</td>\n",
              "      <td>AFIRMATIVO</td>\n",
              "      <td>AFIRMATIVO</td>\n",
              "      <td>AFIRMATIVO</td>\n",
              "      <td>AFIRMATIVO</td>\n",
              "      <td>AFIRMATIVO</td>\n",
              "      <td>AFIRMATIVO</td>\n",
              "      <td>AFIRMATIVO</td>\n",
              "      <td>AFIRMATIVO</td>\n",
              "      <td>AFIRMATIVO</td>\n",
              "      <td>AFIRMATIVO</td>\n",
              "      <td>AFIRMATIVO</td>\n",
              "      <td>AFIRMATIVO</td>\n",
              "      <td>AFIRMATIVO</td>\n",
              "      <td>AFIRMATIVO</td>\n",
              "      <td>AFIRMATIVO</td>\n",
              "      <td>AFIRMATIVO</td>\n",
              "      <td>AFIRMATIVO</td>\n",
              "      <td>AFIRMATIVO</td>\n",
              "      <td>NEGATIVO</td>\n",
              "      <td>AUSENTE</td>\n",
              "      <td>AFIRMATIVO</td>\n",
              "      <td>AFIRMATIVO</td>\n",
              "      <td>AFIRMATIVO</td>\n",
              "      <td>AUSENTE</td>\n",
              "      <td>AUSENTE</td>\n",
              "      <td>AFIRMATIVO</td>\n",
              "      <td>NEGATIVO</td>\n",
              "      <td>AFIRMATIVO</td>\n",
              "      <td>NEGATIVO</td>\n",
              "      <td>NEGATIVO</td>\n",
              "      <td>AFIRMATIVO</td>\n",
              "      <td>AFIRMATIVO</td>\n",
              "      <td>NEGATIVO</td>\n",
              "      <td>AUSENTE</td>\n",
              "      <td>AUSENTE</td>\n",
              "      <td>AUSENTE</td>\n",
              "      <td>AFIRMATIVO</td>\n",
              "      <td>AFIRMATIVO</td>\n",
              "      <td>AFIRMATIVO</td>\n",
              "      <td>AFIRMATIVO</td>\n",
              "      <td>AFIRMATIVO</td>\n",
              "      <td>AFIRMATIVO</td>\n",
              "      <td>AFIRMATIVO</td>\n",
              "      <td>AFIRMATIVO</td>\n",
              "      <td>AFIRMATIVO</td>\n",
              "      <td>AFIRMATIVO</td>\n",
              "    </tr>\n",
              "  </tbody>\n",
              "</table>\n",
              "</div>"
            ],
            "text/plain": [
              "index                   diputado_nombre        3864        3865        3866  \\\n",
              "0                                   NaN         NaN         NaN         NaN   \n",
              "1         . NO INCORPORADO Legislador 2     AUSENTE     AUSENTE     AUSENTE   \n",
              "2      ABDALA DE MATARAZZO Norma Amanda  AFIRMATIVO  AFIRMATIVO  AFIRMATIVO   \n",
              "3        ACERENZA Samanta María Celeste    NEGATIVO    NEGATIVO    NEGATIVO   \n",
              "4                           AICEGA Juan    NEGATIVO    NEGATIVO    NEGATIVO   \n",
              "\n",
              "index        3867        3868        3869        3870        3871        3872  \\\n",
              "0             NaN         NaN         NaN         NaN         NaN         NaN   \n",
              "1         AUSENTE     AUSENTE     AUSENTE     AUSENTE     AUSENTE     AUSENTE   \n",
              "2      AFIRMATIVO  AFIRMATIVO  AFIRMATIVO  AFIRMATIVO  AFIRMATIVO  AFIRMATIVO   \n",
              "3      AFIRMATIVO  AFIRMATIVO  ABSTENCION  AFIRMATIVO  AFIRMATIVO  AFIRMATIVO   \n",
              "4      AFIRMATIVO  AFIRMATIVO    NEGATIVO  AFIRMATIVO  AFIRMATIVO    NEGATIVO   \n",
              "\n",
              "index        3873        3874        3875        3876        3877        3878  \\\n",
              "0             NaN         NaN         NaN         NaN         NaN         NaN   \n",
              "1         AUSENTE     AUSENTE     AUSENTE     AUSENTE     AUSENTE     AUSENTE   \n",
              "2      ABSTENCION  AFIRMATIVO  AFIRMATIVO  AFIRMATIVO  AFIRMATIVO  AFIRMATIVO   \n",
              "3      AFIRMATIVO  AFIRMATIVO  AFIRMATIVO  AFIRMATIVO  AFIRMATIVO  AFIRMATIVO   \n",
              "4      AFIRMATIVO  AFIRMATIVO  AFIRMATIVO  AFIRMATIVO  AFIRMATIVO  AFIRMATIVO   \n",
              "\n",
              "index        3879        3880        3881        3882        3883        3884  \\\n",
              "0             NaN         NaN         NaN         NaN         NaN         NaN   \n",
              "1         AUSENTE     AUSENTE     AUSENTE     AUSENTE     AUSENTE     AUSENTE   \n",
              "2      AFIRMATIVO  AFIRMATIVO  AFIRMATIVO  AFIRMATIVO  AFIRMATIVO  AFIRMATIVO   \n",
              "3      AFIRMATIVO  AFIRMATIVO  AFIRMATIVO  AFIRMATIVO  AFIRMATIVO  AFIRMATIVO   \n",
              "4      AFIRMATIVO  AFIRMATIVO  AFIRMATIVO  AFIRMATIVO  AFIRMATIVO  AFIRMATIVO   \n",
              "\n",
              "index        3885        3886        3887        3888        3889        3890  \\\n",
              "0             NaN         NaN         NaN         NaN         NaN         NaN   \n",
              "1         AUSENTE     AUSENTE     AUSENTE     AUSENTE     AUSENTE     AUSENTE   \n",
              "2      AFIRMATIVO  AFIRMATIVO  AFIRMATIVO  AFIRMATIVO  AFIRMATIVO  AFIRMATIVO   \n",
              "3      AFIRMATIVO  AFIRMATIVO  AFIRMATIVO  AFIRMATIVO  AFIRMATIVO  AFIRMATIVO   \n",
              "4      AFIRMATIVO  AFIRMATIVO  AFIRMATIVO  AFIRMATIVO  AFIRMATIVO  AFIRMATIVO   \n",
              "\n",
              "index        3891        3892        3893        3894        3895        3896  \\\n",
              "0             NaN         NaN         NaN         NaN         NaN         NaN   \n",
              "1         AUSENTE     AUSENTE     AUSENTE     AUSENTE     AUSENTE     AUSENTE   \n",
              "2      AFIRMATIVO  AFIRMATIVO  AFIRMATIVO  AFIRMATIVO  AFIRMATIVO  AFIRMATIVO   \n",
              "3      AFIRMATIVO  AFIRMATIVO  AFIRMATIVO  AFIRMATIVO  AFIRMATIVO  AFIRMATIVO   \n",
              "4      AFIRMATIVO  AFIRMATIVO  AFIRMATIVO  AFIRMATIVO  AFIRMATIVO  AFIRMATIVO   \n",
              "\n",
              "index        3897        3898        3899        3900        3901        3902  \\\n",
              "0             NaN         NaN         NaN         NaN         NaN         NaN   \n",
              "1         AUSENTE     AUSENTE     AUSENTE         NaN         NaN         NaN   \n",
              "2      AFIRMATIVO  AFIRMATIVO  AFIRMATIVO  AFIRMATIVO  AFIRMATIVO  AFIRMATIVO   \n",
              "3      AFIRMATIVO  AFIRMATIVO  AFIRMATIVO     AUSENTE  AFIRMATIVO  AFIRMATIVO   \n",
              "4      AFIRMATIVO  AFIRMATIVO  AFIRMATIVO  AFIRMATIVO  AFIRMATIVO  AFIRMATIVO   \n",
              "\n",
              "index        3903        3904      3905        3906        3907        3908  \\\n",
              "0             NaN         NaN       NaN         NaN     AUSENTE     AUSENTE   \n",
              "1             NaN         NaN       NaN         NaN         NaN         NaN   \n",
              "2      AFIRMATIVO  AFIRMATIVO  NEGATIVO  AFIRMATIVO  AFIRMATIVO  AFIRMATIVO   \n",
              "3      AFIRMATIVO  AFIRMATIVO  NEGATIVO  AFIRMATIVO     AUSENTE     AUSENTE   \n",
              "4      AFIRMATIVO  AFIRMATIVO  NEGATIVO     AUSENTE  AFIRMATIVO  AFIRMATIVO   \n",
              "\n",
              "index        3909     3910     3911        3912        3913        3914  \\\n",
              "0         AUSENTE  AUSENTE  AUSENTE     AUSENTE     AUSENTE     AUSENTE   \n",
              "1             NaN      NaN      NaN         NaN         NaN         NaN   \n",
              "2         AUSENTE  AUSENTE  AUSENTE  AFIRMATIVO  AFIRMATIVO  AFIRMATIVO   \n",
              "3         AUSENTE  AUSENTE  AUSENTE     AUSENTE  ABSTENCION  AFIRMATIVO   \n",
              "4      AFIRMATIVO  AUSENTE  AUSENTE  AFIRMATIVO    NEGATIVO  AFIRMATIVO   \n",
              "\n",
              "index        3915      3916        3917        3918        3919        3920  \\\n",
              "0         AUSENTE   AUSENTE     AUSENTE     AUSENTE     AUSENTE     AUSENTE   \n",
              "1             NaN       NaN         NaN         NaN         NaN         NaN   \n",
              "2         AUSENTE   AUSENTE     AUSENTE     AUSENTE  AFIRMATIVO  AFIRMATIVO   \n",
              "3      AFIRMATIVO  NEGATIVO  AFIRMATIVO  AFIRMATIVO  AFIRMATIVO  AFIRMATIVO   \n",
              "4        NEGATIVO  NEGATIVO  AFIRMATIVO  AFIRMATIVO    NEGATIVO     AUSENTE   \n",
              "\n",
              "index        3921        3922        3923        3924        3925        3926  \\\n",
              "0         AUSENTE     AUSENTE     AUSENTE     AUSENTE     AUSENTE     AUSENTE   \n",
              "1             NaN         NaN         NaN         NaN         NaN         NaN   \n",
              "2      AFIRMATIVO  AFIRMATIVO  AFIRMATIVO  AFIRMATIVO  AFIRMATIVO  AFIRMATIVO   \n",
              "3      AFIRMATIVO  AFIRMATIVO  AFIRMATIVO  AFIRMATIVO  AFIRMATIVO  AFIRMATIVO   \n",
              "4         AUSENTE     AUSENTE  AFIRMATIVO  AFIRMATIVO  AFIRMATIVO  AFIRMATIVO   \n",
              "\n",
              "index        3927        3928        3929        3930        3931        3932  \n",
              "0         AUSENTE     AUSENTE     AUSENTE     AUSENTE     AUSENTE     AUSENTE  \n",
              "1             NaN         NaN         NaN         NaN         NaN         NaN  \n",
              "2      AFIRMATIVO  AFIRMATIVO  AFIRMATIVO  AFIRMATIVO    NEGATIVO  AFIRMATIVO  \n",
              "3      AFIRMATIVO  AFIRMATIVO  AFIRMATIVO  AFIRMATIVO  AFIRMATIVO  AFIRMATIVO  \n",
              "4      AFIRMATIVO  AFIRMATIVO  AFIRMATIVO  AFIRMATIVO  AFIRMATIVO  AFIRMATIVO  "
            ]
          },
          "metadata": {},
          "execution_count": 20
        }
      ]
    },
    {
      "cell_type": "markdown",
      "metadata": {
        "id": "iRbxu_0JiJ3_"
      },
      "source": [
        "La fila 0 es llamativa ya que no tiene el nombre del diputado. Vamos a controlar que no tengamos nulos en ninguna fila (ya que al filtrar antes de la asunción de los diputados nuevos, salvo excepciones no deberíamos tener nulos en las votaciones)."
      ]
    },
    {
      "cell_type": "code",
      "metadata": {
        "colab": {
          "base_uri": "https://localhost:8080/"
        },
        "id": "F5toYG_gjZGz",
        "outputId": "a386417f-1a5b-47e0-b610-d963514796d2"
      },
      "source": [
        "df.isna().sum().head()"
      ],
      "execution_count": 21,
      "outputs": [
        {
          "output_type": "execute_result",
          "data": {
            "text/plain": [
              "index\n",
              "diputado_nombre    1\n",
              "3864               3\n",
              "3865               3\n",
              "3866               3\n",
              "3867               3\n",
              "dtype: int64"
            ]
          },
          "metadata": {},
          "execution_count": 21
        }
      ]
    },
    {
      "cell_type": "code",
      "metadata": {
        "colab": {
          "base_uri": "https://localhost:8080/"
        },
        "id": "3AaN9XMCN4YN",
        "outputId": "d895ddf0-978c-4c72-e6c5-26f56cb25c4c"
      },
      "source": [
        "max(df.isna().sum())"
      ],
      "execution_count": 22,
      "outputs": [
        {
          "output_type": "execute_result",
          "data": {
            "text/plain": [
              "3"
            ]
          },
          "metadata": {},
          "execution_count": 22
        }
      ]
    },
    {
      "cell_type": "markdown",
      "metadata": {
        "id": "8n_yYt_xSMpL"
      },
      "source": [
        "Tenemos hasta 3 nulos por votación y además tenemos más diputados de los que esperábamos. Si bien lo correcto sería investigar esta situación particular, como simplificación vamos a hacer el drop de las filas con nulos para poder seguir avanzando."
      ]
    },
    {
      "cell_type": "code",
      "metadata": {
        "colab": {
          "base_uri": "https://localhost:8080/"
        },
        "id": "MJcKLcvQN64W",
        "outputId": "8058d384-91f8-40c5-a51b-da9971f8270e"
      },
      "source": [
        "df.shape"
      ],
      "execution_count": 23,
      "outputs": [
        {
          "output_type": "execute_result",
          "data": {
            "text/plain": [
              "(260, 70)"
            ]
          },
          "metadata": {},
          "execution_count": 23
        }
      ]
    },
    {
      "cell_type": "code",
      "metadata": {
        "colab": {
          "base_uri": "https://localhost:8080/"
        },
        "id": "kph2lG-BN9wo",
        "outputId": "f72f3952-bf11-476a-8d33-69628d4696fc"
      },
      "source": [
        "df = df.dropna()\n",
        "df.shape"
      ],
      "execution_count": 24,
      "outputs": [
        {
          "output_type": "execute_result",
          "data": {
            "text/plain": [
              "(254, 70)"
            ]
          },
          "metadata": {},
          "execution_count": 24
        }
      ]
    },
    {
      "cell_type": "markdown",
      "metadata": {
        "id": "0eD4NF9FjkMf"
      },
      "source": [
        "Vamos a trabajar con las votaciones de 254 diputados, bastante cerca del número que esperábamos (257). Para una primera exploración parece suficiente."
      ]
    },
    {
      "cell_type": "markdown",
      "metadata": {
        "id": "LBbRIBoLODEQ"
      },
      "source": [
        "## Modelo"
      ]
    },
    {
      "cell_type": "markdown",
      "metadata": {
        "id": "z_OM6a7lSaf8"
      },
      "source": [
        "Finalmente llegamos al modelo. como dijimos vamos a usar Pycaret para realizar un modelo rápido. Como algoritmo vamos a usar k-means, que es uno de los modelos de clustering disponibles en la librería y es uno de los métodos más simples de aprendizaje no supervisado. Básicamente lo que hace el algoritmo es identificar un número de centroides y agrupar los datos al centroide más cercano.\n",
        "\n",
        "Como no buscamos realizar predicciones sino simplemente explorar el comportamiento de los diputados, vamos a utilizar el dataset en su totalidad (saltándonos el paso de separar en entrenamiento y testeo).\n",
        "\n",
        "El primer paso es realizar el setup del entorno. Vamos a indicar un session_id para que los resultados sean reproducibles y vamos a ignorar la columna de diputado_nombre, ya que no queremos que el modelo lo utilice como un feature.\n",
        "\n",
        "Como estamos frente a un problema de clusterización importamos sólo la librería de clusterización (from pycaret.clustering import *). \n",
        "Pycaret permite resolver problemas de:\n",
        "* Classification\n",
        "* Regression\n",
        "* Clustering\n",
        "* Anomaly Detection\n",
        "* Natural Language Processing\n",
        "* Association Rule Mining\n",
        "* Time Series (por ahora en beta)\n",
        "\n",
        "Al correr la celda de setup, Pycaret identificará el tipo de cada columna y nos pedirá que confirmemos si los tipos son correctos. La función de setup tiene diversas opciones para realizar distintas normalizaciones y transformaciones, e incluso para crear nuevos features en base a los existentes. Por ahora lo vamos a mantener simple y vamos a utilizar los valores por defecto.\n",
        "\n",
        "Si quieren aprender más de pycaret, en el github de la librería hay varios ejemplos muy interesantes: https://github.com/pycaret/pycaret/tree/master/tutorials\n"
      ]
    },
    {
      "cell_type": "code",
      "metadata": {
        "colab": {
          "base_uri": "https://localhost:8080/",
          "height": 1000,
          "referenced_widgets": [
            "58a0c9e49d8340db90391efd1124cc2d",
            "d7864aed032d40fc8feae77b780974f0",
            "960c92e641b6418fa6ad9f4fcf88d140",
            "609b83d619df4e44978c97816c628c03",
            "b2f500f596564ec8ab095eac3897db57",
            "d6fa491061f747bbab17cfc5817f5cf0"
          ]
        },
        "id": "bkUW79AKOBO_",
        "outputId": "56a13bb3-9f82-4dfc-8c60-1374cbe381ee"
      },
      "source": [
        "cluster = setup(data = df, session_id = 1, ignore_features=[\"diputado_nombre\"])"
      ],
      "execution_count": 25,
      "outputs": [
        {
          "output_type": "display_data",
          "data": {
            "text/html": [
              "<div>\n",
              "<style scoped>\n",
              "    .dataframe tbody tr th:only-of-type {\n",
              "        vertical-align: middle;\n",
              "    }\n",
              "\n",
              "    .dataframe tbody tr th {\n",
              "        vertical-align: top;\n",
              "    }\n",
              "\n",
              "    .dataframe thead th {\n",
              "        text-align: right;\n",
              "    }\n",
              "</style>\n",
              "<table border=\"1\" class=\"dataframe\">\n",
              "  <thead>\n",
              "    <tr style=\"text-align: right;\">\n",
              "      <th></th>\n",
              "      <th>Description</th>\n",
              "      <th>Value</th>\n",
              "    </tr>\n",
              "  </thead>\n",
              "  <tbody>\n",
              "    <tr>\n",
              "      <th>0</th>\n",
              "      <td>session_id</td>\n",
              "      <td>1</td>\n",
              "    </tr>\n",
              "    <tr>\n",
              "      <th>1</th>\n",
              "      <td>Original Data</td>\n",
              "      <td>(254, 70)</td>\n",
              "    </tr>\n",
              "    <tr>\n",
              "      <th>2</th>\n",
              "      <td>Missing Values</td>\n",
              "      <td>False</td>\n",
              "    </tr>\n",
              "    <tr>\n",
              "      <th>3</th>\n",
              "      <td>Numeric Features</td>\n",
              "      <td>0</td>\n",
              "    </tr>\n",
              "    <tr>\n",
              "      <th>4</th>\n",
              "      <td>Categorical Features</td>\n",
              "      <td>69</td>\n",
              "    </tr>\n",
              "    <tr>\n",
              "      <th>5</th>\n",
              "      <td>Ordinal Features</td>\n",
              "      <td>False</td>\n",
              "    </tr>\n",
              "    <tr>\n",
              "      <th>6</th>\n",
              "      <td>High Cardinality Features</td>\n",
              "      <td>False</td>\n",
              "    </tr>\n",
              "    <tr>\n",
              "      <th>7</th>\n",
              "      <td>High Cardinality Method</td>\n",
              "      <td>None</td>\n",
              "    </tr>\n",
              "    <tr>\n",
              "      <th>8</th>\n",
              "      <td>Transformed Data</td>\n",
              "      <td>(254, 218)</td>\n",
              "    </tr>\n",
              "    <tr>\n",
              "      <th>9</th>\n",
              "      <td>CPU Jobs</td>\n",
              "      <td>-1</td>\n",
              "    </tr>\n",
              "    <tr>\n",
              "      <th>10</th>\n",
              "      <td>Use GPU</td>\n",
              "      <td>False</td>\n",
              "    </tr>\n",
              "    <tr>\n",
              "      <th>11</th>\n",
              "      <td>Log Experiment</td>\n",
              "      <td>False</td>\n",
              "    </tr>\n",
              "    <tr>\n",
              "      <th>12</th>\n",
              "      <td>Experiment Name</td>\n",
              "      <td>cluster-default-name</td>\n",
              "    </tr>\n",
              "    <tr>\n",
              "      <th>13</th>\n",
              "      <td>USI</td>\n",
              "      <td>ec40</td>\n",
              "    </tr>\n",
              "    <tr>\n",
              "      <th>14</th>\n",
              "      <td>Imputation Type</td>\n",
              "      <td>simple</td>\n",
              "    </tr>\n",
              "    <tr>\n",
              "      <th>15</th>\n",
              "      <td>Iterative Imputation Iteration</td>\n",
              "      <td>None</td>\n",
              "    </tr>\n",
              "    <tr>\n",
              "      <th>16</th>\n",
              "      <td>Numeric Imputer</td>\n",
              "      <td>mean</td>\n",
              "    </tr>\n",
              "    <tr>\n",
              "      <th>17</th>\n",
              "      <td>Iterative Imputation Numeric Model</td>\n",
              "      <td>None</td>\n",
              "    </tr>\n",
              "    <tr>\n",
              "      <th>18</th>\n",
              "      <td>Categorical Imputer</td>\n",
              "      <td>mode</td>\n",
              "    </tr>\n",
              "    <tr>\n",
              "      <th>19</th>\n",
              "      <td>Iterative Imputation Categorical Model</td>\n",
              "      <td>None</td>\n",
              "    </tr>\n",
              "    <tr>\n",
              "      <th>20</th>\n",
              "      <td>Unknown Categoricals Handling</td>\n",
              "      <td>least_frequent</td>\n",
              "    </tr>\n",
              "    <tr>\n",
              "      <th>21</th>\n",
              "      <td>Normalize</td>\n",
              "      <td>False</td>\n",
              "    </tr>\n",
              "    <tr>\n",
              "      <th>22</th>\n",
              "      <td>Normalize Method</td>\n",
              "      <td>None</td>\n",
              "    </tr>\n",
              "    <tr>\n",
              "      <th>23</th>\n",
              "      <td>Transformation</td>\n",
              "      <td>False</td>\n",
              "    </tr>\n",
              "    <tr>\n",
              "      <th>24</th>\n",
              "      <td>Transformation Method</td>\n",
              "      <td>None</td>\n",
              "    </tr>\n",
              "    <tr>\n",
              "      <th>25</th>\n",
              "      <td>PCA</td>\n",
              "      <td>False</td>\n",
              "    </tr>\n",
              "    <tr>\n",
              "      <th>26</th>\n",
              "      <td>PCA Method</td>\n",
              "      <td>None</td>\n",
              "    </tr>\n",
              "    <tr>\n",
              "      <th>27</th>\n",
              "      <td>PCA Components</td>\n",
              "      <td>None</td>\n",
              "    </tr>\n",
              "    <tr>\n",
              "      <th>28</th>\n",
              "      <td>Ignore Low Variance</td>\n",
              "      <td>False</td>\n",
              "    </tr>\n",
              "    <tr>\n",
              "      <th>29</th>\n",
              "      <td>Combine Rare Levels</td>\n",
              "      <td>False</td>\n",
              "    </tr>\n",
              "    <tr>\n",
              "      <th>30</th>\n",
              "      <td>Rare Level Threshold</td>\n",
              "      <td>None</td>\n",
              "    </tr>\n",
              "    <tr>\n",
              "      <th>31</th>\n",
              "      <td>Numeric Binning</td>\n",
              "      <td>False</td>\n",
              "    </tr>\n",
              "    <tr>\n",
              "      <th>32</th>\n",
              "      <td>Remove Outliers</td>\n",
              "      <td>False</td>\n",
              "    </tr>\n",
              "    <tr>\n",
              "      <th>33</th>\n",
              "      <td>Outliers Threshold</td>\n",
              "      <td>None</td>\n",
              "    </tr>\n",
              "    <tr>\n",
              "      <th>34</th>\n",
              "      <td>Remove Multicollinearity</td>\n",
              "      <td>False</td>\n",
              "    </tr>\n",
              "    <tr>\n",
              "      <th>35</th>\n",
              "      <td>Multicollinearity Threshold</td>\n",
              "      <td>None</td>\n",
              "    </tr>\n",
              "    <tr>\n",
              "      <th>36</th>\n",
              "      <td>Remove Perfect Collinearity</td>\n",
              "      <td>False</td>\n",
              "    </tr>\n",
              "    <tr>\n",
              "      <th>37</th>\n",
              "      <td>Clustering</td>\n",
              "      <td>False</td>\n",
              "    </tr>\n",
              "    <tr>\n",
              "      <th>38</th>\n",
              "      <td>Clustering Iteration</td>\n",
              "      <td>None</td>\n",
              "    </tr>\n",
              "    <tr>\n",
              "      <th>39</th>\n",
              "      <td>Polynomial Features</td>\n",
              "      <td>False</td>\n",
              "    </tr>\n",
              "    <tr>\n",
              "      <th>40</th>\n",
              "      <td>Polynomial Degree</td>\n",
              "      <td>None</td>\n",
              "    </tr>\n",
              "    <tr>\n",
              "      <th>41</th>\n",
              "      <td>Trignometry Features</td>\n",
              "      <td>False</td>\n",
              "    </tr>\n",
              "    <tr>\n",
              "      <th>42</th>\n",
              "      <td>Polynomial Threshold</td>\n",
              "      <td>None</td>\n",
              "    </tr>\n",
              "    <tr>\n",
              "      <th>43</th>\n",
              "      <td>Group Features</td>\n",
              "      <td>False</td>\n",
              "    </tr>\n",
              "    <tr>\n",
              "      <th>44</th>\n",
              "      <td>Feature Selection</td>\n",
              "      <td>False</td>\n",
              "    </tr>\n",
              "    <tr>\n",
              "      <th>45</th>\n",
              "      <td>Feature Selection Method</td>\n",
              "      <td>classic</td>\n",
              "    </tr>\n",
              "    <tr>\n",
              "      <th>46</th>\n",
              "      <td>Features Selection Threshold</td>\n",
              "      <td>None</td>\n",
              "    </tr>\n",
              "    <tr>\n",
              "      <th>47</th>\n",
              "      <td>Feature Interaction</td>\n",
              "      <td>False</td>\n",
              "    </tr>\n",
              "    <tr>\n",
              "      <th>48</th>\n",
              "      <td>Feature Ratio</td>\n",
              "      <td>False</td>\n",
              "    </tr>\n",
              "    <tr>\n",
              "      <th>49</th>\n",
              "      <td>Interaction Threshold</td>\n",
              "      <td>None</td>\n",
              "    </tr>\n",
              "  </tbody>\n",
              "</table>\n",
              "</div>"
            ],
            "text/plain": [
              "                               Description                 Value\n",
              "0                               session_id                     1\n",
              "1                            Original Data             (254, 70)\n",
              "2                           Missing Values                 False\n",
              "3                         Numeric Features                     0\n",
              "4                     Categorical Features                    69\n",
              "5                         Ordinal Features                 False\n",
              "6                High Cardinality Features                 False\n",
              "7                  High Cardinality Method                  None\n",
              "8                         Transformed Data            (254, 218)\n",
              "9                                 CPU Jobs                    -1\n",
              "10                                 Use GPU                 False\n",
              "11                          Log Experiment                 False\n",
              "12                         Experiment Name  cluster-default-name\n",
              "13                                     USI                  ec40\n",
              "14                         Imputation Type                simple\n",
              "15          Iterative Imputation Iteration                  None\n",
              "16                         Numeric Imputer                  mean\n",
              "17      Iterative Imputation Numeric Model                  None\n",
              "18                     Categorical Imputer                  mode\n",
              "19  Iterative Imputation Categorical Model                  None\n",
              "20           Unknown Categoricals Handling        least_frequent\n",
              "21                               Normalize                 False\n",
              "22                        Normalize Method                  None\n",
              "23                          Transformation                 False\n",
              "24                   Transformation Method                  None\n",
              "25                                     PCA                 False\n",
              "26                              PCA Method                  None\n",
              "27                          PCA Components                  None\n",
              "28                     Ignore Low Variance                 False\n",
              "29                     Combine Rare Levels                 False\n",
              "30                    Rare Level Threshold                  None\n",
              "31                         Numeric Binning                 False\n",
              "32                         Remove Outliers                 False\n",
              "33                      Outliers Threshold                  None\n",
              "34                Remove Multicollinearity                 False\n",
              "35             Multicollinearity Threshold                  None\n",
              "36             Remove Perfect Collinearity                 False\n",
              "37                              Clustering                 False\n",
              "38                    Clustering Iteration                  None\n",
              "39                     Polynomial Features                 False\n",
              "40                       Polynomial Degree                  None\n",
              "41                    Trignometry Features                 False\n",
              "42                    Polynomial Threshold                  None\n",
              "43                          Group Features                 False\n",
              "44                       Feature Selection                 False\n",
              "45                Feature Selection Method               classic\n",
              "46            Features Selection Threshold                  None\n",
              "47                     Feature Interaction                 False\n",
              "48                           Feature Ratio                 False\n",
              "49                   Interaction Threshold                  None"
            ]
          },
          "metadata": {}
        }
      ]
    },
    {
      "cell_type": "markdown",
      "metadata": {
        "id": "uFkFAyiuS65s"
      },
      "source": [
        "Como dijimos, Pycaret se encarga de toda la transformación por nosotros. Si queremos ver cómo quedó el dataset luego de la transformación, podemos hacerlo desde get_config para acceder a la variable global que genera la librería."
      ]
    },
    {
      "cell_type": "code",
      "metadata": {
        "colab": {
          "base_uri": "https://localhost:8080/",
          "height": 256
        },
        "id": "P-yHuuKsOGXq",
        "outputId": "f001e574-49e7-44f2-ba64-23b6e00da504"
      },
      "source": [
        "get_config(\"X\").head()"
      ],
      "execution_count": 26,
      "outputs": [
        {
          "output_type": "execute_result",
          "data": {
            "text/html": [
              "<div>\n",
              "<style scoped>\n",
              "    .dataframe tbody tr th:only-of-type {\n",
              "        vertical-align: middle;\n",
              "    }\n",
              "\n",
              "    .dataframe tbody tr th {\n",
              "        vertical-align: top;\n",
              "    }\n",
              "\n",
              "    .dataframe thead th {\n",
              "        text-align: right;\n",
              "    }\n",
              "</style>\n",
              "<table border=\"1\" class=\"dataframe\">\n",
              "  <thead>\n",
              "    <tr style=\"text-align: right;\">\n",
              "      <th></th>\n",
              "      <th>3864_AFIRMATIVO</th>\n",
              "      <th>3864_AUSENTE</th>\n",
              "      <th>3864_NEGATIVO</th>\n",
              "      <th>3865_AFIRMATIVO</th>\n",
              "      <th>3865_AUSENTE</th>\n",
              "      <th>3865_NEGATIVO</th>\n",
              "      <th>3866_AFIRMATIVO</th>\n",
              "      <th>3866_AUSENTE</th>\n",
              "      <th>3866_NEGATIVO</th>\n",
              "      <th>3867_ABSTENCION</th>\n",
              "      <th>3867_AFIRMATIVO</th>\n",
              "      <th>3867_AUSENTE</th>\n",
              "      <th>3867_NEGATIVO</th>\n",
              "      <th>3868_ABSTENCION</th>\n",
              "      <th>3868_AFIRMATIVO</th>\n",
              "      <th>3868_AUSENTE</th>\n",
              "      <th>3869_ABSTENCION</th>\n",
              "      <th>3869_AFIRMATIVO</th>\n",
              "      <th>3869_AUSENTE</th>\n",
              "      <th>3869_NEGATIVO</th>\n",
              "      <th>3870_ABSTENCION</th>\n",
              "      <th>3870_AFIRMATIVO</th>\n",
              "      <th>3870_AUSENTE</th>\n",
              "      <th>3870_NEGATIVO</th>\n",
              "      <th>3871_ABSTENCION</th>\n",
              "      <th>3871_AFIRMATIVO</th>\n",
              "      <th>3871_AUSENTE</th>\n",
              "      <th>3871_NEGATIVO</th>\n",
              "      <th>3872_ABSTENCION</th>\n",
              "      <th>3872_AFIRMATIVO</th>\n",
              "      <th>3872_AUSENTE</th>\n",
              "      <th>3872_NEGATIVO</th>\n",
              "      <th>3873_ABSTENCION</th>\n",
              "      <th>3873_AFIRMATIVO</th>\n",
              "      <th>3873_AUSENTE</th>\n",
              "      <th>3874_AFIRMATIVO</th>\n",
              "      <th>3874_AUSENTE</th>\n",
              "      <th>3874_NEGATIVO</th>\n",
              "      <th>3875_ABSTENCION</th>\n",
              "      <th>3875_AFIRMATIVO</th>\n",
              "      <th>...</th>\n",
              "      <th>3920_ABSTENCION</th>\n",
              "      <th>3920_AFIRMATIVO</th>\n",
              "      <th>3920_AUSENTE</th>\n",
              "      <th>3920_NEGATIVO</th>\n",
              "      <th>3921_ABSTENCION</th>\n",
              "      <th>3921_AFIRMATIVO</th>\n",
              "      <th>3921_AUSENTE</th>\n",
              "      <th>3922_ABSTENCION</th>\n",
              "      <th>3922_AFIRMATIVO</th>\n",
              "      <th>3922_AUSENTE</th>\n",
              "      <th>3923_ABSTENCION</th>\n",
              "      <th>3923_AFIRMATIVO</th>\n",
              "      <th>3923_AUSENTE</th>\n",
              "      <th>3924_AFIRMATIVO</th>\n",
              "      <th>3924_AUSENTE</th>\n",
              "      <th>3925_ABSTENCION</th>\n",
              "      <th>3925_AFIRMATIVO</th>\n",
              "      <th>3925_AUSENTE</th>\n",
              "      <th>3926_AFIRMATIVO</th>\n",
              "      <th>3926_AUSENTE</th>\n",
              "      <th>3927_ABSTENCION</th>\n",
              "      <th>3927_AFIRMATIVO</th>\n",
              "      <th>3927_AUSENTE</th>\n",
              "      <th>3927_NEGATIVO</th>\n",
              "      <th>3928_AFIRMATIVO</th>\n",
              "      <th>3928_AUSENTE</th>\n",
              "      <th>3929_ABSTENCION</th>\n",
              "      <th>3929_AFIRMATIVO</th>\n",
              "      <th>3929_AUSENTE</th>\n",
              "      <th>3930_ABSTENCION</th>\n",
              "      <th>3930_AFIRMATIVO</th>\n",
              "      <th>3930_AUSENTE</th>\n",
              "      <th>3931_ABSTENCION</th>\n",
              "      <th>3931_AFIRMATIVO</th>\n",
              "      <th>3931_AUSENTE</th>\n",
              "      <th>3931_NEGATIVO</th>\n",
              "      <th>3932_ABSTENCION</th>\n",
              "      <th>3932_AFIRMATIVO</th>\n",
              "      <th>3932_AUSENTE</th>\n",
              "      <th>3932_NEGATIVO</th>\n",
              "    </tr>\n",
              "  </thead>\n",
              "  <tbody>\n",
              "    <tr>\n",
              "      <th>2</th>\n",
              "      <td>1.0</td>\n",
              "      <td>0.0</td>\n",
              "      <td>0.0</td>\n",
              "      <td>1.0</td>\n",
              "      <td>0.0</td>\n",
              "      <td>0.0</td>\n",
              "      <td>1.0</td>\n",
              "      <td>0.0</td>\n",
              "      <td>0.0</td>\n",
              "      <td>0.0</td>\n",
              "      <td>1.0</td>\n",
              "      <td>0.0</td>\n",
              "      <td>0.0</td>\n",
              "      <td>0.0</td>\n",
              "      <td>1.0</td>\n",
              "      <td>0.0</td>\n",
              "      <td>0.0</td>\n",
              "      <td>1.0</td>\n",
              "      <td>0.0</td>\n",
              "      <td>0.0</td>\n",
              "      <td>0.0</td>\n",
              "      <td>1.0</td>\n",
              "      <td>0.0</td>\n",
              "      <td>0.0</td>\n",
              "      <td>0.0</td>\n",
              "      <td>1.0</td>\n",
              "      <td>0.0</td>\n",
              "      <td>0.0</td>\n",
              "      <td>0.0</td>\n",
              "      <td>1.0</td>\n",
              "      <td>0.0</td>\n",
              "      <td>0.0</td>\n",
              "      <td>1.0</td>\n",
              "      <td>0.0</td>\n",
              "      <td>0.0</td>\n",
              "      <td>1.0</td>\n",
              "      <td>0.0</td>\n",
              "      <td>0.0</td>\n",
              "      <td>0.0</td>\n",
              "      <td>1.0</td>\n",
              "      <td>...</td>\n",
              "      <td>0.0</td>\n",
              "      <td>1.0</td>\n",
              "      <td>0.0</td>\n",
              "      <td>0.0</td>\n",
              "      <td>0.0</td>\n",
              "      <td>1.0</td>\n",
              "      <td>0.0</td>\n",
              "      <td>0.0</td>\n",
              "      <td>1.0</td>\n",
              "      <td>0.0</td>\n",
              "      <td>0.0</td>\n",
              "      <td>1.0</td>\n",
              "      <td>0.0</td>\n",
              "      <td>1.0</td>\n",
              "      <td>0.0</td>\n",
              "      <td>0.0</td>\n",
              "      <td>1.0</td>\n",
              "      <td>0.0</td>\n",
              "      <td>1.0</td>\n",
              "      <td>0.0</td>\n",
              "      <td>0.0</td>\n",
              "      <td>1.0</td>\n",
              "      <td>0.0</td>\n",
              "      <td>0.0</td>\n",
              "      <td>1.0</td>\n",
              "      <td>0.0</td>\n",
              "      <td>0.0</td>\n",
              "      <td>1.0</td>\n",
              "      <td>0.0</td>\n",
              "      <td>0.0</td>\n",
              "      <td>1.0</td>\n",
              "      <td>0.0</td>\n",
              "      <td>0.0</td>\n",
              "      <td>0.0</td>\n",
              "      <td>0.0</td>\n",
              "      <td>1.0</td>\n",
              "      <td>0.0</td>\n",
              "      <td>1.0</td>\n",
              "      <td>0.0</td>\n",
              "      <td>0.0</td>\n",
              "    </tr>\n",
              "    <tr>\n",
              "      <th>3</th>\n",
              "      <td>0.0</td>\n",
              "      <td>0.0</td>\n",
              "      <td>1.0</td>\n",
              "      <td>0.0</td>\n",
              "      <td>0.0</td>\n",
              "      <td>1.0</td>\n",
              "      <td>0.0</td>\n",
              "      <td>0.0</td>\n",
              "      <td>1.0</td>\n",
              "      <td>0.0</td>\n",
              "      <td>1.0</td>\n",
              "      <td>0.0</td>\n",
              "      <td>0.0</td>\n",
              "      <td>0.0</td>\n",
              "      <td>1.0</td>\n",
              "      <td>0.0</td>\n",
              "      <td>1.0</td>\n",
              "      <td>0.0</td>\n",
              "      <td>0.0</td>\n",
              "      <td>0.0</td>\n",
              "      <td>0.0</td>\n",
              "      <td>1.0</td>\n",
              "      <td>0.0</td>\n",
              "      <td>0.0</td>\n",
              "      <td>0.0</td>\n",
              "      <td>1.0</td>\n",
              "      <td>0.0</td>\n",
              "      <td>0.0</td>\n",
              "      <td>0.0</td>\n",
              "      <td>1.0</td>\n",
              "      <td>0.0</td>\n",
              "      <td>0.0</td>\n",
              "      <td>0.0</td>\n",
              "      <td>1.0</td>\n",
              "      <td>0.0</td>\n",
              "      <td>1.0</td>\n",
              "      <td>0.0</td>\n",
              "      <td>0.0</td>\n",
              "      <td>0.0</td>\n",
              "      <td>1.0</td>\n",
              "      <td>...</td>\n",
              "      <td>0.0</td>\n",
              "      <td>1.0</td>\n",
              "      <td>0.0</td>\n",
              "      <td>0.0</td>\n",
              "      <td>0.0</td>\n",
              "      <td>1.0</td>\n",
              "      <td>0.0</td>\n",
              "      <td>0.0</td>\n",
              "      <td>1.0</td>\n",
              "      <td>0.0</td>\n",
              "      <td>0.0</td>\n",
              "      <td>1.0</td>\n",
              "      <td>0.0</td>\n",
              "      <td>1.0</td>\n",
              "      <td>0.0</td>\n",
              "      <td>0.0</td>\n",
              "      <td>1.0</td>\n",
              "      <td>0.0</td>\n",
              "      <td>1.0</td>\n",
              "      <td>0.0</td>\n",
              "      <td>0.0</td>\n",
              "      <td>1.0</td>\n",
              "      <td>0.0</td>\n",
              "      <td>0.0</td>\n",
              "      <td>1.0</td>\n",
              "      <td>0.0</td>\n",
              "      <td>0.0</td>\n",
              "      <td>1.0</td>\n",
              "      <td>0.0</td>\n",
              "      <td>0.0</td>\n",
              "      <td>1.0</td>\n",
              "      <td>0.0</td>\n",
              "      <td>0.0</td>\n",
              "      <td>1.0</td>\n",
              "      <td>0.0</td>\n",
              "      <td>0.0</td>\n",
              "      <td>0.0</td>\n",
              "      <td>1.0</td>\n",
              "      <td>0.0</td>\n",
              "      <td>0.0</td>\n",
              "    </tr>\n",
              "    <tr>\n",
              "      <th>4</th>\n",
              "      <td>0.0</td>\n",
              "      <td>0.0</td>\n",
              "      <td>1.0</td>\n",
              "      <td>0.0</td>\n",
              "      <td>0.0</td>\n",
              "      <td>1.0</td>\n",
              "      <td>0.0</td>\n",
              "      <td>0.0</td>\n",
              "      <td>1.0</td>\n",
              "      <td>0.0</td>\n",
              "      <td>1.0</td>\n",
              "      <td>0.0</td>\n",
              "      <td>0.0</td>\n",
              "      <td>0.0</td>\n",
              "      <td>1.0</td>\n",
              "      <td>0.0</td>\n",
              "      <td>0.0</td>\n",
              "      <td>0.0</td>\n",
              "      <td>0.0</td>\n",
              "      <td>1.0</td>\n",
              "      <td>0.0</td>\n",
              "      <td>1.0</td>\n",
              "      <td>0.0</td>\n",
              "      <td>0.0</td>\n",
              "      <td>0.0</td>\n",
              "      <td>1.0</td>\n",
              "      <td>0.0</td>\n",
              "      <td>0.0</td>\n",
              "      <td>0.0</td>\n",
              "      <td>0.0</td>\n",
              "      <td>0.0</td>\n",
              "      <td>1.0</td>\n",
              "      <td>0.0</td>\n",
              "      <td>1.0</td>\n",
              "      <td>0.0</td>\n",
              "      <td>1.0</td>\n",
              "      <td>0.0</td>\n",
              "      <td>0.0</td>\n",
              "      <td>0.0</td>\n",
              "      <td>1.0</td>\n",
              "      <td>...</td>\n",
              "      <td>0.0</td>\n",
              "      <td>0.0</td>\n",
              "      <td>1.0</td>\n",
              "      <td>0.0</td>\n",
              "      <td>0.0</td>\n",
              "      <td>0.0</td>\n",
              "      <td>1.0</td>\n",
              "      <td>0.0</td>\n",
              "      <td>0.0</td>\n",
              "      <td>1.0</td>\n",
              "      <td>0.0</td>\n",
              "      <td>1.0</td>\n",
              "      <td>0.0</td>\n",
              "      <td>1.0</td>\n",
              "      <td>0.0</td>\n",
              "      <td>0.0</td>\n",
              "      <td>1.0</td>\n",
              "      <td>0.0</td>\n",
              "      <td>1.0</td>\n",
              "      <td>0.0</td>\n",
              "      <td>0.0</td>\n",
              "      <td>1.0</td>\n",
              "      <td>0.0</td>\n",
              "      <td>0.0</td>\n",
              "      <td>1.0</td>\n",
              "      <td>0.0</td>\n",
              "      <td>0.0</td>\n",
              "      <td>1.0</td>\n",
              "      <td>0.0</td>\n",
              "      <td>0.0</td>\n",
              "      <td>1.0</td>\n",
              "      <td>0.0</td>\n",
              "      <td>0.0</td>\n",
              "      <td>1.0</td>\n",
              "      <td>0.0</td>\n",
              "      <td>0.0</td>\n",
              "      <td>0.0</td>\n",
              "      <td>1.0</td>\n",
              "      <td>0.0</td>\n",
              "      <td>0.0</td>\n",
              "    </tr>\n",
              "    <tr>\n",
              "      <th>5</th>\n",
              "      <td>1.0</td>\n",
              "      <td>0.0</td>\n",
              "      <td>0.0</td>\n",
              "      <td>1.0</td>\n",
              "      <td>0.0</td>\n",
              "      <td>0.0</td>\n",
              "      <td>1.0</td>\n",
              "      <td>0.0</td>\n",
              "      <td>0.0</td>\n",
              "      <td>0.0</td>\n",
              "      <td>1.0</td>\n",
              "      <td>0.0</td>\n",
              "      <td>0.0</td>\n",
              "      <td>0.0</td>\n",
              "      <td>1.0</td>\n",
              "      <td>0.0</td>\n",
              "      <td>0.0</td>\n",
              "      <td>1.0</td>\n",
              "      <td>0.0</td>\n",
              "      <td>0.0</td>\n",
              "      <td>0.0</td>\n",
              "      <td>1.0</td>\n",
              "      <td>0.0</td>\n",
              "      <td>0.0</td>\n",
              "      <td>0.0</td>\n",
              "      <td>1.0</td>\n",
              "      <td>0.0</td>\n",
              "      <td>0.0</td>\n",
              "      <td>0.0</td>\n",
              "      <td>1.0</td>\n",
              "      <td>0.0</td>\n",
              "      <td>0.0</td>\n",
              "      <td>0.0</td>\n",
              "      <td>1.0</td>\n",
              "      <td>0.0</td>\n",
              "      <td>0.0</td>\n",
              "      <td>1.0</td>\n",
              "      <td>0.0</td>\n",
              "      <td>0.0</td>\n",
              "      <td>0.0</td>\n",
              "      <td>...</td>\n",
              "      <td>0.0</td>\n",
              "      <td>1.0</td>\n",
              "      <td>0.0</td>\n",
              "      <td>0.0</td>\n",
              "      <td>0.0</td>\n",
              "      <td>1.0</td>\n",
              "      <td>0.0</td>\n",
              "      <td>0.0</td>\n",
              "      <td>1.0</td>\n",
              "      <td>0.0</td>\n",
              "      <td>0.0</td>\n",
              "      <td>1.0</td>\n",
              "      <td>0.0</td>\n",
              "      <td>1.0</td>\n",
              "      <td>0.0</td>\n",
              "      <td>0.0</td>\n",
              "      <td>1.0</td>\n",
              "      <td>0.0</td>\n",
              "      <td>1.0</td>\n",
              "      <td>0.0</td>\n",
              "      <td>0.0</td>\n",
              "      <td>1.0</td>\n",
              "      <td>0.0</td>\n",
              "      <td>0.0</td>\n",
              "      <td>1.0</td>\n",
              "      <td>0.0</td>\n",
              "      <td>0.0</td>\n",
              "      <td>1.0</td>\n",
              "      <td>0.0</td>\n",
              "      <td>0.0</td>\n",
              "      <td>1.0</td>\n",
              "      <td>0.0</td>\n",
              "      <td>0.0</td>\n",
              "      <td>0.0</td>\n",
              "      <td>0.0</td>\n",
              "      <td>1.0</td>\n",
              "      <td>0.0</td>\n",
              "      <td>1.0</td>\n",
              "      <td>0.0</td>\n",
              "      <td>0.0</td>\n",
              "    </tr>\n",
              "    <tr>\n",
              "      <th>6</th>\n",
              "      <td>1.0</td>\n",
              "      <td>0.0</td>\n",
              "      <td>0.0</td>\n",
              "      <td>1.0</td>\n",
              "      <td>0.0</td>\n",
              "      <td>0.0</td>\n",
              "      <td>1.0</td>\n",
              "      <td>0.0</td>\n",
              "      <td>0.0</td>\n",
              "      <td>0.0</td>\n",
              "      <td>0.0</td>\n",
              "      <td>1.0</td>\n",
              "      <td>0.0</td>\n",
              "      <td>0.0</td>\n",
              "      <td>1.0</td>\n",
              "      <td>0.0</td>\n",
              "      <td>0.0</td>\n",
              "      <td>1.0</td>\n",
              "      <td>0.0</td>\n",
              "      <td>0.0</td>\n",
              "      <td>0.0</td>\n",
              "      <td>0.0</td>\n",
              "      <td>1.0</td>\n",
              "      <td>0.0</td>\n",
              "      <td>0.0</td>\n",
              "      <td>0.0</td>\n",
              "      <td>1.0</td>\n",
              "      <td>0.0</td>\n",
              "      <td>0.0</td>\n",
              "      <td>0.0</td>\n",
              "      <td>1.0</td>\n",
              "      <td>0.0</td>\n",
              "      <td>0.0</td>\n",
              "      <td>1.0</td>\n",
              "      <td>0.0</td>\n",
              "      <td>1.0</td>\n",
              "      <td>0.0</td>\n",
              "      <td>0.0</td>\n",
              "      <td>0.0</td>\n",
              "      <td>0.0</td>\n",
              "      <td>...</td>\n",
              "      <td>0.0</td>\n",
              "      <td>1.0</td>\n",
              "      <td>0.0</td>\n",
              "      <td>0.0</td>\n",
              "      <td>0.0</td>\n",
              "      <td>1.0</td>\n",
              "      <td>0.0</td>\n",
              "      <td>0.0</td>\n",
              "      <td>1.0</td>\n",
              "      <td>0.0</td>\n",
              "      <td>0.0</td>\n",
              "      <td>1.0</td>\n",
              "      <td>0.0</td>\n",
              "      <td>1.0</td>\n",
              "      <td>0.0</td>\n",
              "      <td>0.0</td>\n",
              "      <td>1.0</td>\n",
              "      <td>0.0</td>\n",
              "      <td>1.0</td>\n",
              "      <td>0.0</td>\n",
              "      <td>0.0</td>\n",
              "      <td>1.0</td>\n",
              "      <td>0.0</td>\n",
              "      <td>0.0</td>\n",
              "      <td>1.0</td>\n",
              "      <td>0.0</td>\n",
              "      <td>0.0</td>\n",
              "      <td>1.0</td>\n",
              "      <td>0.0</td>\n",
              "      <td>0.0</td>\n",
              "      <td>1.0</td>\n",
              "      <td>0.0</td>\n",
              "      <td>0.0</td>\n",
              "      <td>0.0</td>\n",
              "      <td>0.0</td>\n",
              "      <td>1.0</td>\n",
              "      <td>0.0</td>\n",
              "      <td>1.0</td>\n",
              "      <td>0.0</td>\n",
              "      <td>0.0</td>\n",
              "    </tr>\n",
              "  </tbody>\n",
              "</table>\n",
              "<p>5 rows × 218 columns</p>\n",
              "</div>"
            ],
            "text/plain": [
              "   3864_AFIRMATIVO  3864_AUSENTE  ...  3932_AUSENTE  3932_NEGATIVO\n",
              "2              1.0           0.0  ...           0.0            0.0\n",
              "3              0.0           0.0  ...           0.0            0.0\n",
              "4              0.0           0.0  ...           0.0            0.0\n",
              "5              1.0           0.0  ...           0.0            0.0\n",
              "6              1.0           0.0  ...           0.0            0.0\n",
              "\n",
              "[5 rows x 218 columns]"
            ]
          },
          "metadata": {},
          "execution_count": 26
        }
      ]
    },
    {
      "cell_type": "markdown",
      "metadata": {
        "id": "q4dwCyEhUVjF"
      },
      "source": [
        "Utilizamos entonces la función create_model y el argumento kmeans. Como número de clusters vamos a proponer inicialmente 2 (suponiendo que se van a distribuir como oficilialismo vs oposición)."
      ]
    },
    {
      "cell_type": "code",
      "metadata": {
        "colab": {
          "base_uri": "https://localhost:8080/",
          "height": 81
        },
        "id": "ej3LLtT_OJ4e",
        "outputId": "3fffe9a0-3db5-4574-b369-aa10bc6d58e4"
      },
      "source": [
        "model = create_model('kmeans', num_clusters = 2)"
      ],
      "execution_count": 27,
      "outputs": [
        {
          "output_type": "display_data",
          "data": {
            "text/html": [
              "<div>\n",
              "<style scoped>\n",
              "    .dataframe tbody tr th:only-of-type {\n",
              "        vertical-align: middle;\n",
              "    }\n",
              "\n",
              "    .dataframe tbody tr th {\n",
              "        vertical-align: top;\n",
              "    }\n",
              "\n",
              "    .dataframe thead th {\n",
              "        text-align: right;\n",
              "    }\n",
              "</style>\n",
              "<table border=\"1\" class=\"dataframe\">\n",
              "  <thead>\n",
              "    <tr style=\"text-align: right;\">\n",
              "      <th></th>\n",
              "      <th>Silhouette</th>\n",
              "      <th>Calinski-Harabasz</th>\n",
              "      <th>Davies-Bouldin</th>\n",
              "      <th>Homogeneity</th>\n",
              "      <th>Rand Index</th>\n",
              "      <th>Completeness</th>\n",
              "    </tr>\n",
              "  </thead>\n",
              "  <tbody>\n",
              "    <tr>\n",
              "      <th>0</th>\n",
              "      <td>0.1882</td>\n",
              "      <td>58.1981</td>\n",
              "      <td>2.0452</td>\n",
              "      <td>0</td>\n",
              "      <td>0</td>\n",
              "      <td>0</td>\n",
              "    </tr>\n",
              "  </tbody>\n",
              "</table>\n",
              "</div>"
            ],
            "text/plain": [
              "   Silhouette  Calinski-Harabasz  ...  Rand Index  Completeness\n",
              "0      0.1882            58.1981  ...           0             0\n",
              "\n",
              "[1 rows x 6 columns]"
            ]
          },
          "metadata": {}
        }
      ]
    },
    {
      "cell_type": "markdown",
      "metadata": {
        "id": "J_ObyHFrUkPn"
      },
      "source": [
        "Utilizando plot_model pycaret nos permite representar gráficamente los clusters en dos dimensiones, utilizando PCA. PCA (Principal Component Analysis) es una técnica utilizada para reducir la dimensionalidad rotando los ejes del dataset (más info en https://machinelearningmastery.com/principal-components-analysis-for-dimensionality-reduction-in-python/).\n",
        "De esta manera podemos ver gráficamente la cercanía en el comportamiento de las votaciones de cada diputado. Al correrlo en el google colab pueden utilizar el gráfico interactivo para ver el nombre de cada diputado, representado por un punto. El color indica el cluster al que pertenece."
      ]
    },
    {
      "cell_type": "code",
      "metadata": {
        "colab": {
          "base_uri": "https://localhost:8080/",
          "height": 617
        },
        "id": "TdMqSgzSOPWV",
        "outputId": "6da0077f-dca6-4a1f-b0e6-5c2fb8c41948"
      },
      "source": [
        "plot_model(model, 'cluster', label = False)"
      ],
      "execution_count": 28,
      "outputs": [
        {
          "output_type": "display_data",
          "data": {
            "text/html": [
              "<html>\n",
              "<head><meta charset=\"utf-8\" /></head>\n",
              "<body>\n",
              "    <div>\n",
              "            <script src=\"https://cdnjs.cloudflare.com/ajax/libs/mathjax/2.7.5/MathJax.js?config=TeX-AMS-MML_SVG\"></script><script type=\"text/javascript\">if (window.MathJax) {MathJax.Hub.Config({SVG: {font: \"STIX-Web\"}});}</script>\n",
              "                <script type=\"text/javascript\">window.PlotlyConfig = {MathJaxConfig: 'local'};</script>\n",
              "        <script src=\"https://cdn.plot.ly/plotly-latest.min.js\"></script>    \n",
              "            <div id=\"7e59a68e-29e0-4540-8900-9232c41524d7\" class=\"plotly-graph-div\" style=\"height:600px; width:100%;\"></div>\n",
              "            <script type=\"text/javascript\">\n",
              "                \n",
              "                    window.PLOTLYENV=window.PLOTLYENV || {};\n",
              "                    \n",
              "                if (document.getElementById(\"7e59a68e-29e0-4540-8900-9232c41524d7\")) {\n",
              "                    Plotly.newPlot(\n",
              "                        '7e59a68e-29e0-4540-8900-9232c41524d7',\n",
              "                        [{\"customdata\": [[\"LLARYORA Mart\\u00edn Miguel\"], [\"KOSINER Pablo Francisco Juan\"], [\"KRONEBERGER Daniel Ricardo\"], [\"LASPINA Luciano Andr\\u00e9s\"], [\"LEHMANN Mar\\u00eda Lucila\"], [\"LLANOS MASSA Ana Mar\\u00eda\"], [\"LOUSTEAU Mart\\u00edn\"], [\"KIRCHNER M\\u00e1ximo Carlos\"], [\"L\\u00d3PEZ Juan Manuel\"], [\"MARCUCCI Hugo Mar\\u00eda\"], [\"MARTIARENA Jos\\u00e9 Luis\"], [\"MEDINA Gladys\"], [\"MENNA Gustavo\"], [\"MERCADO Ver\\u00f3nica Elizabeth\"], [\"MIRANDA Pedro Rub\\u00e9n\"], [\"MAC\\u00cdAS Oscar Alberto\"], [\"KICILLOF Axel\"], [\"IGON Santiago Nicol\\u00e1s\"], [\"IGLESIAS Fernando Adolfo\"], [\"FERNANDEZ LANGAN Ezequiel\"], [\"FERNANDEZ PATRI Gustavo Ramiro\"], [\"FERREYRA Araceli Susana Del Rosario\"], [\"FILMUS Daniel\"], [\"FRANCO Jorge Daniel\"], [\"FURLAN Francisco Abel\"], [\"GINOCCHIO Silvana Micaela\"], [\"GOICOECHEA Horacio\"], [\"GONZ\\u00c1LEZ \\u00c1lvaro Gustavo\"], [\"GRANA Adri\\u00e1n Eduardo\"], [\"GRANDE Mart\\u00edn\"], [\"GRANDINETTI Alejandro Ariel\"], [\"GUERIN Mar\\u00eda Isabel\"], [\"HUCZAK Stella Maris\"], [\"HUMMEL Astrid\"], [\"MONALDI Osmar\"], [\"MONTENEGRO Guillermo Trist\\u00e1n\"], [\"MONZ\\u00d3 Emilio\"], [\"MORALES Flavia\"], [\"SAHAD Julio Enrique\"], [\"SANTILL\\u00c1N Walter Marcelo\"], [\"SAPAG Alma Liliana\"], [\"SCAGLIA Gisela\"], [\"SCHLOTTHAUER Monica Leticia\"], [\"SCIOLI Daniel\"], [\"SOLANAS Julio Rodolfo\"], [\"SORIA Mar\\u00eda Emilia\"], [\"TAILHADE Luis Rodolfo\"], [\"TERADA Alicia\"], [\"TONELLI Pablo Gabriel\"], [\"TORELLO Pablo\"], [\"VIGO Alejandra Mar\\u00eda\"], [\"VILLAVICENCIO Mar\\u00eda Teresita\"], [\"WISKY Sergio Javier\"], [\"RODENAS Alejandra\"], [\"FERNANDEZ Carlos Alberto\"], [\"REYES Roxana Nahir\"], [\"RAVERTA Mar\\u00eda Fernanda\"], [\"MORALES Mariana Elizabet\"], [\"MOYANO Juan Facundo\"], [\"NANNI Miguel\"], [\"NEGRI Mario Ra\\u00fal\"], [\"NU\\u00d1EZ Jos\\u00e9 Carlos\"], [\"OLIVETO LAGO Paula Mariana\"], [\"OLMEDO Alfredo Horacio\"], [\"PE\\u00d1ALOZA MARIANETTI Mar\\u00eda Florencia\"], [\"PICCOLOMINI Mar\\u00eda Carla\"], [\"PIETRAGALLA CORTI Horacio\"], [\"PITIOT Carla Betina\"], [\"POLLEDO Carmen\"], [\"P\\u00c9REZ Mart\\u00edn Alejandro\"], [\"QUETGLAS Fabio Jos\\u00e9\"], [\"RAUSCHENBERGER Ariel\"], [\"REGIDOR BELLEDONE Estela Mercedes\"], [\"FELIX Omar\"], [\"YEDLIN Pablo Ra\\u00fal\"], [\"BURGOS Mar\\u00eda Gabriela\"], [\"DE MENDIGUREN Jos\\u00e9 Ignacio\"], [\"ALLENDE Walberto Enrique\"], [\"DAVID Javier\"], [\"C\\u00c1CERES Eduardo Augusto\"], [\"CRESTO Mayda\"], [\"CASTRO Sandra Daniela\"], [\"CAROL Analuz Ail\\u00e9n\"], [\"BENEDETTI Atilio Francisco Salvador\"], [\"DE PEDRO Eduardo Enrique\"], [\"CANTARD Albor Angel\"], [\"BERISSO Hern\\u00e1n\"], [\"CAMPAGNOLI Marcela\"], [\"BIANCHI Ivana Mar\\u00eda\"], [\"CABANDI\\u00c9 Juan\"], [null], [\"BRAGAGNOLO Sebasti\\u00e1n\"], [\"BRAMBILLA Sof\\u00eda\"], [\"ENRIQUEZ Jorge Ricardo\"], [\"CANO Jos\\u00e9 Manuel\"], [\"DE PONTI Lucila Mar\\u00eda\"], [\"BRIZUELA DEL MORAL Eduardo Segundo\"], [\"DEL CA\\u00d1O Nicol\\u00e1s\"], [\"DINDART Juli\\u00e1n\"], [\"DONDA P\\u00c9REZ Victoria Anal\\u00eda\"], [\"DERNA Ver\\u00f3nica\"], [\"Del PL\\u00c1 Romina\"], [\"DI ST\\u00c9FANO Daniel\"], [\"DEL\\u00da Melina Aida\"]], \"hoverlabel\": {\"namelength\": 0}, \"hovertemplate\": \"Cluster=Cluster 0<br>PCA1=%{x}<br>PCA2=%{y}<br>Feature=%{customdata[0]}\", \"legendgroup\": \"Cluster=Cluster 0\", \"marker\": {\"color\": \"#636efa\", \"opacity\": 0.5, \"symbol\": \"circle\"}, \"mode\": \"markers\", \"name\": \"Cluster=Cluster 0\", \"showlegend\": true, \"textposition\": \"top center\", \"type\": \"scatter\", \"x\": [5.416823387145996, 2.875722646713257, 0.3911851942539215, 2.260768413543701, 4.761203289031982, 3.2143759727478027, 0.9267318844795227, 0.46193477511405945, 5.490638732910156, 0.6878175735473633, 0.7886986136436462, 6.270318508148193, -0.11609751731157303, 6.01318883895874, 0.7894613742828369, 5.964903831481934, 2.4928770065307617, 1.5220340490341187, 6.290694236755371, 0.5055640339851379, 4.491137981414795, 3.120103597640991, 3.578277826309204, 2.106210947036743, 1.8215203285217285, 3.187106132507324, 2.2659902572631836, 2.281327962875366, 3.578580617904663, 2.1808035373687744, 0.41688230633735657, 5.701395511627197, 0.4123471975326538, 1.8605148792266846, 6.80635929107666, 0.7174152135848999, 2.2050681114196777, 1.7493244409561157, 3.1258537769317627, 4.135412693023682, 0.17482595145702362, 1.4108659029006958, 1.779015064239502, 2.762899875640869, 5.884319305419922, 2.0868749618530273, 1.6363999843597412, 4.105984687805176, 1.383296012878418, 0.14617225527763367, 3.5299417972564697, 2.625803232192993, 5.037463665008545, 3.0605053901672363, 0.4853048324584961, 2.992668628692627, 6.236627578735352, 6.741975784301758, 3.7558000087738037, 0.6479535698890686, 4.344460487365723, -0.22869668900966644, 2.450815439224243, 5.06322717666626, 2.297285556793213, 5.610595226287842, 0.17994484305381775, 2.7672011852264404, 4.24226713180542, 1.3467276096343994, -0.0743018165230751, 2.2228899002075195, 2.363252878189087, 5.865018367767334, 5.075995445251465, -0.19786202907562256, 6.80635929107666, 3.2297375202178955, 5.5393242835998535, 3.4617726802825928, 4.2581329345703125, 1.9708751440048218, 4.174099922180176, 2.5772390365600586, 2.472742795944214, 1.3022923469543457, 3.54068922996521, 0.44513851404190063, 2.177877187728882, 2.019430160522461, 4.36701774597168, 5.0084381103515625, 4.752654075622559, 4.849824905395508, 1.3871424198150635, 1.3467276096343994, 3.995903968811035, 1.724730134010315, 3.115981340408325, 5.12326717376709, 4.23472785949707, 6.819820880889893, 1.8318156003952026, 4.30417013168335], \"xaxis\": \"x\", \"y\": [1.3085771799087524, -3.614366054534912, 1.1147722005844116, 2.2627713680267334, 3.080674409866333, -3.801132917404175, -4.4136152267456055, -0.6223320960998535, 3.1273913383483887, -0.1334572583436966, -0.10737571120262146, 0.645258367061615, -1.2300355434417725, 0.3171140253543854, 0.3842880129814148, 0.017580652609467506, -2.3926162719726562, -2.184169292449951, 1.5727286338806152, -4.166601181030273, 2.9296741485595703, 4.350111961364746, -2.218468427658081, 2.0453240871429443, -3.9652740955352783, -2.8445584774017334, 0.41651901602745056, 3.1021318435668945, -2.3415367603302, -4.044841766357422, -0.20193235576152802, 2.570708751678467, 2.2187767028808594, -3.697880744934082, 1.7531511783599854, 0.6239729523658752, -0.6116678714752197, -3.554919958114624, -2.822620391845703, -0.8852366805076599, -1.0134044885635376, -4.090007305145264, -1.0708355903625488, 1.6449978351593018, 0.7537909150123596, 4.144809246063232, -4.332586288452148, -1.999343991279602, -3.1697866916656494, 0.2352706640958786, -2.571643352508545, -4.4536590576171875, 1.8639556169509888, -3.458259105682373, -3.1946301460266113, -3.2057557106018066, 1.5964690446853638, 1.5076757669448853, -2.168144941329956, -0.5452626943588257, 3.015561819076538, -0.9244152307510376, 0.8918275237083435, 1.7929781675338745, -4.29604959487915, 2.911747455596924, -0.7131564021110535, 1.0751839876174927, 0.7380784749984741, -3.2147929668426514, 0.8956640958786011, 3.729320764541626, -4.2253804206848145, 0.4315831959247589, 2.4415857791900635, -0.7084746360778809, 1.7531511783599854, -3.294360876083374, 0.3965522348880768, -2.4366049766540527, 2.2495851516723633, -4.1381072998046875, 2.239078998565674, 1.2485750913619995, -3.0951106548309326, -4.064674377441406, -2.7988169193267822, -0.5394909381866455, 2.333753824234009, 3.594576597213745, 2.557509660720825, -1.3869847059249878, 0.46376878023147583, 3.0781657695770264, -3.0517165660858154, -3.2147929668426514, 0.6412443518638611, -1.5003318786621094, -1.5976309776306152, 0.3767923414707184, -2.117501974105835, 1.484043002128601, -0.21167346835136414, 4.026027202606201], \"yaxis\": \"y\"}, {\"customdata\": [[\"RICCARDO Jos\\u00e9 Luis\"], [\"BANFI Karina Ver\\u00f3nica\"], [\"BASTERRA Luis Eugenio\"], [\"BAZZE Miguel \\u00c1ngel\"], [\"ABDALA DE MATARAZZO Norma Amanda\"], [\"RISTA Olga Mar\\u00eda\"], [\"RAM\\u00d3N Jos\\u00e9 Luis\"], [\"RAMOS Alejandro Ariel\"], [\"VILLALONGA Juan Carlos\"], [\"RACH QUIROGA Anal\\u00eda Alexandra\"], [\"BALDASSI H\\u00e9ctor Walter\"], [\"RODRIGUEZ Mat\\u00edas David\"], [\"RICCI Nadia Lorena\"], [\"VOLNOVICH Luana\"], [\"TUNDIS Mirta\"], [\"BEVILACQUA Gustavo\"], [null], [\"PASSO Marcela Fabiana\"], [\"PASTORI Luis Mario\"], [\"PASTORIZA Mirta Ameliana\"], [\"PEREYRA Juan Manuel\"], [\"PERTILE Elda\"], [\"P\\u00c9REZ Ra\\u00fal Joaqu\\u00edn\"], [\"PETRI Luis Alfonso\"], [null], [\"BOSSIO Diego Luis\"], [\"BORSANI Luis Gustavo\"], [\"WELLBACH Ricardo\"], [\"WECHSLER Marcelo Germ\\u00e1n\"], [\"RODRIGUEZ Rodrigo Mart\\u00edn\"], [\"WOLFF Waldo Ezequiel\"], [\"PRETTO Pedro Javier\"], [\"ROMA Carlos Gast\\u00f3n\"], [\"ROMERO Jorge Antonio\"], [\"ANSALONI Pablo Miguel\"], [\"SOL\\u00c1 Felipe Carlos\"], [\"SORAIRE Mirta Alicia\"], [\"AMADEO Eduardo Pablo\"], [\"STEFANI H\\u00e9ctor Antonio\"], [\"VERA GONZALEZ Orieta Cecilia\"], [\"SUAREZ LASTRA Facundo\"], [\"TABOADA Jorge\"], [\"ALUME SBODIO Karim Augusto\"], [\"ALONSO Laura Valeria\"], [\"VAZQUEZ Juan Benedicto\"], [\"VALLONE Andres Alberto\"], [\"VALLEJOS Mar\\u00eda Fernanda\"], [\"URROZ Paula\"], [\"AICEGA Juan\"], [\"SNOPEK Alejandro\"], [\"VILLA Natalia Soledad\"], [\"SILEY Vanesa\"], [\"SIERRA Magdalena\"], [\"ROSSI Agust\\u00edn\"], [\"ROSSO Victoria\"], [\"RUIZ ARAG\\u00d3N Jos\\u00e9 Arnaldo\"], [\"RUSSO Laura\"], [\"SAADI Gustavo Arturo\"], [\"BAHILLO Juanjo\"], [\"SALVAREZZA Roberto\"], [\"AYALA Aida Beatriz M\\u00e1xima\"], [\"AUSTIN Brenda Lis\"], [\"BRITEZ Mar\\u00eda Cristina\"], [\"SCHLERETH David Pablo\"], [\"ARROYO Daniel Fernando\"], [\"SCHMIDT LIERMANN Cornelia\"], [\"ARCE Mario Horacio\"], [\"SELVA Carlos Am\\u00e9rico\"], [\"ACERENZA Samanta Mar\\u00eda Celeste\"], [\"ASENCIO Fernando\"], [\"ESPINOZA Fernando\"], [\"OCA\\u00d1A Maria Graciela\"], [\"HORNE Silvia Renee\"], [\"HUSS Juan  Manuel\"], [\"CORREA Walter\"], [\"CONTIGIANI Luis Gustavo\"], [\"INCICCO Lucas Ciriaco\"], [\"CLERI Marcos\"], [\"CIAMPINI Jos\\u00e9 Alberto\"], [\"HERRERA Luis Beder\"], [\"CERRUTI Gabriela\"], [\"LARROQUE Andr\\u00e9s\"], [\"CASTAGNETO Carlos Daniel\"], [\"LAVAGNA Marco\"], [\"LEAVY Sergio Napole\\u00f3n\"], [\"CASSINERIO Paulo Leonardo\"], [\"LIPOVETZKY Daniel Andr\\u00e9s\"], [\"CASELLES Graciela Mar\\u00eda\"], [\"LACOSTE Jorge Enrique\"], [\"YASKY Hugo\"], [\"HERRERA Bernardo Jos\\u00e9\"], [\"GROSSO Leonardo\"], [\"ESTEVEZ Gabriela Beatriz\"], [\"ECHEGARAY Alejandro Carlos Augusto\"], [\"Del CERRO Gonzalo Pedro Antonio \"], [\"DO\\u00d1ATE Claudio Mart\\u00edn\"], [\"FLORES Danilo Adri\\u00e1n\"], [\"FLORES H\\u00e9ctor Toty\"], [\"FRANA Silvina Patricia\"], [\"HERN\\u00c1NDEZ Mart\\u00edn Osvaldo\"], [\"FREGONESE Alicia\"], [\"GARCIA Alejandro\"], [\"GARRET\\u00d3N Facundo\"], [\"GARR\\u00c9 Nilda Celia\"], [\"GAYOL Yanina Celeste\"], [\"GIOJA Jos\\u00e9 Luis\"], [\"GONZ\\u00c1LEZ Josefina Victoria\"], [\"DE VIDO Julio (Suspendido Art 70 C.N.)\"], [\"FRIZZA Gabriel Alberto\"], [null], [\"LOSPENNATO Silvia Gabriela\"], [\"CARRO Pablo\"], [\"MOLINA Karina Alejandra\"], [\"CAMPOS Javier\"], [\"MONFORT Marcelo Alejandro\"], [\"CAMA\\u00d1O Graciela\"], [\"MOREAU Cecilia\"], [\"MOREAU Leopoldo Ra\\u00fal Guido\"], [null], [\"MOIS\\u00c9S Mar\\u00eda Carolina\"], [\"MOSQUEDA Juan\"], [\"NAJUL Claudia In\\u00e9s\"], [\"BUIL Sergio Omar\"], [\"NAVARRO Graciela\"], [\"NAZARIO Adriana M\\u00f3nica\"], [\"NEDER Estela Mary del Rosario\"], [\"BUCCA Eduardo\"], [\"BR\\u00dcGGE Juan Fernando\"], [\"MU\\u00d1OZ Rosa Rosario\"], [\"LOTTO In\\u00e9s Beatriz\"], [\"MESTRE Diego Mat\\u00edas\"], [\"MENDOZA Mayra Soledad\"], [\"CARRI\\u00d3 Elisa Mar\\u00eda Avelina\"], [\"L\\u00d3PEZ KOENIG Leandro Gast\\u00f3n\"], [\"MACHA M\\u00f3nica\"], [\"CARRIZO Soledad\"], [\"MAQUIEYRA Mart\\u00edn\"], [\"CARRIZO Ana Carla\"], [\"MART\\u00cdNEZ Dar\\u00edo\"], [\"CARAMBIA Antonio Jos\\u00e9\"], [\"MART\\u00cdNEZ Silvia Alejandra\"], [\"MASIN Mar\\u00eda Lucila\"], [\"MASSETANI Vanesa Laura\"], [\"MASSOT Nicol\\u00e1s Mar\\u00eda\"], [\"MATZEN Lorena\"], [\"CARMONA Guillermo Ram\\u00f3n\"], [\"MEDINA Mart\\u00edn Nicol\\u00e1s\"], [\"MENDOZA Josefina\"], [\"MART\\u00cdNEZ VILLADA Leonor Mar\\u00eda\"], [null]], \"hoverlabel\": {\"namelength\": 0}, \"hovertemplate\": \"Cluster=Cluster 1<br>PCA1=%{x}<br>PCA2=%{y}<br>Feature=%{customdata[0]}\", \"legendgroup\": \"Cluster=Cluster 1\", \"marker\": {\"color\": \"#EF553B\", \"opacity\": 0.5, \"symbol\": \"circle\"}, \"mode\": \"markers\", \"name\": \"Cluster=Cluster 1\", \"showlegend\": true, \"textposition\": \"top center\", \"type\": \"scatter\", \"x\": [-2.878509521484375, -3.5295329093933105, 0.012047795578837395, -2.6441328525543213, -3.3724312782287598, -1.9322844743728638, -3.71254825592041, -2.1224212646484375, -0.45985010266304016, -2.8150651454925537, -2.1380491256713867, 1.702785849571228, -1.38643479347229, -2.450468063354492, -1.2107502222061157, -4.135718822479248, -3.838810920715332, -3.210731267929077, 0.19587957859039307, -0.2637697458267212, 0.9350006580352783, -4.089231491088867, -1.4477424621582031, -0.24937298893928528, -3.4154818058013916, -4.182023048400879, -3.5504164695739746, -0.24996459484100342, -3.6774821281433105, 0.9619759321212769, -0.1475123167037964, -1.855899453163147, 0.845980703830719, -3.7471585273742676, -1.544018030166626, -0.9503847360610962, -3.2279458045959473, -3.702504873275757, -3.9985580444335938, -3.9356939792633057, -1.1668130159378052, -2.783127546310425, -1.4998048543930054, -3.263719081878662, -0.1499539017677307, -1.767993688583374, -4.080359935760498, -4.165497779846191, -0.8836926817893982, -3.464493989944458, -3.0994203090667725, -3.2419352531433105, -0.6282085180282593, -1.6316924095153809, -1.0055456161499023, -3.518728494644165, -2.9970476627349854, -2.9788057804107666, -4.135718822479248, -3.686814308166504, 0.5355201959609985, -3.3891093730926514, -1.3474208116531372, -0.6501122713088989, -4.008528709411621, -1.1746777296066284, 0.055394019931554794, -1.39814293384552, -0.7652846574783325, 0.02393585629761219, -3.157642126083374, -4.235649585723877, -0.9628642201423645, -3.7628440856933594, -1.7245469093322754, -3.5544698238372803, -3.4747941493988037, -3.292681932449341, -0.5330476760864258, -3.7169690132141113, -1.7594062089920044, -1.3476215600967407, -0.3543761372566223, -1.079331874847412, -1.3455753326416016, -1.992586612701416, -3.851513385772705, -2.098001480102539, -2.747497320175171, -1.7799043655395508, -4.1582489013671875, -2.9288463592529297, -0.8862036466598511, -0.9128012657165527, -2.010080099105835, -3.4406845569610596, -2.465533971786499, -4.027005672454834, -4.006527423858643, -1.5609886646270752, -0.7387561798095703, -3.9227054119110107, -2.8004567623138428, -1.751037359237671, -3.8925158977508545, -3.418996572494507, -1.489519715309143, -2.860299587249756, -0.561354398727417, -3.4967527389526367, -0.6917591691017151, -0.15717801451683044, 0.2939367890357971, 0.005284368526190519, 0.7713828682899475, -0.28091397881507874, -1.9448000192642212, -0.5139285922050476, -4.07688570022583, -3.0472733974456787, -2.2299036979675293, -2.0971882343292236, -0.6146973371505737, -3.6487672328948975, -0.9640347361564636, -3.395237445831299, -3.981684446334839, -0.7873077988624573, -2.7620158195495605, -0.40973716974258423, 0.4622002840042114, -0.2753147482872009, -3.180607795715332, -4.249035358428955, -0.41468754410743713, 0.3950047791004181, -0.5553445816040039, -0.5201328992843628, -1.0277352333068848, -3.0544540882110596, -2.9884722232818604, -3.722766399383545, -3.40466570854187, -0.29201462864875793, -4.207928657531738, -3.490177869796753, -3.6539955139160156, 0.00429775845259428, -0.097380131483078, -2.808378219604492], \"xaxis\": \"x\", \"y\": [2.1041150093078613, 0.9036111831665039, 4.258918285369873, 1.4179259538650513, 1.9091376066207886, -3.3174057006835938, 0.6237976551055908, 0.07613717764616013, 4.647665023803711, -0.5292973518371582, -3.39057993888855, 1.460574984550476, -3.5072216987609863, -0.44287779927253723, -0.909437358379364, 0.5638013482093811, 1.0915682315826416, -1.1159485578536987, 5.017984867095947, -3.1746978759765625, 4.065913677215576, 1.116575837135315, -3.6131300926208496, 3.6437289714813232, 1.2483582496643066, 0.8066239356994629, 1.0746564865112305, 0.027529451996088028, 1.162233829498291, -0.2932572066783905, 4.048260688781738, -2.4162683486938477, 2.1210155487060547, 1.350195288658142, -2.6661407947540283, -3.625838041305542, 0.16261784732341766, 0.8074440360069275, 1.2312716245651245, 1.0225540399551392, -1.2498185634613037, 2.7292513847351074, 2.8272125720977783, 2.4467108249664307, -2.62886905670166, -1.2083256244659424, 0.7516706585884094, 0.7217852473258972, -3.4595208168029785, 1.5046175718307495, 1.4612131118774414, 1.6362688541412354, -3.438671350479126, -3.744699716567993, -3.880753517150879, -0.2975621819496155, 0.8237951993942261, 1.4670389890670776, 0.5638013482093811, 1.5202797651290894, 5.039668560028076, -0.7335135340690613, 2.1329727172851562, -3.202721118927002, 0.6494767069816589, -2.543117046356201, -1.4372745752334595, -3.671262741088867, -2.5212693214416504, 3.5670909881591797, 0.3598666489124298, 0.7268999218940735, -2.9261200428009033, 1.5623961687088013, -2.5311076641082764, 1.371419906616211, -0.5532960891723633, -0.31912872195243835, -2.9811394214630127, 0.8332560658454895, -2.972078323364258, -2.5706305503845215, -3.6057674884796143, -0.1356199085712433, -3.301436424255371, -3.3423986434936523, 1.0272150039672852, -3.3804633617401123, -0.05136413872241974, -3.4482719898223877, 1.0419503450393677, 0.3328418731689453, 4.320489883422852, -3.3353431224823, 3.174912691116333, 0.23123127222061157, -0.5582794547080994, 1.1146247386932373, 1.2543784379959106, -2.6870028972625732, 5.060791015625, 0.6935327649116516, -2.129995107650757, -3.063311815261841, 1.3118607997894287, 1.3232347965240479, 4.281880855560303, -0.3502214550971985, 5.030431747436523, -0.01890740729868412, 2.0799431800842285, -3.2539823055267334, 5.054109573364258, 4.426112174987793, 3.9856748580932617, 4.458904266357422, -2.950247287750244, -0.39126306772232056, 0.4688216745853424, 1.7209899425506592, 0.014670333825051785, 0.30834606289863586, -3.36139178276062, 1.0569019317626953, 0.03651391342282295, -0.043817732483148575, 1.0267558097839355, 0.14456264674663544, 0.24699321389198303, 4.665389537811279, 5.009726524353027, 4.573286533355713, 0.11997450143098831, 0.7339234352111816, 5.143927574157715, 2.2928080558776855, -3.2434754371643066, -2.641396999359131, -3.4485676288604736, 0.8270668387413025, -0.4195847511291504, 0.13095632195472717, -0.8265684843063354, 4.762838840484619, 0.5844812393188477, 1.0706233978271484, 0.5023446083068848, -2.126243829727173, 3.89260196685791, 0.4915354251861572], \"yaxis\": \"y\"}],\n",
              "                        {\"height\": 600, \"legend\": {\"tracegroupgap\": 0}, \"margin\": {\"t\": 60}, \"plot_bgcolor\": \"rgb(240,240,240)\", \"template\": {\"data\": {\"bar\": [{\"error_x\": {\"color\": \"#2a3f5f\"}, \"error_y\": {\"color\": \"#2a3f5f\"}, \"marker\": {\"line\": {\"color\": \"#E5ECF6\", \"width\": 0.5}}, \"type\": \"bar\"}], \"barpolar\": [{\"marker\": {\"line\": {\"color\": \"#E5ECF6\", \"width\": 0.5}}, \"type\": \"barpolar\"}], \"carpet\": [{\"aaxis\": {\"endlinecolor\": \"#2a3f5f\", \"gridcolor\": \"white\", \"linecolor\": \"white\", \"minorgridcolor\": \"white\", \"startlinecolor\": \"#2a3f5f\"}, \"baxis\": {\"endlinecolor\": \"#2a3f5f\", \"gridcolor\": \"white\", \"linecolor\": \"white\", \"minorgridcolor\": \"white\", \"startlinecolor\": \"#2a3f5f\"}, \"type\": \"carpet\"}], \"choropleth\": [{\"colorbar\": {\"outlinewidth\": 0, \"ticks\": \"\"}, \"type\": \"choropleth\"}], \"contour\": [{\"colorbar\": {\"outlinewidth\": 0, \"ticks\": \"\"}, \"colorscale\": [[0.0, \"#0d0887\"], [0.1111111111111111, \"#46039f\"], [0.2222222222222222, \"#7201a8\"], [0.3333333333333333, \"#9c179e\"], [0.4444444444444444, \"#bd3786\"], [0.5555555555555556, \"#d8576b\"], [0.6666666666666666, \"#ed7953\"], [0.7777777777777778, \"#fb9f3a\"], [0.8888888888888888, \"#fdca26\"], [1.0, \"#f0f921\"]], \"type\": \"contour\"}], \"contourcarpet\": [{\"colorbar\": {\"outlinewidth\": 0, \"ticks\": \"\"}, \"type\": \"contourcarpet\"}], \"heatmap\": [{\"colorbar\": {\"outlinewidth\": 0, \"ticks\": \"\"}, \"colorscale\": [[0.0, \"#0d0887\"], [0.1111111111111111, \"#46039f\"], [0.2222222222222222, \"#7201a8\"], [0.3333333333333333, \"#9c179e\"], [0.4444444444444444, \"#bd3786\"], [0.5555555555555556, \"#d8576b\"], [0.6666666666666666, \"#ed7953\"], [0.7777777777777778, \"#fb9f3a\"], [0.8888888888888888, \"#fdca26\"], [1.0, \"#f0f921\"]], \"type\": \"heatmap\"}], \"heatmapgl\": [{\"colorbar\": {\"outlinewidth\": 0, \"ticks\": \"\"}, \"colorscale\": [[0.0, \"#0d0887\"], [0.1111111111111111, \"#46039f\"], [0.2222222222222222, \"#7201a8\"], [0.3333333333333333, \"#9c179e\"], [0.4444444444444444, \"#bd3786\"], [0.5555555555555556, \"#d8576b\"], [0.6666666666666666, \"#ed7953\"], [0.7777777777777778, \"#fb9f3a\"], [0.8888888888888888, \"#fdca26\"], [1.0, \"#f0f921\"]], \"type\": \"heatmapgl\"}], \"histogram\": [{\"marker\": {\"colorbar\": {\"outlinewidth\": 0, \"ticks\": \"\"}}, \"type\": \"histogram\"}], \"histogram2d\": [{\"colorbar\": {\"outlinewidth\": 0, \"ticks\": \"\"}, \"colorscale\": [[0.0, \"#0d0887\"], [0.1111111111111111, \"#46039f\"], [0.2222222222222222, \"#7201a8\"], [0.3333333333333333, \"#9c179e\"], [0.4444444444444444, \"#bd3786\"], [0.5555555555555556, \"#d8576b\"], [0.6666666666666666, \"#ed7953\"], [0.7777777777777778, \"#fb9f3a\"], [0.8888888888888888, \"#fdca26\"], [1.0, \"#f0f921\"]], \"type\": \"histogram2d\"}], \"histogram2dcontour\": [{\"colorbar\": {\"outlinewidth\": 0, \"ticks\": \"\"}, \"colorscale\": [[0.0, \"#0d0887\"], [0.1111111111111111, \"#46039f\"], [0.2222222222222222, \"#7201a8\"], [0.3333333333333333, \"#9c179e\"], [0.4444444444444444, \"#bd3786\"], [0.5555555555555556, \"#d8576b\"], [0.6666666666666666, \"#ed7953\"], [0.7777777777777778, \"#fb9f3a\"], [0.8888888888888888, \"#fdca26\"], [1.0, \"#f0f921\"]], \"type\": \"histogram2dcontour\"}], \"mesh3d\": [{\"colorbar\": {\"outlinewidth\": 0, \"ticks\": \"\"}, \"type\": \"mesh3d\"}], \"parcoords\": [{\"line\": {\"colorbar\": {\"outlinewidth\": 0, \"ticks\": \"\"}}, \"type\": \"parcoords\"}], \"pie\": [{\"automargin\": true, \"type\": \"pie\"}], \"scatter\": [{\"marker\": {\"colorbar\": {\"outlinewidth\": 0, \"ticks\": \"\"}}, \"type\": \"scatter\"}], \"scatter3d\": [{\"line\": {\"colorbar\": {\"outlinewidth\": 0, \"ticks\": \"\"}}, \"marker\": {\"colorbar\": {\"outlinewidth\": 0, \"ticks\": \"\"}}, \"type\": \"scatter3d\"}], \"scattercarpet\": [{\"marker\": {\"colorbar\": {\"outlinewidth\": 0, \"ticks\": \"\"}}, \"type\": \"scattercarpet\"}], \"scattergeo\": [{\"marker\": {\"colorbar\": {\"outlinewidth\": 0, \"ticks\": \"\"}}, \"type\": \"scattergeo\"}], \"scattergl\": [{\"marker\": {\"colorbar\": {\"outlinewidth\": 0, \"ticks\": \"\"}}, \"type\": \"scattergl\"}], \"scattermapbox\": [{\"marker\": {\"colorbar\": {\"outlinewidth\": 0, \"ticks\": \"\"}}, \"type\": \"scattermapbox\"}], \"scatterpolar\": [{\"marker\": {\"colorbar\": {\"outlinewidth\": 0, \"ticks\": \"\"}}, \"type\": \"scatterpolar\"}], \"scatterpolargl\": [{\"marker\": {\"colorbar\": {\"outlinewidth\": 0, \"ticks\": \"\"}}, \"type\": \"scatterpolargl\"}], \"scatterternary\": [{\"marker\": {\"colorbar\": {\"outlinewidth\": 0, \"ticks\": \"\"}}, \"type\": \"scatterternary\"}], \"surface\": [{\"colorbar\": {\"outlinewidth\": 0, \"ticks\": \"\"}, \"colorscale\": [[0.0, \"#0d0887\"], [0.1111111111111111, \"#46039f\"], [0.2222222222222222, \"#7201a8\"], [0.3333333333333333, \"#9c179e\"], [0.4444444444444444, \"#bd3786\"], [0.5555555555555556, \"#d8576b\"], [0.6666666666666666, \"#ed7953\"], [0.7777777777777778, \"#fb9f3a\"], [0.8888888888888888, \"#fdca26\"], [1.0, \"#f0f921\"]], \"type\": \"surface\"}], \"table\": [{\"cells\": {\"fill\": {\"color\": \"#EBF0F8\"}, \"line\": {\"color\": \"white\"}}, \"header\": {\"fill\": {\"color\": \"#C8D4E3\"}, \"line\": {\"color\": \"white\"}}, \"type\": \"table\"}]}, \"layout\": {\"annotationdefaults\": {\"arrowcolor\": \"#2a3f5f\", \"arrowhead\": 0, \"arrowwidth\": 1}, \"coloraxis\": {\"colorbar\": {\"outlinewidth\": 0, \"ticks\": \"\"}}, \"colorscale\": {\"diverging\": [[0, \"#8e0152\"], [0.1, \"#c51b7d\"], [0.2, \"#de77ae\"], [0.3, \"#f1b6da\"], [0.4, \"#fde0ef\"], [0.5, \"#f7f7f7\"], [0.6, \"#e6f5d0\"], [0.7, \"#b8e186\"], [0.8, \"#7fbc41\"], [0.9, \"#4d9221\"], [1, \"#276419\"]], \"sequential\": [[0.0, \"#0d0887\"], [0.1111111111111111, \"#46039f\"], [0.2222222222222222, \"#7201a8\"], [0.3333333333333333, \"#9c179e\"], [0.4444444444444444, \"#bd3786\"], [0.5555555555555556, \"#d8576b\"], [0.6666666666666666, \"#ed7953\"], [0.7777777777777778, \"#fb9f3a\"], [0.8888888888888888, \"#fdca26\"], [1.0, \"#f0f921\"]], \"sequentialminus\": [[0.0, \"#0d0887\"], [0.1111111111111111, \"#46039f\"], [0.2222222222222222, \"#7201a8\"], [0.3333333333333333, \"#9c179e\"], [0.4444444444444444, \"#bd3786\"], [0.5555555555555556, \"#d8576b\"], [0.6666666666666666, \"#ed7953\"], [0.7777777777777778, \"#fb9f3a\"], [0.8888888888888888, \"#fdca26\"], [1.0, \"#f0f921\"]]}, \"colorway\": [\"#636efa\", \"#EF553B\", \"#00cc96\", \"#ab63fa\", \"#FFA15A\", \"#19d3f3\", \"#FF6692\", \"#B6E880\", \"#FF97FF\", \"#FECB52\"], \"font\": {\"color\": \"#2a3f5f\"}, \"geo\": {\"bgcolor\": \"white\", \"lakecolor\": \"white\", \"landcolor\": \"#E5ECF6\", \"showlakes\": true, \"showland\": true, \"subunitcolor\": \"white\"}, \"hoverlabel\": {\"align\": \"left\"}, \"hovermode\": \"closest\", \"mapbox\": {\"style\": \"light\"}, \"paper_bgcolor\": \"white\", \"plot_bgcolor\": \"#E5ECF6\", \"polar\": {\"angularaxis\": {\"gridcolor\": \"white\", \"linecolor\": \"white\", \"ticks\": \"\"}, \"bgcolor\": \"#E5ECF6\", \"radialaxis\": {\"gridcolor\": \"white\", \"linecolor\": \"white\", \"ticks\": \"\"}}, \"scene\": {\"xaxis\": {\"backgroundcolor\": \"#E5ECF6\", \"gridcolor\": \"white\", \"gridwidth\": 2, \"linecolor\": \"white\", \"showbackground\": true, \"ticks\": \"\", \"zerolinecolor\": \"white\"}, \"yaxis\": {\"backgroundcolor\": \"#E5ECF6\", \"gridcolor\": \"white\", \"gridwidth\": 2, \"linecolor\": \"white\", \"showbackground\": true, \"ticks\": \"\", \"zerolinecolor\": \"white\"}, \"zaxis\": {\"backgroundcolor\": \"#E5ECF6\", \"gridcolor\": \"white\", \"gridwidth\": 2, \"linecolor\": \"white\", \"showbackground\": true, \"ticks\": \"\", \"zerolinecolor\": \"white\"}}, \"shapedefaults\": {\"line\": {\"color\": \"#2a3f5f\"}}, \"ternary\": {\"aaxis\": {\"gridcolor\": \"white\", \"linecolor\": \"white\", \"ticks\": \"\"}, \"baxis\": {\"gridcolor\": \"white\", \"linecolor\": \"white\", \"ticks\": \"\"}, \"bgcolor\": \"#E5ECF6\", \"caxis\": {\"gridcolor\": \"white\", \"linecolor\": \"white\", \"ticks\": \"\"}}, \"title\": {\"x\": 0.05}, \"xaxis\": {\"automargin\": true, \"gridcolor\": \"white\", \"linecolor\": \"white\", \"ticks\": \"\", \"title\": {\"standoff\": 15}, \"zerolinecolor\": \"white\", \"zerolinewidth\": 2}, \"yaxis\": {\"automargin\": true, \"gridcolor\": \"white\", \"linecolor\": \"white\", \"ticks\": \"\", \"title\": {\"standoff\": 15}, \"zerolinecolor\": \"white\", \"zerolinewidth\": 2}}}, \"title\": {\"text\": \"2D Cluster PCA Plot\"}, \"xaxis\": {\"anchor\": \"y\", \"domain\": [0.0, 1.0], \"title\": {\"text\": \"PCA1\"}}, \"yaxis\": {\"anchor\": \"x\", \"domain\": [0.0, 1.0], \"title\": {\"text\": \"PCA2\"}}},\n",
              "                        {\"responsive\": true}\n",
              "                    ).then(function(){\n",
              "                            \n",
              "var gd = document.getElementById('7e59a68e-29e0-4540-8900-9232c41524d7');\n",
              "var x = new MutationObserver(function (mutations, observer) {{\n",
              "        var display = window.getComputedStyle(gd).display;\n",
              "        if (!display || display === 'none') {{\n",
              "            console.log([gd, 'removed!']);\n",
              "            Plotly.purge(gd);\n",
              "            observer.disconnect();\n",
              "        }}\n",
              "}});\n",
              "\n",
              "// Listen for the removal of the full notebook cells\n",
              "var notebookContainer = gd.closest('#notebook-container');\n",
              "if (notebookContainer) {{\n",
              "    x.observe(notebookContainer, {childList: true});\n",
              "}}\n",
              "\n",
              "// Listen for the clearing of the current output cell\n",
              "var outputEl = gd.closest('.output');\n",
              "if (outputEl) {{\n",
              "    x.observe(outputEl, {childList: true});\n",
              "}}\n",
              "\n",
              "                        })\n",
              "                };\n",
              "                \n",
              "            </script>\n",
              "        </div>\n",
              "</body>\n",
              "</html>"
            ]
          },
          "metadata": {}
        }
      ]
    },
    {
      "cell_type": "markdown",
      "metadata": {
        "id": "AVSGDEv0oiIw"
      },
      "source": [
        "Nota: al realizar reducción dimensional también se debe tener en cuenta que se pierde poder explicativo. En este dataset, el PCA para dos dimensiones explica aproximadamente un 42% de la varianza total."
      ]
    },
    {
      "cell_type": "markdown",
      "metadata": {
        "id": "Qhz71Toel3A2"
      },
      "source": [
        "Pycaret trae una serie de opciones para analizar gráficamente distintos aspectos del modelo. Por ejemplo podemos usar la opción \"elbow\". Elbow es un método heurístico que ayuda a encontrar el número apropiado de clusters en el dataset. No pareciese apreciarse un valor óptimo a simple vista, lo cual es coincidente con lo que vemos en el gráfico anterior, que no hay clusters claros.\n",
        "\n",
        "Si quieren leer más sobre esta técnica pueden hacerlo en https://blog.cambridgespark.com/how-to-determine-the-optimal-number-of-clusters-for-k-means-clustering-14f27070048f"
      ]
    },
    {
      "cell_type": "code",
      "metadata": {
        "colab": {
          "base_uri": "https://localhost:8080/",
          "height": 376,
          "referenced_widgets": [
            "99931da2c86f40a9a9f4a2f827dfc51d",
            "e8ec34d36cb8439c8da591b7c429763f",
            "247e65df14a54fbcaab9949c4dcb3d10"
          ]
        },
        "id": "bQsMxZeok-y0",
        "outputId": "4ce980f8-83e4-418a-cd47-a7a4cc6bf959"
      },
      "source": [
        "plot_model(model, plot = 'elbow')"
      ],
      "execution_count": 29,
      "outputs": [
        {
          "output_type": "display_data",
          "data": {
            "image/png": "[encoded data removed]",
            "text/plain": [
              "<Figure size 576x396 with 1 Axes>"
            ]
          },
          "metadata": {}
        }
      ]
    },
    {
      "cell_type": "markdown",
      "metadata": {
        "id": "KJ3OmDl5oWl1"
      },
      "source": [
        "Finalmente, si queremos guardar el dataset indicando a qué cluster pertenece cada diputado podemos utilizar la función predict_model."
      ]
    },
    {
      "cell_type": "code",
      "metadata": {
        "id": "60zrjdtuoMsZ"
      },
      "source": [
        "predictions = predict_model(model, data = df)"
      ],
      "execution_count": 30,
      "outputs": []
    },
    {
      "cell_type": "code",
      "metadata": {
        "colab": {
          "base_uri": "https://localhost:8080/",
          "height": 206
        },
        "id": "In2sGjqRoQm5",
        "outputId": "6d34c2a8-b515-43d4-b30a-f7940f4a6098"
      },
      "source": [
        "predictions[[\"diputado_nombre\", \"Cluster\"]].head()"
      ],
      "execution_count": 31,
      "outputs": [
        {
          "output_type": "execute_result",
          "data": {
            "text/html": [
              "<div>\n",
              "<style scoped>\n",
              "    .dataframe tbody tr th:only-of-type {\n",
              "        vertical-align: middle;\n",
              "    }\n",
              "\n",
              "    .dataframe tbody tr th {\n",
              "        vertical-align: top;\n",
              "    }\n",
              "\n",
              "    .dataframe thead th {\n",
              "        text-align: right;\n",
              "    }\n",
              "</style>\n",
              "<table border=\"1\" class=\"dataframe\">\n",
              "  <thead>\n",
              "    <tr style=\"text-align: right;\">\n",
              "      <th>index</th>\n",
              "      <th>diputado_nombre</th>\n",
              "      <th>Cluster</th>\n",
              "    </tr>\n",
              "  </thead>\n",
              "  <tbody>\n",
              "    <tr>\n",
              "      <th>2</th>\n",
              "      <td>ABDALA DE MATARAZZO Norma Amanda</td>\n",
              "      <td>Cluster 1</td>\n",
              "    </tr>\n",
              "    <tr>\n",
              "      <th>3</th>\n",
              "      <td>ACERENZA Samanta María Celeste</td>\n",
              "      <td>Cluster 1</td>\n",
              "    </tr>\n",
              "    <tr>\n",
              "      <th>4</th>\n",
              "      <td>AICEGA Juan</td>\n",
              "      <td>Cluster 1</td>\n",
              "    </tr>\n",
              "    <tr>\n",
              "      <th>5</th>\n",
              "      <td>ALLENDE Walberto Enrique</td>\n",
              "      <td>Cluster 1</td>\n",
              "    </tr>\n",
              "    <tr>\n",
              "      <th>6</th>\n",
              "      <td>ALONSO Laura Valeria</td>\n",
              "      <td>Cluster 1</td>\n",
              "    </tr>\n",
              "  </tbody>\n",
              "</table>\n",
              "</div>"
            ],
            "text/plain": [
              "index                   diputado_nombre    Cluster\n",
              "2      ABDALA DE MATARAZZO Norma Amanda  Cluster 1\n",
              "3        ACERENZA Samanta María Celeste  Cluster 1\n",
              "4                           AICEGA Juan  Cluster 1\n",
              "5              ALLENDE Walberto Enrique  Cluster 1\n",
              "6                  ALONSO Laura Valeria  Cluster 1"
            ]
          },
          "metadata": {},
          "execution_count": 31
        }
      ]
    },
    {
      "cell_type": "markdown",
      "metadata": {
        "id": "e9fiAmSI1Qen"
      },
      "source": [
        "## Reflexiones finales"
      ]
    },
    {
      "cell_type": "markdown",
      "metadata": {
        "id": "iDtPu5Qu1Qly"
      },
      "source": [
        "En este post pudimos ver rápidamente una forma de agrupar a los diputados según sus votos en las diferentes sesiones, pero es importante hacer algunas aclaraciones: \n",
        "* Sólo tomamos el periodo 137, lo correcto sería sumar también la sesión 136 para tener dos años de votaciones para los mismos diputados.\n",
        "* Podríamos tomar distintos periodos y ver si se observa una polarización más fuerte en las votaciones.\n",
        "* Propusimos la utilización de 2 clusters esperando una distribución oficialismo vs oposición, pero como pudimos ver (tanto visualmente en el gráfico de PCA1 vs PCA como en el gráfico de Elbow) pareciese que 2 clusters no logran un agrupamiento claro.\n",
        "* Se trata de un análisis rápido para mostrar lo que se puede hacer utilizando Pycaret en pocas líneas de código (el armado del modelo solo fueron 2 líneas, el resto fue exploración del dataset e interpretación de los resultados).\n",
        "* Este análisis y el post fueron realizados en una tarde, así que posiblemente tengan errores y cosas a mejorar, cualquier recomendación es más que bienvenida.\n"
      ]
    },
    {
      "cell_type": "markdown",
      "metadata": {
        "id": "3nzolSe4OTy5"
      },
      "source": [
        "## Extra: Exploración PCA"
      ]
    },
    {
      "cell_type": "code",
      "metadata": {
        "colab": {
          "base_uri": "https://localhost:8080/"
        },
        "id": "dKenqBWOOQNp",
        "outputId": "a1839d93-49ee-426d-b016-208eb8689a97"
      },
      "source": [
        "from sklearn.decomposition import PCA\n",
        "X = get_config(\"X\")\n",
        "pca = PCA(n_components=5)\n",
        "pca.fit(X)\n",
        "print(pca.explained_variance_ratio_)"
      ],
      "execution_count": 32,
      "outputs": [
        {
          "output_type": "stream",
          "name": "stdout",
          "text": [
            "[0.25015193 0.17489001 0.10892794 0.05247029 0.04665952]\n"
          ]
        }
      ]
    },
    {
      "cell_type": "code",
      "metadata": {
        "colab": {
          "base_uri": "https://localhost:8080/"
        },
        "id": "saORZD50-68H",
        "outputId": "d2806c25-d666-44cf-96a5-9fffb346140c"
      },
      "source": [
        "pca.explained_variance_ratio_[0] + pca.explained_variance_ratio_[1]"
      ],
      "execution_count": 33,
      "outputs": [
        {
          "output_type": "execute_result",
          "data": {
            "text/plain": [
              "0.42504194"
            ]
          },
          "metadata": {},
          "execution_count": 33
        }
      ]
    }
  ]
}